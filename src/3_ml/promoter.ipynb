{
 "cells": [
  {
   "cell_type": "code",
   "execution_count": 3,
   "metadata": {},
   "outputs": [
    {
     "name": "stdout",
     "output_type": "stream",
     "text": [
      "Defaulting to user installation because normal site-packages is not writeable\n",
      "Requirement already satisfied: torch in /nfs/sw/jupyter/jupyter3-4.1/lib/python3.7/site-packages (1.12.1)\n",
      "Requirement already satisfied: typing-extensions in /nfs/sw/jupyter/jupyter3-4.1/lib/python3.7/site-packages (from torch) (4.4.0)\n",
      "\n",
      "\u001b[1m[\u001b[0m\u001b[34;49mnotice\u001b[0m\u001b[1;39;49m]\u001b[0m\u001b[39;49m A new release of pip available: \u001b[0m\u001b[31;49m22.3\u001b[0m\u001b[39;49m -> \u001b[0m\u001b[32;49m23.0.1\u001b[0m\n",
      "\u001b[1m[\u001b[0m\u001b[34;49mnotice\u001b[0m\u001b[1;39;49m]\u001b[0m\u001b[39;49m To update, run: \u001b[0m\u001b[32;49mpip install --upgrade pip\u001b[0m\n"
     ]
    }
   ],
   "source": [
    "!pip3 install torch"
   ]
  },
  {
   "cell_type": "code",
   "execution_count": 1,
   "metadata": {},
   "outputs": [],
   "source": [
    "import os\n",
    "import glob\n",
    "import numpy as np\n",
    "import pandas as pd"
   ]
  },
  {
   "cell_type": "code",
   "execution_count": 2,
   "metadata": {},
   "outputs": [],
   "source": [
    "data = pd.read_csv(\"./merged_allData_promoters.csv\")"
   ]
  },
  {
   "cell_type": "code",
   "execution_count": 3,
   "metadata": {},
   "outputs": [
    {
     "data": {
      "text/html": [
       "<div>\n",
       "<style scoped>\n",
       "    .dataframe tbody tr th:only-of-type {\n",
       "        vertical-align: middle;\n",
       "    }\n",
       "\n",
       "    .dataframe tbody tr th {\n",
       "        vertical-align: top;\n",
       "    }\n",
       "\n",
       "    .dataframe thead th {\n",
       "        text-align: right;\n",
       "    }\n",
       "</style>\n",
       "<table border=\"1\" class=\"dataframe\">\n",
       "  <thead>\n",
       "    <tr style=\"text-align: right;\">\n",
       "      <th></th>\n",
       "      <th>Unnamed: 0</th>\n",
       "      <th>chr</th>\n",
       "      <th>start</th>\n",
       "      <th>end</th>\n",
       "      <th>H3K9Ac</th>\n",
       "      <th>H3K9Ac.1</th>\n",
       "      <th>H3K9Ac.2</th>\n",
       "      <th>H3K9Ac.3</th>\n",
       "      <th>H3K9Ac.4</th>\n",
       "      <th>H3K9Ac.5</th>\n",
       "      <th>...</th>\n",
       "      <th>ATAC-seq</th>\n",
       "      <th>ATAC-seq.1</th>\n",
       "      <th>ATAC-seq.2</th>\n",
       "      <th>ATAC-seq.3</th>\n",
       "      <th>ATAC-seq.4</th>\n",
       "      <th>ATAC-seq.5</th>\n",
       "      <th>ATAC-seq.6</th>\n",
       "      <th>H3K27Ac</th>\n",
       "      <th>H3K27Ac.1</th>\n",
       "      <th>H3K27Ac.2</th>\n",
       "    </tr>\n",
       "  </thead>\n",
       "  <tbody>\n",
       "    <tr>\n",
       "      <th>0</th>\n",
       "      <td>chr1_9874-12073</td>\n",
       "      <td>chr1</td>\n",
       "      <td>9874</td>\n",
       "      <td>12073</td>\n",
       "      <td>0.000000</td>\n",
       "      <td>0.328547</td>\n",
       "      <td>0.482218</td>\n",
       "      <td>0.51717</td>\n",
       "      <td>0.000000</td>\n",
       "      <td>0.000000</td>\n",
       "      <td>...</td>\n",
       "      <td>1.292320</td>\n",
       "      <td>1.549112</td>\n",
       "      <td>1.236736</td>\n",
       "      <td>1.567471</td>\n",
       "      <td>1.973408</td>\n",
       "      <td>1.417817</td>\n",
       "      <td>1.634457</td>\n",
       "      <td>0.0</td>\n",
       "      <td>0.698090</td>\n",
       "      <td>1.003540</td>\n",
       "    </tr>\n",
       "    <tr>\n",
       "      <th>1</th>\n",
       "      <td>chr1_17237-19436</td>\n",
       "      <td>chr1</td>\n",
       "      <td>17237</td>\n",
       "      <td>19436</td>\n",
       "      <td>1.115655</td>\n",
       "      <td>0.000000</td>\n",
       "      <td>0.000000</td>\n",
       "      <td>0.00000</td>\n",
       "      <td>1.034592</td>\n",
       "      <td>1.083639</td>\n",
       "      <td>...</td>\n",
       "      <td>0.279048</td>\n",
       "      <td>0.000000</td>\n",
       "      <td>0.000000</td>\n",
       "      <td>0.000000</td>\n",
       "      <td>0.150684</td>\n",
       "      <td>0.000000</td>\n",
       "      <td>0.201206</td>\n",
       "      <td>0.0</td>\n",
       "      <td>0.000000</td>\n",
       "      <td>0.000000</td>\n",
       "    </tr>\n",
       "    <tr>\n",
       "      <th>2</th>\n",
       "      <td>chr1_29171-31370</td>\n",
       "      <td>chr1</td>\n",
       "      <td>29171</td>\n",
       "      <td>31370</td>\n",
       "      <td>0.000000</td>\n",
       "      <td>0.328547</td>\n",
       "      <td>0.200913</td>\n",
       "      <td>0.00000</td>\n",
       "      <td>0.000000</td>\n",
       "      <td>0.000000</td>\n",
       "      <td>...</td>\n",
       "      <td>0.139524</td>\n",
       "      <td>0.036357</td>\n",
       "      <td>0.074026</td>\n",
       "      <td>0.151496</td>\n",
       "      <td>0.263679</td>\n",
       "      <td>0.052692</td>\n",
       "      <td>0.142268</td>\n",
       "      <td>0.0</td>\n",
       "      <td>0.400833</td>\n",
       "      <td>0.576217</td>\n",
       "    </tr>\n",
       "    <tr>\n",
       "      <th>3</th>\n",
       "      <td>chr1_35882-38081</td>\n",
       "      <td>chr1</td>\n",
       "      <td>35882</td>\n",
       "      <td>38081</td>\n",
       "      <td>0.000000</td>\n",
       "      <td>0.000000</td>\n",
       "      <td>0.000000</td>\n",
       "      <td>0.00000</td>\n",
       "      <td>0.000000</td>\n",
       "      <td>0.000000</td>\n",
       "      <td>...</td>\n",
       "      <td>0.387568</td>\n",
       "      <td>0.620071</td>\n",
       "      <td>0.110078</td>\n",
       "      <td>0.414245</td>\n",
       "      <td>0.669607</td>\n",
       "      <td>0.320081</td>\n",
       "      <td>0.519151</td>\n",
       "      <td>0.0</td>\n",
       "      <td>0.000000</td>\n",
       "      <td>0.000000</td>\n",
       "    </tr>\n",
       "    <tr>\n",
       "      <th>4</th>\n",
       "      <td>chr1_67091-69290</td>\n",
       "      <td>chr1</td>\n",
       "      <td>67091</td>\n",
       "      <td>69290</td>\n",
       "      <td>0.000000</td>\n",
       "      <td>0.000000</td>\n",
       "      <td>0.000000</td>\n",
       "      <td>0.00000</td>\n",
       "      <td>0.000000</td>\n",
       "      <td>0.000000</td>\n",
       "      <td>...</td>\n",
       "      <td>1.389963</td>\n",
       "      <td>2.296215</td>\n",
       "      <td>2.166015</td>\n",
       "      <td>2.126801</td>\n",
       "      <td>2.802579</td>\n",
       "      <td>2.026005</td>\n",
       "      <td>2.089973</td>\n",
       "      <td>0.0</td>\n",
       "      <td>0.000000</td>\n",
       "      <td>0.000000</td>\n",
       "    </tr>\n",
       "    <tr>\n",
       "      <th>...</th>\n",
       "      <td>...</td>\n",
       "      <td>...</td>\n",
       "      <td>...</td>\n",
       "      <td>...</td>\n",
       "      <td>...</td>\n",
       "      <td>...</td>\n",
       "      <td>...</td>\n",
       "      <td>...</td>\n",
       "      <td>...</td>\n",
       "      <td>...</td>\n",
       "      <td>...</td>\n",
       "      <td>...</td>\n",
       "      <td>...</td>\n",
       "      <td>...</td>\n",
       "      <td>...</td>\n",
       "      <td>...</td>\n",
       "      <td>...</td>\n",
       "      <td>...</td>\n",
       "      <td>...</td>\n",
       "      <td>...</td>\n",
       "      <td>...</td>\n",
       "    </tr>\n",
       "    <tr>\n",
       "      <th>29195</th>\n",
       "      <td>chr9_140655474-140657673</td>\n",
       "      <td>chr9</td>\n",
       "      <td>140655474</td>\n",
       "      <td>140657673</td>\n",
       "      <td>0.000000</td>\n",
       "      <td>0.000000</td>\n",
       "      <td>0.000000</td>\n",
       "      <td>0.00000</td>\n",
       "      <td>0.000000</td>\n",
       "      <td>0.000000</td>\n",
       "      <td>...</td>\n",
       "      <td>0.000000</td>\n",
       "      <td>0.000000</td>\n",
       "      <td>0.000000</td>\n",
       "      <td>0.000000</td>\n",
       "      <td>0.000000</td>\n",
       "      <td>0.000000</td>\n",
       "      <td>0.000000</td>\n",
       "      <td>0.0</td>\n",
       "      <td>0.000000</td>\n",
       "      <td>0.000000</td>\n",
       "    </tr>\n",
       "    <tr>\n",
       "      <th>29196</th>\n",
       "      <td>chr9_140730871-140733070</td>\n",
       "      <td>chr9</td>\n",
       "      <td>140730871</td>\n",
       "      <td>140733070</td>\n",
       "      <td>0.000000</td>\n",
       "      <td>0.000000</td>\n",
       "      <td>0.000000</td>\n",
       "      <td>0.00000</td>\n",
       "      <td>0.000000</td>\n",
       "      <td>0.000000</td>\n",
       "      <td>...</td>\n",
       "      <td>0.000000</td>\n",
       "      <td>0.000000</td>\n",
       "      <td>0.000000</td>\n",
       "      <td>0.000000</td>\n",
       "      <td>0.000000</td>\n",
       "      <td>0.000000</td>\n",
       "      <td>0.000000</td>\n",
       "      <td>0.0</td>\n",
       "      <td>0.000000</td>\n",
       "      <td>0.000000</td>\n",
       "    </tr>\n",
       "    <tr>\n",
       "      <th>29197</th>\n",
       "      <td>chr9_140770241-140772440</td>\n",
       "      <td>chr9</td>\n",
       "      <td>140770241</td>\n",
       "      <td>140772440</td>\n",
       "      <td>0.000000</td>\n",
       "      <td>0.000000</td>\n",
       "      <td>0.000000</td>\n",
       "      <td>0.00000</td>\n",
       "      <td>0.000000</td>\n",
       "      <td>0.000000</td>\n",
       "      <td>...</td>\n",
       "      <td>0.000000</td>\n",
       "      <td>0.000000</td>\n",
       "      <td>0.000000</td>\n",
       "      <td>0.000000</td>\n",
       "      <td>0.000000</td>\n",
       "      <td>0.000000</td>\n",
       "      <td>0.000000</td>\n",
       "      <td>0.0</td>\n",
       "      <td>0.000000</td>\n",
       "      <td>0.000000</td>\n",
       "    </tr>\n",
       "    <tr>\n",
       "      <th>29198</th>\n",
       "      <td>chr9_141042565-141044764</td>\n",
       "      <td>chr9</td>\n",
       "      <td>141042565</td>\n",
       "      <td>141044764</td>\n",
       "      <td>0.000000</td>\n",
       "      <td>0.000000</td>\n",
       "      <td>0.000000</td>\n",
       "      <td>0.00000</td>\n",
       "      <td>0.000000</td>\n",
       "      <td>0.000000</td>\n",
       "      <td>...</td>\n",
       "      <td>0.000000</td>\n",
       "      <td>0.000000</td>\n",
       "      <td>0.000000</td>\n",
       "      <td>0.000000</td>\n",
       "      <td>0.000000</td>\n",
       "      <td>0.000000</td>\n",
       "      <td>0.000000</td>\n",
       "      <td>0.0</td>\n",
       "      <td>0.000000</td>\n",
       "      <td>0.000000</td>\n",
       "    </tr>\n",
       "    <tr>\n",
       "      <th>29199</th>\n",
       "      <td>chr9_141104637-141106836</td>\n",
       "      <td>chr9</td>\n",
       "      <td>141104637</td>\n",
       "      <td>141106836</td>\n",
       "      <td>0.000000</td>\n",
       "      <td>0.000000</td>\n",
       "      <td>0.000000</td>\n",
       "      <td>0.00000</td>\n",
       "      <td>0.000000</td>\n",
       "      <td>0.000000</td>\n",
       "      <td>...</td>\n",
       "      <td>0.000000</td>\n",
       "      <td>0.000000</td>\n",
       "      <td>0.000000</td>\n",
       "      <td>0.000000</td>\n",
       "      <td>0.000000</td>\n",
       "      <td>0.000000</td>\n",
       "      <td>0.000000</td>\n",
       "      <td>0.0</td>\n",
       "      <td>0.000000</td>\n",
       "      <td>0.000000</td>\n",
       "    </tr>\n",
       "  </tbody>\n",
       "</table>\n",
       "<p>29200 rows × 58 columns</p>\n",
       "</div>"
      ],
      "text/plain": [
       "                     Unnamed: 0   chr      start        end    H3K9Ac  \\\n",
       "0               chr1_9874-12073  chr1       9874      12073  0.000000   \n",
       "1              chr1_17237-19436  chr1      17237      19436  1.115655   \n",
       "2              chr1_29171-31370  chr1      29171      31370  0.000000   \n",
       "3              chr1_35882-38081  chr1      35882      38081  0.000000   \n",
       "4              chr1_67091-69290  chr1      67091      69290  0.000000   \n",
       "...                         ...   ...        ...        ...       ...   \n",
       "29195  chr9_140655474-140657673  chr9  140655474  140657673  0.000000   \n",
       "29196  chr9_140730871-140733070  chr9  140730871  140733070  0.000000   \n",
       "29197  chr9_140770241-140772440  chr9  140770241  140772440  0.000000   \n",
       "29198  chr9_141042565-141044764  chr9  141042565  141044764  0.000000   \n",
       "29199  chr9_141104637-141106836  chr9  141104637  141106836  0.000000   \n",
       "\n",
       "       H3K9Ac.1  H3K9Ac.2  H3K9Ac.3  H3K9Ac.4  H3K9Ac.5  ...  ATAC-seq  \\\n",
       "0      0.328547  0.482218   0.51717  0.000000  0.000000  ...  1.292320   \n",
       "1      0.000000  0.000000   0.00000  1.034592  1.083639  ...  0.279048   \n",
       "2      0.328547  0.200913   0.00000  0.000000  0.000000  ...  0.139524   \n",
       "3      0.000000  0.000000   0.00000  0.000000  0.000000  ...  0.387568   \n",
       "4      0.000000  0.000000   0.00000  0.000000  0.000000  ...  1.389963   \n",
       "...         ...       ...       ...       ...       ...  ...       ...   \n",
       "29195  0.000000  0.000000   0.00000  0.000000  0.000000  ...  0.000000   \n",
       "29196  0.000000  0.000000   0.00000  0.000000  0.000000  ...  0.000000   \n",
       "29197  0.000000  0.000000   0.00000  0.000000  0.000000  ...  0.000000   \n",
       "29198  0.000000  0.000000   0.00000  0.000000  0.000000  ...  0.000000   \n",
       "29199  0.000000  0.000000   0.00000  0.000000  0.000000  ...  0.000000   \n",
       "\n",
       "       ATAC-seq.1  ATAC-seq.2  ATAC-seq.3  ATAC-seq.4  ATAC-seq.5  ATAC-seq.6  \\\n",
       "0        1.549112    1.236736    1.567471    1.973408    1.417817    1.634457   \n",
       "1        0.000000    0.000000    0.000000    0.150684    0.000000    0.201206   \n",
       "2        0.036357    0.074026    0.151496    0.263679    0.052692    0.142268   \n",
       "3        0.620071    0.110078    0.414245    0.669607    0.320081    0.519151   \n",
       "4        2.296215    2.166015    2.126801    2.802579    2.026005    2.089973   \n",
       "...           ...         ...         ...         ...         ...         ...   \n",
       "29195    0.000000    0.000000    0.000000    0.000000    0.000000    0.000000   \n",
       "29196    0.000000    0.000000    0.000000    0.000000    0.000000    0.000000   \n",
       "29197    0.000000    0.000000    0.000000    0.000000    0.000000    0.000000   \n",
       "29198    0.000000    0.000000    0.000000    0.000000    0.000000    0.000000   \n",
       "29199    0.000000    0.000000    0.000000    0.000000    0.000000    0.000000   \n",
       "\n",
       "       H3K27Ac  H3K27Ac.1  H3K27Ac.2  \n",
       "0          0.0   0.698090   1.003540  \n",
       "1          0.0   0.000000   0.000000  \n",
       "2          0.0   0.400833   0.576217  \n",
       "3          0.0   0.000000   0.000000  \n",
       "4          0.0   0.000000   0.000000  \n",
       "...        ...        ...        ...  \n",
       "29195      0.0   0.000000   0.000000  \n",
       "29196      0.0   0.000000   0.000000  \n",
       "29197      0.0   0.000000   0.000000  \n",
       "29198      0.0   0.000000   0.000000  \n",
       "29199      0.0   0.000000   0.000000  \n",
       "\n",
       "[29200 rows x 58 columns]"
      ]
     },
     "execution_count": 3,
     "metadata": {},
     "output_type": "execute_result"
    }
   ],
   "source": [
    "data"
   ]
  },
  {
   "cell_type": "code",
   "execution_count": 4,
   "metadata": {},
   "outputs": [],
   "source": [
    "interested_columns = ['chr', 'start', 'end', 'H3K9Ac', 'RNAPol',\n",
    "       'H3K4me3', 'HiC_AB',\n",
    "        'H3K4me2',\n",
    "       'H3K27me3', 'H3K4me1', 'ATAC-seq', \n",
    "       'H3K27Ac',]"
   ]
  },
  {
   "cell_type": "code",
   "execution_count": 5,
   "metadata": {},
   "outputs": [],
   "source": [
    "new_data = data[interested_columns]"
   ]
  },
  {
   "cell_type": "code",
   "execution_count": 6,
   "metadata": {},
   "outputs": [
    {
     "data": {
      "text/html": [
       "<div>\n",
       "<style scoped>\n",
       "    .dataframe tbody tr th:only-of-type {\n",
       "        vertical-align: middle;\n",
       "    }\n",
       "\n",
       "    .dataframe tbody tr th {\n",
       "        vertical-align: top;\n",
       "    }\n",
       "\n",
       "    .dataframe thead th {\n",
       "        text-align: right;\n",
       "    }\n",
       "</style>\n",
       "<table border=\"1\" class=\"dataframe\">\n",
       "  <thead>\n",
       "    <tr style=\"text-align: right;\">\n",
       "      <th></th>\n",
       "      <th>chr</th>\n",
       "      <th>start</th>\n",
       "      <th>end</th>\n",
       "      <th>H3K9Ac</th>\n",
       "      <th>RNAPol</th>\n",
       "      <th>H3K4me3</th>\n",
       "      <th>HiC_AB</th>\n",
       "      <th>H3K4me2</th>\n",
       "      <th>H3K27me3</th>\n",
       "      <th>H3K4me1</th>\n",
       "      <th>ATAC-seq</th>\n",
       "      <th>H3K27Ac</th>\n",
       "    </tr>\n",
       "  </thead>\n",
       "  <tbody>\n",
       "    <tr>\n",
       "      <th>0</th>\n",
       "      <td>chr1</td>\n",
       "      <td>9874</td>\n",
       "      <td>12073</td>\n",
       "      <td>0.000000</td>\n",
       "      <td>0.000000</td>\n",
       "      <td>0.078833</td>\n",
       "      <td>-0.008382</td>\n",
       "      <td>0.000000</td>\n",
       "      <td>2.46605</td>\n",
       "      <td>0.327583</td>\n",
       "      <td>1.292320</td>\n",
       "      <td>0.0</td>\n",
       "    </tr>\n",
       "    <tr>\n",
       "      <th>1</th>\n",
       "      <td>chr1</td>\n",
       "      <td>17237</td>\n",
       "      <td>19436</td>\n",
       "      <td>1.115655</td>\n",
       "      <td>5.124508</td>\n",
       "      <td>0.078833</td>\n",
       "      <td>-0.008601</td>\n",
       "      <td>0.000000</td>\n",
       "      <td>0.00000</td>\n",
       "      <td>0.327583</td>\n",
       "      <td>0.279048</td>\n",
       "      <td>0.0</td>\n",
       "    </tr>\n",
       "    <tr>\n",
       "      <th>2</th>\n",
       "      <td>chr1</td>\n",
       "      <td>29171</td>\n",
       "      <td>31370</td>\n",
       "      <td>0.000000</td>\n",
       "      <td>1.571285</td>\n",
       "      <td>0.078833</td>\n",
       "      <td>-0.004844</td>\n",
       "      <td>0.624513</td>\n",
       "      <td>0.00000</td>\n",
       "      <td>0.000000</td>\n",
       "      <td>0.139524</td>\n",
       "      <td>0.0</td>\n",
       "    </tr>\n",
       "    <tr>\n",
       "      <th>3</th>\n",
       "      <td>chr1</td>\n",
       "      <td>35882</td>\n",
       "      <td>38081</td>\n",
       "      <td>0.000000</td>\n",
       "      <td>0.000000</td>\n",
       "      <td>0.000000</td>\n",
       "      <td>-0.004006</td>\n",
       "      <td>0.000000</td>\n",
       "      <td>0.00000</td>\n",
       "      <td>0.000000</td>\n",
       "      <td>0.387568</td>\n",
       "      <td>0.0</td>\n",
       "    </tr>\n",
       "    <tr>\n",
       "      <th>4</th>\n",
       "      <td>chr1</td>\n",
       "      <td>67091</td>\n",
       "      <td>69290</td>\n",
       "      <td>0.000000</td>\n",
       "      <td>0.000000</td>\n",
       "      <td>0.000000</td>\n",
       "      <td>-0.005709</td>\n",
       "      <td>0.000000</td>\n",
       "      <td>0.00000</td>\n",
       "      <td>0.327583</td>\n",
       "      <td>1.389963</td>\n",
       "      <td>0.0</td>\n",
       "    </tr>\n",
       "    <tr>\n",
       "      <th>...</th>\n",
       "      <td>...</td>\n",
       "      <td>...</td>\n",
       "      <td>...</td>\n",
       "      <td>...</td>\n",
       "      <td>...</td>\n",
       "      <td>...</td>\n",
       "      <td>...</td>\n",
       "      <td>...</td>\n",
       "      <td>...</td>\n",
       "      <td>...</td>\n",
       "      <td>...</td>\n",
       "      <td>...</td>\n",
       "    </tr>\n",
       "    <tr>\n",
       "      <th>29195</th>\n",
       "      <td>chr9</td>\n",
       "      <td>140655474</td>\n",
       "      <td>140657673</td>\n",
       "      <td>0.000000</td>\n",
       "      <td>1.385183</td>\n",
       "      <td>0.515126</td>\n",
       "      <td>0.000000</td>\n",
       "      <td>0.000000</td>\n",
       "      <td>0.00000</td>\n",
       "      <td>0.724810</td>\n",
       "      <td>0.000000</td>\n",
       "      <td>0.0</td>\n",
       "    </tr>\n",
       "    <tr>\n",
       "      <th>29196</th>\n",
       "      <td>chr9</td>\n",
       "      <td>140730871</td>\n",
       "      <td>140733070</td>\n",
       "      <td>0.000000</td>\n",
       "      <td>3.566897</td>\n",
       "      <td>0.563794</td>\n",
       "      <td>0.000000</td>\n",
       "      <td>0.000000</td>\n",
       "      <td>0.00000</td>\n",
       "      <td>0.757904</td>\n",
       "      <td>0.000000</td>\n",
       "      <td>0.0</td>\n",
       "    </tr>\n",
       "    <tr>\n",
       "      <th>29197</th>\n",
       "      <td>chr9</td>\n",
       "      <td>140770241</td>\n",
       "      <td>140772440</td>\n",
       "      <td>0.000000</td>\n",
       "      <td>0.533036</td>\n",
       "      <td>0.633944</td>\n",
       "      <td>0.000000</td>\n",
       "      <td>0.000000</td>\n",
       "      <td>0.00000</td>\n",
       "      <td>0.966038</td>\n",
       "      <td>0.000000</td>\n",
       "      <td>0.0</td>\n",
       "    </tr>\n",
       "    <tr>\n",
       "      <th>29198</th>\n",
       "      <td>chr9</td>\n",
       "      <td>141042565</td>\n",
       "      <td>141044764</td>\n",
       "      <td>0.000000</td>\n",
       "      <td>0.614879</td>\n",
       "      <td>1.915598</td>\n",
       "      <td>0.000000</td>\n",
       "      <td>0.000000</td>\n",
       "      <td>0.00000</td>\n",
       "      <td>0.982750</td>\n",
       "      <td>0.000000</td>\n",
       "      <td>0.0</td>\n",
       "    </tr>\n",
       "    <tr>\n",
       "      <th>29199</th>\n",
       "      <td>chr9</td>\n",
       "      <td>141104637</td>\n",
       "      <td>141106836</td>\n",
       "      <td>0.000000</td>\n",
       "      <td>0.360722</td>\n",
       "      <td>0.078833</td>\n",
       "      <td>0.000000</td>\n",
       "      <td>0.000000</td>\n",
       "      <td>0.00000</td>\n",
       "      <td>0.000000</td>\n",
       "      <td>0.000000</td>\n",
       "      <td>0.0</td>\n",
       "    </tr>\n",
       "  </tbody>\n",
       "</table>\n",
       "<p>29200 rows × 12 columns</p>\n",
       "</div>"
      ],
      "text/plain": [
       "        chr      start        end    H3K9Ac    RNAPol   H3K4me3    HiC_AB  \\\n",
       "0      chr1       9874      12073  0.000000  0.000000  0.078833 -0.008382   \n",
       "1      chr1      17237      19436  1.115655  5.124508  0.078833 -0.008601   \n",
       "2      chr1      29171      31370  0.000000  1.571285  0.078833 -0.004844   \n",
       "3      chr1      35882      38081  0.000000  0.000000  0.000000 -0.004006   \n",
       "4      chr1      67091      69290  0.000000  0.000000  0.000000 -0.005709   \n",
       "...     ...        ...        ...       ...       ...       ...       ...   \n",
       "29195  chr9  140655474  140657673  0.000000  1.385183  0.515126  0.000000   \n",
       "29196  chr9  140730871  140733070  0.000000  3.566897  0.563794  0.000000   \n",
       "29197  chr9  140770241  140772440  0.000000  0.533036  0.633944  0.000000   \n",
       "29198  chr9  141042565  141044764  0.000000  0.614879  1.915598  0.000000   \n",
       "29199  chr9  141104637  141106836  0.000000  0.360722  0.078833  0.000000   \n",
       "\n",
       "        H3K4me2  H3K27me3   H3K4me1  ATAC-seq  H3K27Ac  \n",
       "0      0.000000   2.46605  0.327583  1.292320      0.0  \n",
       "1      0.000000   0.00000  0.327583  0.279048      0.0  \n",
       "2      0.624513   0.00000  0.000000  0.139524      0.0  \n",
       "3      0.000000   0.00000  0.000000  0.387568      0.0  \n",
       "4      0.000000   0.00000  0.327583  1.389963      0.0  \n",
       "...         ...       ...       ...       ...      ...  \n",
       "29195  0.000000   0.00000  0.724810  0.000000      0.0  \n",
       "29196  0.000000   0.00000  0.757904  0.000000      0.0  \n",
       "29197  0.000000   0.00000  0.966038  0.000000      0.0  \n",
       "29198  0.000000   0.00000  0.982750  0.000000      0.0  \n",
       "29199  0.000000   0.00000  0.000000  0.000000      0.0  \n",
       "\n",
       "[29200 rows x 12 columns]"
      ]
     },
     "execution_count": 6,
     "metadata": {},
     "output_type": "execute_result"
    }
   ],
   "source": [
    "new_data"
   ]
  },
  {
   "cell_type": "code",
   "execution_count": 9,
   "metadata": {},
   "outputs": [],
   "source": [
    "from sklearn.preprocessing import MinMaxScaler\n",
    "from sklearn.preprocessing import normalize\n",
    "from sklearn.preprocessing import RobustScaler\n",
    "\n",
    "\n",
    "normalized_data = new_data.copy()\n",
    "\n",
    "for col in [\"H3K9Ac\", \"H3K4me3\",\"H3K4me2\",\"H3K27me3\",\"H3K4me1\",\"H3K27Ac\",\"ATAC-seq\",\"RNAPol\"]:\n",
    "    normalized_data[col] = normalize( normalized_data[col].values.reshape(-1, 1), axis=0)\n",
    "\n",
    "Q1 = normalized_data[\"RNAPol\"].quantile(0.25)\n",
    "Q3 = normalized_data[\"RNAPol\"].quantile(0.75)\n",
    "IQR = Q3 - Q1\n",
    "lower_bound = Q1 - 1.5 * IQR\n",
    "upper_bound = Q3 + 1.5 * IQR\n",
    "\n",
    "normalized_data = normalized_data[(normalized_data['RNAPol'] >= lower_bound) & (normalized_data['RNAPol'] <= upper_bound)]\n"
   ]
  },
  {
   "cell_type": "code",
   "execution_count": null,
   "metadata": {},
   "outputs": [],
   "source": [
    "normalized_data"
   ]
  },
  {
   "cell_type": "code",
   "execution_count": 11,
   "metadata": {},
   "outputs": [
    {
     "name": "stdout",
     "output_type": "stream",
     "text": [
      "9.202872514724731\n",
      "0.05382227897644043\n"
     ]
    }
   ],
   "source": [
    "from sklearn.neural_network import MLPRegressor\n",
    "from sklearn.model_selection import train_test_split\n",
    "from sklearn.metrics import mean_squared_error\n",
    "\n",
    "# Split the data into training and test sets\n",
    "X_train, X_test, y_train, y_test = train_test_split(\n",
    "    normalized_data[['H3K9Ac', 'H3K4me3', 'H3K4me2', 'H3K27me3', 'H3K4me1', 'H3K27Ac', 'ATAC-seq', 'HiC_AB']],\n",
    "    normalized_data['RNAPol'], test_size=0.2)\n",
    "\n",
    "# Train a MLP regressor with two hidden layers of 10 neurons each\n",
    "mlp = MLPRegressor(hidden_layer_sizes=(400, 200, 100, 50,25,10))\n",
    "#mlp = MLPRegressor(hidden_layer_sizes=(100,100))\n",
    "\n",
    "import time\n",
    "\n",
    "s = time.time()\n",
    "mlp.fit(X_train, y_train)\n",
    "e = time.time()\n",
    "\n",
    "print(e - s)\n",
    "\n",
    "# Predict the target values on the test set and calculate the mean squared error\n",
    "s = time.time()\n",
    "y_pred = mlp.predict(X_test)\n",
    "e = time.time()\n",
    "print(e - s)\n"
   ]
  },
  {
   "cell_type": "code",
   "execution_count": 67,
   "metadata": {},
   "outputs": [
    {
     "data": {
      "image/png": "[encoded data removed]",
      "text/plain": [
       "<Figure size 432x288 with 1 Axes>"
      ]
     },
     "metadata": {
      "needs_background": "light"
     },
     "output_type": "display_data"
    }
   ],
   "source": [
    "import matplotlib.pyplot as plt\n",
    "\n",
    "\n",
    "plt.scatter(y_test, y_pred)\n",
    "plt.plot([y_test.min(), y_test.max()], [y_test.min(), y_test.max()], 'k--', lw=4)\n",
    "plt.xlabel('Actual')\n",
    "plt.ylabel('Predicted')\n",
    "plt.show()"
   ]
  },
  {
   "cell_type": "code",
   "execution_count": 70,
   "metadata": {},
   "outputs": [
    {
     "data": {
      "image/png": "[encoded data removed]",
      "text/plain": [
       "<Figure size 432x288 with 1 Axes>"
      ]
     },
     "metadata": {
      "needs_background": "light"
     },
     "output_type": "display_data"
    }
   ],
   "source": [
    "import numpy as np\n",
    "import matplotlib.pyplot as plt\n",
    "from scipy.stats import gaussian_kde\n",
    "\n",
    "# Calculate the point density\n",
    "xy = np.vstack([y_test,y_pred])\n",
    "z = gaussian_kde(xy)(xy)\n",
    "\n",
    "fig, ax = plt.subplots()\n",
    "ax.scatter(y_test, y_pred, c=z, s=100)\n",
    "plt.plot([y_test.min(), y_test.max()], [y_test.min(), y_test.max()], 'k--', lw=4)\n",
    "\n",
    "plt.xlabel('Actual')\n",
    "plt.ylabel('Predicted')\n",
    "\n",
    "plt.show()"
   ]
  },
  {
   "cell_type": "code",
   "execution_count": 71,
   "metadata": {},
   "outputs": [
    {
     "data": {
      "image/png": "[encoded data removed]",
      "text/plain": [
       "<Figure size 432x288 with 1 Axes>"
      ]
     },
     "metadata": {
      "needs_background": "light"
     },
     "output_type": "display_data"
    }
   ],
   "source": [
    "import numpy as np\n",
    "import matplotlib.pyplot as plt\n",
    "from scipy.stats import gaussian_kde\n",
    "\n",
    "# Calculate the point density\n",
    "xy = np.vstack([y_test,y_pred])\n",
    "z = gaussian_kde(xy)(xy)\n",
    "\n",
    "fig, ax = plt.subplots()\n",
    "ax.scatter(y_test, y_pred, c=z, s=100)\n",
    "plt.plot([y_test.min(), y_test.max()], [y_test.min(), y_test.max()], 'k--', lw=4)\n",
    "\n",
    "plt.xlabel('Actual')\n",
    "plt.ylabel('Predicted')\n",
    "\n",
    "ax.set_xlim([0.00025, 0.002]) \n",
    "ax.set_ylim([0.00025, 0.002])\n",
    "\n",
    "plt.show()\n"
   ]
  },
  {
   "cell_type": "code",
   "execution_count": 72,
   "metadata": {},
   "outputs": [
    {
     "name": "stdout",
     "output_type": "stream",
     "text": [
      "Mean squared error: 6.64853302458275e-06\n"
     ]
    }
   ],
   "source": [
    "mse = mean_squared_error(y_test, y_pred)\n",
    "\n",
    "print(f\"Mean squared error: {mse:}\")"
   ]
  },
  {
   "cell_type": "code",
   "execution_count": 52,
   "metadata": {},
   "outputs": [
    {
     "data": {
      "image/png": "[encoded data removed]",
      "text/plain": [
       "<Figure size 432x288 with 1 Axes>"
      ]
     },
     "metadata": {
      "needs_background": "light"
     },
     "output_type": "display_data"
    }
   ],
   "source": [
    "import numpy as np\n",
    "import matplotlib.pyplot as plt\n",
    "from sklearn.neural_network import MLPRegressor\n",
    "from sklearn.metrics import r2_score\n",
    "\n",
    "\n",
    "bins = np.linspace(np.min(y_test), np.max(y_test), 100)  # 10 equally-spaced bins\n",
    "accuracy = []\n",
    "for i in range(len(bins)-1):\n",
    "    idx = np.where((y_test >= bins[i]) & (y_test < bins[i+1]))\n",
    "    if len(idx[0]) == 0 or len(idx[0]) == 1:\n",
    "        break\n",
    "    bin_acc = r2_score(y_test.to_numpy()[idx], y_pred[idx])\n",
    "    accuracy.append(bin_acc)\n",
    "\n",
    "# Plot accuracy vs actual value bins\n",
    "plt.bar(bins[:-1][:len(accuracy)], accuracy, width=(bins[1]-bins[0]), align='edge')\n",
    "plt.xlabel('Actual value bins')\n",
    "plt.ylabel('Accuracy (R2 score)')\n",
    "plt.show()"
   ]
  },
  {
   "cell_type": "code",
   "execution_count": 73,
   "metadata": {},
   "outputs": [
    {
     "data": {
      "image/png": "[encoded data removed]",
      "text/plain": [
       "<Figure size 432x288 with 1 Axes>"
      ]
     },
     "metadata": {
      "needs_background": "light"
     },
     "output_type": "display_data"
    }
   ],
   "source": [
    "import numpy as np\n",
    "import matplotlib.pyplot as plt\n",
    "from sklearn.neural_network import MLPRegressor\n",
    "from sklearn.metrics import mean_squared_error\n",
    "\n",
    "\n",
    "bins = np.linspace(np.min(y_test), np.max(y_test), 100)  # 10 equally-spaced bins\n",
    "accuracy = []\n",
    "for i in range(len(bins)-1):\n",
    "    idx = np.where((y_test >= bins[i]) & (y_test < bins[i+1]))\n",
    "    if len(idx[0]) == 0 or len(idx[0]) == 1:\n",
    "        break\n",
    "    bin_acc = mean_squared_error(y_test.to_numpy()[idx], y_pred[idx])\n",
    "    accuracy.append(bin_acc)\n",
    "\n",
    "# Plot accuracy vs actual value bins\n",
    "plt.bar(bins[:-1][:len(accuracy)], accuracy, width=(bins[1]-bins[0]), align='edge')\n",
    "plt.xlabel('Actual value bins')\n",
    "plt.ylabel('Accuracy (MSE score)')\n",
    "plt.show()"
   ]
  },
  {
   "cell_type": "code",
   "execution_count": null,
   "metadata": {},
   "outputs": [],
   "source": []
  },
  {
   "cell_type": "code",
   "execution_count": null,
   "metadata": {},
   "outputs": [],
   "source": []
  },
  {
   "cell_type": "code",
   "execution_count": 149,
   "metadata": {},
   "outputs": [],
   "source": [
    "col_names = [\"Chr\", \"Start\", \"End\", \"ATAC Seq\"]"
   ]
  },
  {
   "cell_type": "code",
   "execution_count": 150,
   "metadata": {},
   "outputs": [],
   "source": [
    "root_path = \"/gpfs/commons/home/cangel/g2lab/courses/ComputationalGenomics/project/data/\""
   ]
  },
  {
   "cell_type": "code",
   "execution_count": 151,
   "metadata": {},
   "outputs": [],
   "source": [
    "inputs = [\"ATAC-seq/\", \"/HiC_AB/\", \"/Histones_ChIP-seq/\", \"/RNAPolymerase_ChIP-seq/\"]\n",
    "\n",
    "path_to_signal = \"/signal/processed/\"\n",
    "\n",
    "atac_seq_files = [\"ENCFF019IPA.bigWig.bedgraph.5k.bin\",\n",
    "                  \"ENCFF496GRF.bigWig.bedgraph.5k.bin\",\n",
    "                  \"ENCFF093IIW.bigWig.bedgraph.5k.bin\",\n",
    "                  \"ENCFF656ZKM.bigWig.bedgraph.5k.bin\",\n",
    "                  \"ENCFF102ARJ.bigWig.bedgraph.5k.bin\", \n",
    "                  \"ENCFF754EAC.bigWig.bedgraph.5k.bin\",\n",
    "                  \"ENCFF451IKJ.bigWig.bedgraph.5k.bin\"]\n",
    "\n",
    "hic_files = [\"ENCFF369SUV.bed.ed.bin.binary\",\n",
    "       \"ENCFF456BBV.bed.ed.bin.binary\",\n",
    "       \"ENCFF726JJU.bed.ed.bin.binary\",\n",
    "       \"ENCFF749YOA.bed.ed.bin.binary\"]\n",
    "\n",
    "rna_files = [\"ENCFF042PRZ.bigWig.bedgraph.5k.bin\",\n",
    "             \"ENCFF555CHY.bigWig.bedgraph.5k.bin\",\n",
    "             \"ENCFF052NEG.bigWig.bedgraph.5k.bin\",\n",
    "             \"ENCFF647MSS.bigWig.bedgraph.5k.bin\",\n",
    "             \"ENCFF345HKX.bigWig.bedgraph.5k.bin\",\n",
    "             \"ENCFF886MYL.bigWig.bedgraph.5k.bin\",\n",
    "             \"ENCFF348UKA.bigWig.bedgraph.5k.bin\",\n",
    "             \"ENCFF910GGT.bigWig.bedgraph.5k.bin\",\n",
    "             \"ENCFF552VTT.bigWig.bedgraph.5k.bin\"]"
   ]
  },
  {
   "cell_type": "code",
   "execution_count": 152,
   "metadata": {},
   "outputs": [
    {
     "name": "stdout",
     "output_type": "stream",
     "text": [
      "/gpfs/commons/home/cangel/g2lab/courses/ComputationalGenomics/project/data/ATAC-seq//signal/processed/ENCFF019IPA.bigWig.bedgraph.5k.bin\n",
      "/gpfs/commons/home/cangel/g2lab/courses/ComputationalGenomics/project/data/ATAC-seq//signal/processed/ENCFF496GRF.bigWig.bedgraph.5k.bin\n",
      "/gpfs/commons/home/cangel/g2lab/courses/ComputationalGenomics/project/data/ATAC-seq//signal/processed/ENCFF093IIW.bigWig.bedgraph.5k.bin\n",
      "/gpfs/commons/home/cangel/g2lab/courses/ComputationalGenomics/project/data/ATAC-seq//signal/processed/ENCFF656ZKM.bigWig.bedgraph.5k.bin\n",
      "/gpfs/commons/home/cangel/g2lab/courses/ComputationalGenomics/project/data/ATAC-seq//signal/processed/ENCFF102ARJ.bigWig.bedgraph.5k.bin\n",
      "/gpfs/commons/home/cangel/g2lab/courses/ComputationalGenomics/project/data/ATAC-seq//signal/processed/ENCFF754EAC.bigWig.bedgraph.5k.bin\n",
      "/gpfs/commons/home/cangel/g2lab/courses/ComputationalGenomics/project/data/ATAC-seq//signal/processed/ENCFF451IKJ.bigWig.bedgraph.5k.bin\n"
     ]
    }
   ],
   "source": [
    "col_dtype={\"Chr\":str, \"Start\":int, \"End\":int, \"ATAC Seq\":object}\n",
    "col_names = [\"Chr\", \"Start\", \"End\", \"ATAC Seq\"]\n",
    "\n",
    "for p in atac_seq_files:\n",
    "    print(root_path + inputs[0] + path_to_signal + p)\n",
    "\n",
    "atac_data = [pd.read_csv(root_path + inputs[0] + path_to_signal + p, sep='\\t',  names = col_names, dtype = col_dtype) for p in atac_seq_files]\n"
   ]
  },
  {
   "cell_type": "code",
   "execution_count": 153,
   "metadata": {},
   "outputs": [],
   "source": [
    "atac_data_first = atac_data[0]\n",
    "#atac_data_first = atac_data_first[atac_data_first[\"ATAC Seq\"] != \".\"]"
   ]
  },
  {
   "cell_type": "code",
   "execution_count": null,
   "metadata": {},
   "outputs": [],
   "source": []
  },
  {
   "cell_type": "code",
   "execution_count": 154,
   "metadata": {},
   "outputs": [],
   "source": [
    "\n",
    "col_dtype={\"Chr\":str, \"Start\":int, \"End\":int, \"RNA Seq\":object}\n",
    "col_names = [\"Chr\", \"Start\", \"End\", \"RNA Seq\"]\n",
    "\n",
    "rna_data = [pd.read_csv(root_path + inputs[3] + path_to_signal + p, sep='\\t', names = col_names ,dtype = col_dtype) for p in rna_files]"
   ]
  },
  {
   "cell_type": "code",
   "execution_count": 155,
   "metadata": {},
   "outputs": [],
   "source": [
    "rna_data_first = rna_data[0]"
   ]
  },
  {
   "cell_type": "code",
   "execution_count": 156,
   "metadata": {},
   "outputs": [
    {
     "name": "stdout",
     "output_type": "stream",
     "text": [
      "Scanning paths ['/gpfs/commons/home/cangel/g2lab/courses/ComputationalGenomics/project/data/HiC_AB/ENCFF726JJU.bed.ed.bin.binary', '/gpfs/commons/home/cangel/g2lab/courses/ComputationalGenomics/project/data/HiC_AB/ENCFF456BBV.bed.ed.bin.binary', '/gpfs/commons/home/cangel/g2lab/courses/ComputationalGenomics/project/data/HiC_AB/ENCFF369SUV.bed.ed.bin.binary', '/gpfs/commons/home/cangel/g2lab/courses/ComputationalGenomics/project/data/HiC_AB/ENCFF749YOA.bed.ed.bin.binary']\n"
     ]
    }
   ],
   "source": [
    "col_dtype={\"Chr\":str, \"Start\":int, \"End\":int, \"HiC\":bool}\n",
    "col_names = [\"Chr\", \"Start\", \"End\", \"HiC\"]\n",
    "\n",
    "HiC_paths = glob.glob(os.path.join(root_path, \"HiC_AB\" + \"/\",'*binary'))\n",
    "print(\"Scanning paths\", HiC_paths)\n",
    "HiC_data = [pd.read_csv(p, sep='\\t', names = col_names ,dtype = col_dtype) for p in HiC_paths]"
   ]
  },
  {
   "cell_type": "code",
   "execution_count": 157,
   "metadata": {},
   "outputs": [],
   "source": [
    "HiC_data_first = HiC_data[0]"
   ]
  },
  {
   "cell_type": "code",
   "execution_count": 158,
   "metadata": {},
   "outputs": [
    {
     "name": "stdout",
     "output_type": "stream",
     "text": [
      "Scanning paths ['/gpfs/commons/home/cangel/g2lab/courses/ComputationalGenomics/project/data/Histones_ChIP-seq/signal/H3K9Ac/processed/ENCFF236VCK.bigWig.bedgraph.5k.bin', '/gpfs/commons/home/cangel/g2lab/courses/ComputationalGenomics/project/data/Histones_ChIP-seq/signal/H3K9Ac/processed/ENCFF546QNT.bigWig.bedgraph.5k.bin', '/gpfs/commons/home/cangel/g2lab/courses/ComputationalGenomics/project/data/Histones_ChIP-seq/signal/H3K9Ac/processed/ENCFF848OVA.bigWig.bedgraph.5k.bin', '/gpfs/commons/home/cangel/g2lab/courses/ComputationalGenomics/project/data/Histones_ChIP-seq/signal/H3K9Ac/processed/ENCFF650QTM.bigWig.bedgraph.5k.bin', '/gpfs/commons/home/cangel/g2lab/courses/ComputationalGenomics/project/data/Histones_ChIP-seq/signal/H3K9Ac/processed/ENCFF937QUK.bigWig.bedgraph.5k.bin', '/gpfs/commons/home/cangel/g2lab/courses/ComputationalGenomics/project/data/Histones_ChIP-seq/signal/H3K9Ac/processed/ENCFF286WRJ.bigWig.bedgraph.5k.bin']\n",
      "Scanning paths ['/gpfs/commons/home/cangel/g2lab/courses/ComputationalGenomics/project/data/Histones_ChIP-seq/signal/H3K4me3/processed/ENCFF291SWG.bigWig.bedgraph.5k.bin', '/gpfs/commons/home/cangel/g2lab/courses/ComputationalGenomics/project/data/Histones_ChIP-seq/signal/H3K4me3/processed/ENCFF316EXX.bigWig.bedgraph.5k.bin', '/gpfs/commons/home/cangel/g2lab/courses/ComputationalGenomics/project/data/Histones_ChIP-seq/signal/H3K4me3/processed/ENCFF689TMV.bigWig.bedgraph.5k.bin', '/gpfs/commons/home/cangel/g2lab/courses/ComputationalGenomics/project/data/Histones_ChIP-seq/signal/H3K4me3/processed/ENCFF568IWB.bigWig.bedgraph.5k.bin', '/gpfs/commons/home/cangel/g2lab/courses/ComputationalGenomics/project/data/Histones_ChIP-seq/signal/H3K4me3/processed/ENCFF539EAR.bigWig.bedgraph.5k.bin', '/gpfs/commons/home/cangel/g2lab/courses/ComputationalGenomics/project/data/Histones_ChIP-seq/signal/H3K4me3/processed/ENCFF222HFL.bigWig.bedgraph.5k.bin', '/gpfs/commons/home/cangel/g2lab/courses/ComputationalGenomics/project/data/Histones_ChIP-seq/signal/H3K4me3/processed/ENCFF567GLW.bigWig.bedgraph.5k.bin', '/gpfs/commons/home/cangel/g2lab/courses/ComputationalGenomics/project/data/Histones_ChIP-seq/signal/H3K4me3/processed/ENCFF879AFU.bigWig.bedgraph.5k.bin', '/gpfs/commons/home/cangel/g2lab/courses/ComputationalGenomics/project/data/Histones_ChIP-seq/signal/H3K4me3/processed/ENCFF262SCS.bigWig.bedgraph.5k.bin']\n",
      "Scanning paths []\n",
      "Scanning paths ['/gpfs/commons/home/cangel/g2lab/courses/ComputationalGenomics/project/data/Histones_ChIP-seq/signal/H3K4me2/processed/ENCFF959YJV.bigWig.bedgraph.5k.bin', '/gpfs/commons/home/cangel/g2lab/courses/ComputationalGenomics/project/data/Histones_ChIP-seq/signal/H3K4me2/processed/ENCFF386XDJ.bigWig.bedgraph.5k.bin', '/gpfs/commons/home/cangel/g2lab/courses/ComputationalGenomics/project/data/Histones_ChIP-seq/signal/H3K4me2/processed/ENCFF229IJV.bigWig.bedgraph.5k.bin']\n",
      "Scanning paths ['/gpfs/commons/home/cangel/g2lab/courses/ComputationalGenomics/project/data/Histones_ChIP-seq/signal/H3K27me3/processed/ENCFF655QPL.bigWig.bedgraph.5k.bin', '/gpfs/commons/home/cangel/g2lab/courses/ComputationalGenomics/project/data/Histones_ChIP-seq/signal/H3K27me3/processed/ENCFF312LYO.bigWig.bedgraph.5k.bin', '/gpfs/commons/home/cangel/g2lab/courses/ComputationalGenomics/project/data/Histones_ChIP-seq/signal/H3K27me3/processed/ENCFF486DJY.bigWig.bedgraph.5k.bin', '/gpfs/commons/home/cangel/g2lab/courses/ComputationalGenomics/project/data/Histones_ChIP-seq/signal/H3K27me3/processed/ENCFF821IZF.bigWig.bedgraph.5k.bin', '/gpfs/commons/home/cangel/g2lab/courses/ComputationalGenomics/project/data/Histones_ChIP-seq/signal/H3K27me3/processed/ENCFF242ENK.bigWig.bedgraph.5k.bin', '/gpfs/commons/home/cangel/g2lab/courses/ComputationalGenomics/project/data/Histones_ChIP-seq/signal/H3K27me3/processed/ENCFF291FXA.bigWig.bedgraph.5k.bin', '/gpfs/commons/home/cangel/g2lab/courses/ComputationalGenomics/project/data/Histones_ChIP-seq/signal/H3K27me3/processed/ENCFF964LSZ.bigWig.bedgraph.5k.bin']\n",
      "Scanning paths ['/gpfs/commons/home/cangel/g2lab/courses/ComputationalGenomics/project/data/Histones_ChIP-seq/signal/H3K4me1/processed/ENCFF106VML.bigWig.bedgraph.5k.bin', '/gpfs/commons/home/cangel/g2lab/courses/ComputationalGenomics/project/data/Histones_ChIP-seq/signal/H3K4me1/processed/ENCFF526QTS.bigWig.bedgraph.5k.bin', '/gpfs/commons/home/cangel/g2lab/courses/ComputationalGenomics/project/data/Histones_ChIP-seq/signal/H3K4me1/processed/ENCFF444SGK.bigWig.bedgraph.5k.bin', '/gpfs/commons/home/cangel/g2lab/courses/ComputationalGenomics/project/data/Histones_ChIP-seq/signal/H3K4me1/processed/ENCFF439ZCI.bigWig.bedgraph.5k.bin', '/gpfs/commons/home/cangel/g2lab/courses/ComputationalGenomics/project/data/Histones_ChIP-seq/signal/H3K4me1/processed/ENCFF624RNZ.bigWig.bedgraph.5k.bin', '/gpfs/commons/home/cangel/g2lab/courses/ComputationalGenomics/project/data/Histones_ChIP-seq/signal/H3K4me1/processed/ENCFF463AQS.bigWig.bedgraph.5k.bin']\n",
      "Scanning paths ['/gpfs/commons/home/cangel/g2lab/courses/ComputationalGenomics/project/data/Histones_ChIP-seq/signal/H3K27Ac/processed/ENCFF945XHA.bigWig.bedgraph.5k.bin', '/gpfs/commons/home/cangel/g2lab/courses/ComputationalGenomics/project/data/Histones_ChIP-seq/signal/H3K27Ac/processed/ENCFF779QTH.bigWig.bedgraph.5k.bin', '/gpfs/commons/home/cangel/g2lab/courses/ComputationalGenomics/project/data/Histones_ChIP-seq/signal/H3K27Ac/processed/ENCFF814HWX.bigWig.bedgraph.5k.bin']\n"
     ]
    }
   ],
   "source": [
    "histone_path = \"/gpfs/commons/home/cangel/g2lab/courses/ComputationalGenomics/project/data/Histones_ChIP-seq/signal/\"\n",
    "histones = os.listdir(histone_path)\n",
    "\n",
    "histone_data = []\n",
    "for i in histones:\n",
    "    if i == 'README' or i==\"tmp\":\n",
    "        continue\n",
    "    \n",
    "    col_dtype={\"Chr\":str, \"Start\":int, \"End\":int, i:object}\n",
    "    col_names = [\"Chr\", \"Start\", \"End\", i]\n",
    "\n",
    "    histone_paths = glob.glob(os.path.join(histone_path,i + \"/processed/\",'*bin'))\n",
    "    print(\"Scanning paths\", histone_paths)\n",
    "    for i,p in enumerate(histone_paths):\n",
    "        if i != 0:\n",
    "            continue\n",
    "        histone_data.append(pd.read_csv(p, sep='\\t', names = col_names ,dtype = col_dtype))"
   ]
  },
  {
   "cell_type": "code",
   "execution_count": 159,
   "metadata": {},
   "outputs": [],
   "source": [
    "histone_data = pd.concat(histone_data, axis = 1)"
   ]
  },
  {
   "cell_type": "code",
   "execution_count": 160,
   "metadata": {},
   "outputs": [],
   "source": [
    "full_data = pd.concat([histone_data, atac_data_first, HiC_data_first, rna_data_first], axis=1)"
   ]
  },
  {
   "cell_type": "code",
   "execution_count": 161,
   "metadata": {},
   "outputs": [
    {
     "data": {
      "text/html": [
       "<div>\n",
       "<style scoped>\n",
       "    .dataframe tbody tr th:only-of-type {\n",
       "        vertical-align: middle;\n",
       "    }\n",
       "\n",
       "    .dataframe tbody tr th {\n",
       "        vertical-align: top;\n",
       "    }\n",
       "\n",
       "    .dataframe thead th {\n",
       "        text-align: right;\n",
       "    }\n",
       "</style>\n",
       "<table border=\"1\" class=\"dataframe\">\n",
       "  <thead>\n",
       "    <tr style=\"text-align: right;\">\n",
       "      <th></th>\n",
       "      <th>Chr</th>\n",
       "      <th>Start</th>\n",
       "      <th>End</th>\n",
       "      <th>H3K9Ac</th>\n",
       "      <th>H3K4me3</th>\n",
       "      <th>H3K4me2</th>\n",
       "      <th>H3K27me3</th>\n",
       "      <th>H3K4me1</th>\n",
       "      <th>H3K27Ac</th>\n",
       "      <th>ATAC Seq</th>\n",
       "      <th>HiC</th>\n",
       "      <th>RNA Seq</th>\n",
       "    </tr>\n",
       "  </thead>\n",
       "  <tbody>\n",
       "    <tr>\n",
       "      <th>0</th>\n",
       "      <td>chr1</td>\n",
       "      <td>0.0</td>\n",
       "      <td>5000.0</td>\n",
       "      <td>0</td>\n",
       "      <td>0</td>\n",
       "      <td>0</td>\n",
       "      <td>0</td>\n",
       "      <td>0</td>\n",
       "      <td>0</td>\n",
       "      <td>0</td>\n",
       "      <td>False</td>\n",
       "      <td>0</td>\n",
       "    </tr>\n",
       "    <tr>\n",
       "      <th>1</th>\n",
       "      <td>chr1</td>\n",
       "      <td>5000.0</td>\n",
       "      <td>10000.0</td>\n",
       "      <td>0.49282</td>\n",
       "      <td>0</td>\n",
       "      <td>0</td>\n",
       "      <td>0</td>\n",
       "      <td>0</td>\n",
       "      <td>0</td>\n",
       "      <td>0.883549375</td>\n",
       "      <td>False</td>\n",
       "      <td>0.143445</td>\n",
       "    </tr>\n",
       "    <tr>\n",
       "      <th>2</th>\n",
       "      <td>chr1</td>\n",
       "      <td>10000.0</td>\n",
       "      <td>15000.0</td>\n",
       "      <td>0.49282</td>\n",
       "      <td>0.324895</td>\n",
       "      <td>0.7650271429</td>\n",
       "      <td>0.1683011111</td>\n",
       "      <td>1.34854</td>\n",
       "      <td>0</td>\n",
       "      <td>1.449749032</td>\n",
       "      <td>False</td>\n",
       "      <td>0.6310735</td>\n",
       "    </tr>\n",
       "    <tr>\n",
       "      <th>3</th>\n",
       "      <td>chr1</td>\n",
       "      <td>15000.0</td>\n",
       "      <td>20000.0</td>\n",
       "      <td>0.4676966667</td>\n",
       "      <td>0.324895</td>\n",
       "      <td>0.8248666667</td>\n",
       "      <td>0.3365853333</td>\n",
       "      <td>2.753958</td>\n",
       "      <td>0</td>\n",
       "      <td>0.03929666667</td>\n",
       "      <td>False</td>\n",
       "      <td>1.705633125</td>\n",
       "    </tr>\n",
       "    <tr>\n",
       "      <th>4</th>\n",
       "      <td>chr1</td>\n",
       "      <td>20000.0</td>\n",
       "      <td>25000.0</td>\n",
       "      <td>0</td>\n",
       "      <td>0</td>\n",
       "      <td>0</td>\n",
       "      <td>0</td>\n",
       "      <td>0</td>\n",
       "      <td>0</td>\n",
       "      <td>0.058945</td>\n",
       "      <td>False</td>\n",
       "      <td>0</td>\n",
       "    </tr>\n",
       "    <tr>\n",
       "      <th>...</th>\n",
       "      <td>...</td>\n",
       "      <td>...</td>\n",
       "      <td>...</td>\n",
       "      <td>...</td>\n",
       "      <td>...</td>\n",
       "      <td>...</td>\n",
       "      <td>...</td>\n",
       "      <td>...</td>\n",
       "      <td>...</td>\n",
       "      <td>...</td>\n",
       "      <td>...</td>\n",
       "      <td>...</td>\n",
       "    </tr>\n",
       "    <tr>\n",
       "      <th>575613</th>\n",
       "      <td>chr9</td>\n",
       "      <td>138200000.0</td>\n",
       "      <td>138205000.0</td>\n",
       "      <td>0.8133788889</td>\n",
       "      <td>0.7203408696</td>\n",
       "      <td>0.7576727273</td>\n",
       "      <td>1.771971557</td>\n",
       "      <td>1.322228889</td>\n",
       "      <td>0</td>\n",
       "      <td>1.512159808</td>\n",
       "      <td>True</td>\n",
       "      <td>0.9834810135</td>\n",
       "    </tr>\n",
       "    <tr>\n",
       "      <th>575614</th>\n",
       "      <td>chr9</td>\n",
       "      <td>138205000.0</td>\n",
       "      <td>138210000.0</td>\n",
       "      <td>0.8671104762</td>\n",
       "      <td>0.64417</td>\n",
       "      <td>1.055530741</td>\n",
       "      <td>1.667426932</td>\n",
       "      <td>0</td>\n",
       "      <td>0</td>\n",
       "      <td>0.8579278377</td>\n",
       "      <td>True</td>\n",
       "      <td>0.9141488085</td>\n",
       "    </tr>\n",
       "    <tr>\n",
       "      <th>575615</th>\n",
       "      <td>chr9</td>\n",
       "      <td>138210000.0</td>\n",
       "      <td>138215000.0</td>\n",
       "      <td>1.4110376</td>\n",
       "      <td>0.6835154902</td>\n",
       "      <td>1.26374</td>\n",
       "      <td>1.886965572</td>\n",
       "      <td>1.376956</td>\n",
       "      <td>0</td>\n",
       "      <td>1.416246295</td>\n",
       "      <td>True</td>\n",
       "      <td>0.9557752336</td>\n",
       "    </tr>\n",
       "    <tr>\n",
       "      <th>575616</th>\n",
       "      <td>chr9</td>\n",
       "      <td>138215000.0</td>\n",
       "      <td>138220000.0</td>\n",
       "      <td>1.702055581</td>\n",
       "      <td>0.5609403061</td>\n",
       "      <td>2.205159296</td>\n",
       "      <td>0.9668703429</td>\n",
       "      <td>1.541188571</td>\n",
       "      <td>0</td>\n",
       "      <td>0.6037253671</td>\n",
       "      <td>True</td>\n",
       "      <td>0.5257239732</td>\n",
       "    </tr>\n",
       "    <tr>\n",
       "      <th>575617</th>\n",
       "      <td>chr9</td>\n",
       "      <td>138220000.0</td>\n",
       "      <td>138225000.0</td>\n",
       "      <td>1.533297778</td>\n",
       "      <td>0.5035082653</td>\n",
       "      <td>2.132449362</td>\n",
       "      <td>0.4701110256</td>\n",
       "      <td>2.526808214</td>\n",
       "      <td>0</td>\n",
       "      <td>3.230313608</td>\n",
       "      <td>True</td>\n",
       "      <td>0.6920215894</td>\n",
       "    </tr>\n",
       "  </tbody>\n",
       "</table>\n",
       "<p>573303 rows × 12 columns</p>\n",
       "</div>"
      ],
      "text/plain": [
       "         Chr        Start          End        H3K9Ac       H3K4me3  \\\n",
       "0       chr1          0.0       5000.0             0             0   \n",
       "1       chr1       5000.0      10000.0       0.49282             0   \n",
       "2       chr1      10000.0      15000.0       0.49282      0.324895   \n",
       "3       chr1      15000.0      20000.0  0.4676966667      0.324895   \n",
       "4       chr1      20000.0      25000.0             0             0   \n",
       "...      ...          ...          ...           ...           ...   \n",
       "575613  chr9  138200000.0  138205000.0  0.8133788889  0.7203408696   \n",
       "575614  chr9  138205000.0  138210000.0  0.8671104762       0.64417   \n",
       "575615  chr9  138210000.0  138215000.0     1.4110376  0.6835154902   \n",
       "575616  chr9  138215000.0  138220000.0   1.702055581  0.5609403061   \n",
       "575617  chr9  138220000.0  138225000.0   1.533297778  0.5035082653   \n",
       "\n",
       "             H3K4me2      H3K27me3      H3K4me1 H3K27Ac       ATAC Seq    HiC  \\\n",
       "0                  0             0            0       0              0  False   \n",
       "1                  0             0            0       0    0.883549375  False   \n",
       "2       0.7650271429  0.1683011111      1.34854       0    1.449749032  False   \n",
       "3       0.8248666667  0.3365853333     2.753958       0  0.03929666667  False   \n",
       "4                  0             0            0       0       0.058945  False   \n",
       "...              ...           ...          ...     ...            ...    ...   \n",
       "575613  0.7576727273   1.771971557  1.322228889       0    1.512159808   True   \n",
       "575614   1.055530741   1.667426932            0       0   0.8579278377   True   \n",
       "575615       1.26374   1.886965572     1.376956       0    1.416246295   True   \n",
       "575616   2.205159296  0.9668703429  1.541188571       0   0.6037253671   True   \n",
       "575617   2.132449362  0.4701110256  2.526808214       0    3.230313608   True   \n",
       "\n",
       "             RNA Seq  \n",
       "0                  0  \n",
       "1           0.143445  \n",
       "2          0.6310735  \n",
       "3        1.705633125  \n",
       "4                  0  \n",
       "...              ...  \n",
       "575613  0.9834810135  \n",
       "575614  0.9141488085  \n",
       "575615  0.9557752336  \n",
       "575616  0.5257239732  \n",
       "575617  0.6920215894  \n",
       "\n",
       "[573303 rows x 12 columns]"
      ]
     },
     "execution_count": 161,
     "metadata": {},
     "output_type": "execute_result"
    }
   ],
   "source": [
    "full_data_trimmed"
   ]
  },
  {
   "cell_type": "code",
   "execution_count": 162,
   "metadata": {},
   "outputs": [],
   "source": [
    "full_data_trimmed = full_data.loc[:,~full_data.columns.duplicated()].copy()"
   ]
  },
  {
   "cell_type": "code",
   "execution_count": 163,
   "metadata": {},
   "outputs": [],
   "source": [
    "for x in [\"H3K9Ac\", \"H3K4me3\",\"H3K4me2\",\"H3K27me3\",\"H3K4me1\",\"H3K27Ac\",\"ATAC Seq\",\"HiC\",\"RNA Seq\"]:\n",
    "    full_data_trimmed = full_data_trimmed[full_data_trimmed[x].notna()]\n",
    "    full_data_trimmed = full_data_trimmed[full_data_trimmed[x] != \".\"]"
   ]
  },
  {
   "cell_type": "code",
   "execution_count": 88,
   "metadata": {},
   "outputs": [],
   "source": [
    "full_data_trimmed.to_csv(\"./full_signal_trimmed.csv\")"
   ]
  },
  {
   "cell_type": "code",
   "execution_count": 164,
   "metadata": {},
   "outputs": [],
   "source": [
    "from sklearn.preprocessing import MinMaxScaler\n",
    "from sklearn.preprocessing import normalize\n",
    "from sklearn.preprocessing import RobustScaler\n",
    "\n",
    "\n",
    "normalized_data = full_data_trimmed.copy()\n",
    "normalized_data[\"Start\"] = normalized_data[\"Start\"].div(5000)\n",
    "normalized_data[\"End\"] = normalized_data[\"End\"].div(5000)\n",
    "\n",
    "normalized_data['Chr'] = normalized_data['Chr'].astype(str) \n",
    "normalized_data['Start'] = normalized_data['Start'].astype(int)\n",
    "normalized_data['End'] = normalized_data['End'].astype(int)\n",
    "\n",
    "for col in [\"H3K9Ac\", \"H3K4me3\",\"H3K4me2\",\"H3K27me3\",\"H3K4me1\",\"H3K27Ac\",\"ATAC Seq\",\"RNA Seq\"]:\n",
    "    normalized_data[col] = normalized_data[col].astype(float)\n",
    "\n",
    "normalized_data.columns = ['Chr', 'Start (5000 bp steps)', 'End (5000 bp steps)', 'H3K9Ac', 'H3K4me3', 'H3K4me2', 'H3K27me3',\n",
    "       'H3K4me1', 'H3K27Ac', 'ATAC Seq', 'HiC', 'RNA Seq']\n",
    "\n",
    "for col in [\"H3K9Ac\", \"H3K4me3\",\"H3K4me2\",\"H3K27me3\",\"H3K4me1\",\"H3K27Ac\",\"ATAC Seq\",\"RNA Seq\"]:\n",
    "    normalized_data[col] = normalize( normalized_data[col].values.reshape(-1, 1), axis=0)\n",
    "    #scaler = MinMaxScaler()\n",
    "    \n",
    "    #normalized_data[col] = scaler.fit_transform(X=normalized_data[[col]])\n",
    "                                                                 \n",
    "Q1 = normalized_data[\"RNA Seq\"].quantile(0.25)\n",
    "Q3 = normalized_data[\"RNA Seq\"].quantile(0.75)\n",
    "IQR = Q3 - Q1\n",
    "lower_bound = Q1 - 1.5 * IQR\n",
    "upper_bound = Q3 + 1.5 * IQR\n",
    "\n",
    "normalized_data = normalized_data[(normalized_data['RNA Seq'] <= upper_bound)]\n",
    "\n",
    "\n",
    "\n"
   ]
  },
  {
   "cell_type": "code",
   "execution_count": 61,
   "metadata": {},
   "outputs": [
    {
     "data": {
      "text/plain": [
       "array([0., 1.])"
      ]
     },
     "execution_count": 61,
     "metadata": {},
     "output_type": "execute_result"
    }
   ],
   "source": []
  },
  {
   "cell_type": "code",
   "execution_count": 141,
   "metadata": {},
   "outputs": [
    {
     "data": {
      "text/html": [
       "<div>\n",
       "<style scoped>\n",
       "    .dataframe tbody tr th:only-of-type {\n",
       "        vertical-align: middle;\n",
       "    }\n",
       "\n",
       "    .dataframe tbody tr th {\n",
       "        vertical-align: top;\n",
       "    }\n",
       "\n",
       "    .dataframe thead th {\n",
       "        text-align: right;\n",
       "    }\n",
       "</style>\n",
       "<table border=\"1\" class=\"dataframe\">\n",
       "  <thead>\n",
       "    <tr style=\"text-align: right;\">\n",
       "      <th></th>\n",
       "      <th>Chr</th>\n",
       "      <th>Start (5000 bp steps)</th>\n",
       "      <th>End (5000 bp steps)</th>\n",
       "      <th>H3K9Ac</th>\n",
       "      <th>H3K4me3</th>\n",
       "      <th>H3K4me2</th>\n",
       "      <th>H3K27me3</th>\n",
       "      <th>H3K4me1</th>\n",
       "      <th>H3K27Ac</th>\n",
       "      <th>ATAC Seq</th>\n",
       "      <th>HiC</th>\n",
       "      <th>RNA Seq</th>\n",
       "    </tr>\n",
       "  </thead>\n",
       "  <tbody>\n",
       "    <tr>\n",
       "      <th>0</th>\n",
       "      <td>chr1</td>\n",
       "      <td>0</td>\n",
       "      <td>1</td>\n",
       "      <td>0.000000</td>\n",
       "      <td>0.000000</td>\n",
       "      <td>0.000000</td>\n",
       "      <td>0.000000</td>\n",
       "      <td>0.000000</td>\n",
       "      <td>0.0</td>\n",
       "      <td>0.000000</td>\n",
       "      <td>False</td>\n",
       "      <td>0.000000</td>\n",
       "    </tr>\n",
       "    <tr>\n",
       "      <th>1</th>\n",
       "      <td>chr1</td>\n",
       "      <td>1</td>\n",
       "      <td>2</td>\n",
       "      <td>0.000221</td>\n",
       "      <td>0.000000</td>\n",
       "      <td>0.000000</td>\n",
       "      <td>0.000000</td>\n",
       "      <td>0.000000</td>\n",
       "      <td>0.0</td>\n",
       "      <td>0.001211</td>\n",
       "      <td>False</td>\n",
       "      <td>0.000198</td>\n",
       "    </tr>\n",
       "    <tr>\n",
       "      <th>2</th>\n",
       "      <td>chr1</td>\n",
       "      <td>2</td>\n",
       "      <td>3</td>\n",
       "      <td>0.000221</td>\n",
       "      <td>0.000074</td>\n",
       "      <td>0.000310</td>\n",
       "      <td>0.000234</td>\n",
       "      <td>0.000651</td>\n",
       "      <td>0.0</td>\n",
       "      <td>0.001988</td>\n",
       "      <td>False</td>\n",
       "      <td>0.000870</td>\n",
       "    </tr>\n",
       "    <tr>\n",
       "      <th>4</th>\n",
       "      <td>chr1</td>\n",
       "      <td>4</td>\n",
       "      <td>5</td>\n",
       "      <td>0.000000</td>\n",
       "      <td>0.000000</td>\n",
       "      <td>0.000000</td>\n",
       "      <td>0.000000</td>\n",
       "      <td>0.000000</td>\n",
       "      <td>0.0</td>\n",
       "      <td>0.000081</td>\n",
       "      <td>False</td>\n",
       "      <td>0.000000</td>\n",
       "    </tr>\n",
       "    <tr>\n",
       "      <th>5</th>\n",
       "      <td>chr1</td>\n",
       "      <td>5</td>\n",
       "      <td>6</td>\n",
       "      <td>0.000354</td>\n",
       "      <td>0.000000</td>\n",
       "      <td>0.000129</td>\n",
       "      <td>0.000000</td>\n",
       "      <td>0.000000</td>\n",
       "      <td>0.0</td>\n",
       "      <td>0.000162</td>\n",
       "      <td>False</td>\n",
       "      <td>0.000000</td>\n",
       "    </tr>\n",
       "    <tr>\n",
       "      <th>...</th>\n",
       "      <td>...</td>\n",
       "      <td>...</td>\n",
       "      <td>...</td>\n",
       "      <td>...</td>\n",
       "      <td>...</td>\n",
       "      <td>...</td>\n",
       "      <td>...</td>\n",
       "      <td>...</td>\n",
       "      <td>...</td>\n",
       "      <td>...</td>\n",
       "      <td>...</td>\n",
       "      <td>...</td>\n",
       "    </tr>\n",
       "    <tr>\n",
       "      <th>575613</th>\n",
       "      <td>chr9</td>\n",
       "      <td>27640</td>\n",
       "      <td>27641</td>\n",
       "      <td>0.000365</td>\n",
       "      <td>0.000165</td>\n",
       "      <td>0.000307</td>\n",
       "      <td>0.002461</td>\n",
       "      <td>0.000638</td>\n",
       "      <td>0.0</td>\n",
       "      <td>0.002073</td>\n",
       "      <td>True</td>\n",
       "      <td>0.001355</td>\n",
       "    </tr>\n",
       "    <tr>\n",
       "      <th>575614</th>\n",
       "      <td>chr9</td>\n",
       "      <td>27641</td>\n",
       "      <td>27642</td>\n",
       "      <td>0.000389</td>\n",
       "      <td>0.000147</td>\n",
       "      <td>0.000427</td>\n",
       "      <td>0.002315</td>\n",
       "      <td>0.000000</td>\n",
       "      <td>0.0</td>\n",
       "      <td>0.001176</td>\n",
       "      <td>True</td>\n",
       "      <td>0.001260</td>\n",
       "    </tr>\n",
       "    <tr>\n",
       "      <th>575615</th>\n",
       "      <td>chr9</td>\n",
       "      <td>27642</td>\n",
       "      <td>27643</td>\n",
       "      <td>0.000633</td>\n",
       "      <td>0.000156</td>\n",
       "      <td>0.000512</td>\n",
       "      <td>0.002620</td>\n",
       "      <td>0.000665</td>\n",
       "      <td>0.0</td>\n",
       "      <td>0.001942</td>\n",
       "      <td>True</td>\n",
       "      <td>0.001317</td>\n",
       "    </tr>\n",
       "    <tr>\n",
       "      <th>575616</th>\n",
       "      <td>chr9</td>\n",
       "      <td>27643</td>\n",
       "      <td>27644</td>\n",
       "      <td>0.000763</td>\n",
       "      <td>0.000128</td>\n",
       "      <td>0.000893</td>\n",
       "      <td>0.001343</td>\n",
       "      <td>0.000744</td>\n",
       "      <td>0.0</td>\n",
       "      <td>0.000828</td>\n",
       "      <td>True</td>\n",
       "      <td>0.000724</td>\n",
       "    </tr>\n",
       "    <tr>\n",
       "      <th>575617</th>\n",
       "      <td>chr9</td>\n",
       "      <td>27644</td>\n",
       "      <td>27645</td>\n",
       "      <td>0.000688</td>\n",
       "      <td>0.000115</td>\n",
       "      <td>0.000864</td>\n",
       "      <td>0.000653</td>\n",
       "      <td>0.001220</td>\n",
       "      <td>0.0</td>\n",
       "      <td>0.004429</td>\n",
       "      <td>True</td>\n",
       "      <td>0.000954</td>\n",
       "    </tr>\n",
       "  </tbody>\n",
       "</table>\n",
       "<p>554367 rows × 12 columns</p>\n",
       "</div>"
      ],
      "text/plain": [
       "         Chr  Start (5000 bp steps)  End (5000 bp steps)    H3K9Ac   H3K4me3  \\\n",
       "0       chr1                      0                    1  0.000000  0.000000   \n",
       "1       chr1                      1                    2  0.000221  0.000000   \n",
       "2       chr1                      2                    3  0.000221  0.000074   \n",
       "4       chr1                      4                    5  0.000000  0.000000   \n",
       "5       chr1                      5                    6  0.000354  0.000000   \n",
       "...      ...                    ...                  ...       ...       ...   \n",
       "575613  chr9                  27640                27641  0.000365  0.000165   \n",
       "575614  chr9                  27641                27642  0.000389  0.000147   \n",
       "575615  chr9                  27642                27643  0.000633  0.000156   \n",
       "575616  chr9                  27643                27644  0.000763  0.000128   \n",
       "575617  chr9                  27644                27645  0.000688  0.000115   \n",
       "\n",
       "         H3K4me2  H3K27me3   H3K4me1  H3K27Ac  ATAC Seq    HiC   RNA Seq  \n",
       "0       0.000000  0.000000  0.000000      0.0  0.000000  False  0.000000  \n",
       "1       0.000000  0.000000  0.000000      0.0  0.001211  False  0.000198  \n",
       "2       0.000310  0.000234  0.000651      0.0  0.001988  False  0.000870  \n",
       "4       0.000000  0.000000  0.000000      0.0  0.000081  False  0.000000  \n",
       "5       0.000129  0.000000  0.000000      0.0  0.000162  False  0.000000  \n",
       "...          ...       ...       ...      ...       ...    ...       ...  \n",
       "575613  0.000307  0.002461  0.000638      0.0  0.002073   True  0.001355  \n",
       "575614  0.000427  0.002315  0.000000      0.0  0.001176   True  0.001260  \n",
       "575615  0.000512  0.002620  0.000665      0.0  0.001942   True  0.001317  \n",
       "575616  0.000893  0.001343  0.000744      0.0  0.000828   True  0.000724  \n",
       "575617  0.000864  0.000653  0.001220      0.0  0.004429   True  0.000954  \n",
       "\n",
       "[554367 rows x 12 columns]"
      ]
     },
     "execution_count": 141,
     "metadata": {},
     "output_type": "execute_result"
    }
   ],
   "source": [
    "normalized_data"
   ]
  },
  {
   "cell_type": "code",
   "execution_count": 69,
   "metadata": {},
   "outputs": [],
   "source": [
    "normalized_data.to_csv(\"./normalized_signal_data.csv\")"
   ]
  },
  {
   "cell_type": "code",
   "execution_count": 128,
   "metadata": {},
   "outputs": [],
   "source": [
    "from sklearn.neural_network import MLPRegressor\n",
    "from sklearn.model_selection import train_test_split\n",
    "from sklearn.metrics import mean_squared_error"
   ]
  },
  {
   "cell_type": "code",
   "execution_count": 179,
   "metadata": {},
   "outputs": [],
   "source": [
    "# Split the data into training and test sets\n",
    "X_train, X_test, y_train, y_test = train_test_split(\n",
    "    normalized_data[['H3K9Ac', 'H3K4me3', 'H3K4me2', 'H3K27me3', 'H3K4me1', 'H3K27Ac', 'ATAC Seq', 'HiC']],\n",
    "    normalized_data['RNA Seq'], test_size=0.2)\n",
    "\n",
    "X_train = X_train[:len(X_train)//10]\n",
    "y_train = y_train[:len(y_train)//10]\n",
    "X_test = X_test[:len(X_test)//10]\n",
    "y_test = y_test[:len(y_test)//10]\n",
    "\n",
    "# Train a MLP regressor with two hidden layers of 10 neurons each\n",
    "#mlp = MLPRegressor(hidden_layer_sizes=(400, 200, 100, 50,25,10))\n",
    "mlp = MLPRegressor(hidden_layer_sizes=(100,100))\n",
    "\n",
    "mlp.fit(X_train, y_train)\n",
    "\n",
    "# Predict the target values on the test set and calculate the mean squared error\n",
    "y_pred = mlp.predict(X_test)\n"
   ]
  },
  {
   "cell_type": "code",
   "execution_count": 180,
   "metadata": {},
   "outputs": [
    {
     "name": "stdout",
     "output_type": "stream",
     "text": [
      "Mean squared error: 1.6915017436628627e-07\n"
     ]
    }
   ],
   "source": [
    "mse = mean_squared_error(y_test, y_pred)\n",
    "\n",
    "print(f\"Mean squared error: {mse:}\")\n"
   ]
  },
  {
   "cell_type": "code",
   "execution_count": 181,
   "metadata": {},
   "outputs": [
    {
     "data": {
      "image/png": "[encoded data removed]",
      "text/plain": [
       "<Figure size 432x288 with 1 Axes>"
      ]
     },
     "metadata": {
      "needs_background": "light"
     },
     "output_type": "display_data"
    }
   ],
   "source": [
    "import numpy as np\n",
    "import matplotlib.pyplot as plt\n",
    "from scipy.stats import gaussian_kde\n",
    "\n",
    "# Calculate the point density\n",
    "xy = np.vstack([y_test,y_pred])\n",
    "z = gaussian_kde(xy)(xy)\n",
    "\n",
    "fig, ax = plt.subplots()\n",
    "ax.scatter(y_test, y_pred, c=z, s=100)\n",
    "plt.plot([y_test.min(), y_test.max()], [y_test.min(), y_test.max()], 'k--', lw=4)\n",
    "\n",
    "plt.xlabel('Actual')\n",
    "plt.ylabel('Predicted')\n",
    "\n",
    "plt.show()"
   ]
  },
  {
   "cell_type": "code",
   "execution_count": 182,
   "metadata": {},
   "outputs": [
    {
     "data": {
      "image/png": "[encoded data removed]",
      "text/plain": [
       "<Figure size 432x288 with 1 Axes>"
      ]
     },
     "metadata": {
      "needs_background": "light"
     },
     "output_type": "display_data"
    }
   ],
   "source": [
    "import numpy as np\n",
    "import matplotlib.pyplot as plt\n",
    "from scipy.stats import gaussian_kde\n",
    "\n",
    "# Calculate the point density\n",
    "xy = np.vstack([y_test,y_pred])\n",
    "z = gaussian_kde(xy)(xy)\n",
    "\n",
    "fig, ax = plt.subplots()\n",
    "ax.scatter(y_test, y_pred, c=z, s=100)\n",
    "plt.plot([y_test.min(), y_test.max()], [y_test.min(), y_test.max()], 'k--', lw=4)\n",
    "\n",
    "plt.xlabel('Actual')\n",
    "plt.ylabel('Predicted')\n",
    "\n",
    "ax.set_xlim([0.00025, 0.002]) \n",
    "ax.set_ylim([0.00025, 0.002])\n",
    "\n",
    "plt.show()\n"
   ]
  },
  {
   "cell_type": "code",
   "execution_count": 200,
   "metadata": {},
   "outputs": [
    {
     "data": {
      "image/png": "[encoded data removed]",
      "text/plain": [
       "<Figure size 432x288 with 1 Axes>"
      ]
     },
     "metadata": {
      "needs_background": "light"
     },
     "output_type": "display_data"
    }
   ],
   "source": [
    "import numpy as np\n",
    "import matplotlib.pyplot as plt\n",
    "from sklearn.neural_network import MLPRegressor\n",
    "from sklearn.metrics import mean_squared_error\n",
    "\n",
    "bins = np.linspace(0.00075, 0.002, 100)  # 10 equally-spaced bins\n",
    "accuracy = []\n",
    "for i in range(len(bins)-1):\n",
    "    idx = np.where((y_test >= bins[i]) & (y_test < bins[i+1]))\n",
    "    if len(idx[0]) == 0 or len(idx[0]) == 1:\n",
    "        accuracy.append(0)\n",
    "        continue\n",
    "    bin_acc = 90 * mean_squared_error(y_test.to_numpy()[idx], y_pred[idx])\n",
    "    accuracy.append(bin_acc)\n",
    "\n",
    "# Plot accuracy vs actual value bins\n",
    "ax = plt.bar(bins[:-1][:len(accuracy)], accuracy, width=(bins[1]-bins[0]), align='edge')\n",
    "plt.xlabel('Actual value bins')\n",
    "plt.ylabel('Accuracy (MSE score)')\n",
    "\n",
    "plt.show()"
   ]
  },
  {
   "cell_type": "code",
   "execution_count": null,
   "metadata": {},
   "outputs": [],
   "source": []
  },
  {
   "cell_type": "code",
   "execution_count": null,
   "metadata": {},
   "outputs": [],
   "source": []
  },
  {
   "cell_type": "code",
   "execution_count": null,
   "metadata": {},
   "outputs": [],
   "source": []
  },
  {
   "cell_type": "code",
   "execution_count": null,
   "metadata": {},
   "outputs": [],
   "source": []
  },
  {
   "cell_type": "code",
   "execution_count": 175,
   "metadata": {},
   "outputs": [
    {
     "data": {
      "image/png": "[encoded data removed]",
      "text/plain": [
       "<Figure size 432x288 with 1 Axes>"
      ]
     },
     "metadata": {
      "needs_background": "light"
     },
     "output_type": "display_data"
    }
   ],
   "source": [
    "import matplotlib.pyplot as plt\n",
    "\n",
    "\n",
    "plt.scatter(y_test, y_pred)\n",
    "plt.plot([y_test.min(), y_test.max()], [y_test.min(), y_test.max()], 'k--', lw=4)\n",
    "plt.xlabel('Actual')\n",
    "plt.ylabel('Predicted')\n",
    "plt.show()"
   ]
  },
  {
   "cell_type": "code",
   "execution_count": 51,
   "metadata": {},
   "outputs": [
    {
     "data": {
      "image/png": "[encoded data removed]",
      "text/plain": [
       "<Figure size 432x288 with 1 Axes>"
      ]
     },
     "metadata": {
      "needs_background": "light"
     },
     "output_type": "display_data"
    }
   ],
   "source": [
    "import matplotlib.pyplot as plt\n",
    "\n",
    "\n",
    "plt.scatter(y_test, y_pred)\n",
    "plt.plot([0, 0.1], [0, 0.1], 'k--', lw=4)\n",
    "plt.xlabel('Actual')\n",
    "plt.ylabel('Predicted')\n",
    "plt.show()"
   ]
  },
  {
   "cell_type": "code",
   "execution_count": 52,
   "metadata": {},
   "outputs": [
    {
     "name": "stdout",
     "output_type": "stream",
     "text": [
      "-3.2950409083313152\n",
      "-30.896518261580486\n",
      "-6.234509175184095\n",
      "-2.8119540799071943\n",
      "-18.55721892115593\n",
      "-49.64258032929112\n",
      "-74.08167030373849\n",
      "-97.64915813712821\n",
      "-111.80912960641925\n",
      "-122.45688095731064\n",
      "-194.23048030087364\n",
      "-270.61578126340413\n",
      "-434.36921589652235\n",
      "-531.1213823078099\n",
      "-556.6100783369697\n",
      "-1097.0887356652913\n",
      "-1128.1982458333437\n",
      "-1196.8434562112996\n",
      "-1124.975514022541\n",
      "-2303.4728550840946\n",
      "-1171.7380001105207\n",
      "-12487.074406791908\n",
      "-4611.973763445312\n",
      "-18332.248666814176\n",
      "-27171.338927133067\n",
      "-5201.34599448489\n",
      "-95354.26792669215\n",
      "-6880.580155799147\n",
      "-7972.042652016419\n"
     ]
    },
    {
     "data": {
      "image/png": "[encoded data removed]",
      "text/plain": [
       "<Figure size 432x288 with 1 Axes>"
      ]
     },
     "metadata": {
      "needs_background": "light"
     },
     "output_type": "display_data"
    }
   ],
   "source": [
    "import numpy as np\n",
    "import matplotlib.pyplot as plt\n",
    "from sklearn.neural_network import MLPRegressor\n",
    "from sklearn.metrics import r2_score\n",
    "\n",
    "\n",
    "bins = np.linspace(np.min(y_test), np.max(y_test), 100)  # 10 equally-spaced bins\n",
    "accuracy = []\n",
    "for i in range(len(bins)-1):\n",
    "    idx = np.where((y_test >= bins[i]) & (y_test < bins[i+1]))\n",
    "    if len(idx[0]) == 0 or len(idx[0]) == 1:\n",
    "        break\n",
    "    bin_acc = r2_score(y_test.to_numpy()[idx], y_pred[idx])\n",
    "    print(bin_acc)\n",
    "    accuracy.append(bin_acc)\n",
    "\n",
    "# Plot accuracy vs actual value bins\n",
    "plt.bar(bins[:-1][:len(accuracy)], accuracy, width=(bins[1]-bins[0]), align='edge')\n",
    "plt.xlabel('Actual value bins')\n",
    "plt.ylabel('Accuracy (R2 score)')\n",
    "plt.show()"
   ]
  },
  {
   "cell_type": "code",
   "execution_count": 174,
   "metadata": {},
   "outputs": [
    {
     "data": {
      "image/png": "[encoded data removed]",
      "text/plain": [
       "<Figure size 432x288 with 1 Axes>"
      ]
     },
     "metadata": {
      "needs_background": "light"
     },
     "output_type": "display_data"
    }
   ],
   "source": [
    "import numpy as np\n",
    "import matplotlib.pyplot as plt\n",
    "from sklearn.neural_network import MLPRegressor\n",
    "from sklearn.metrics import mean_squared_error\n",
    "\n",
    "\n",
    "bins = np.linspace(np.min(y_test), np.max(y_test), 100)  # 10 equally-spaced bins\n",
    "accuracy = []\n",
    "for i in range(len(bins)-1):\n",
    "    idx = np.where((y_test >= bins[i]) & (y_test < bins[i+1]))\n",
    "    if len(idx[0]) == 0 or len(idx[0]) == 1:\n",
    "        break\n",
    "    bin_acc = mean_squared_error(y_test.to_numpy()[idx], y_pred[idx])\n",
    "    accuracy.append(bin_acc)\n",
    "\n",
    "# Plot accuracy vs actual value bins\n",
    "plt.bar(bins[:-1][:len(accuracy)], accuracy, width=(bins[1]-bins[0]), align='edge')\n",
    "plt.xlabel('Actual value bins')\n",
    "plt.ylabel('Accuracy (MSE score)')\n",
    "plt.show()"
   ]
  },
  {
   "cell_type": "code",
   "execution_count": 110,
   "metadata": {},
   "outputs": [
    {
     "ename": "TypeError",
     "evalue": "__init__() got an unexpected keyword argument 'class_weight'",
     "output_type": "error",
     "traceback": [
      "\u001b[0;31m---------------------------------------------------------------------------\u001b[0m",
      "\u001b[0;31mTypeError\u001b[0m                                 Traceback (most recent call last)",
      "\u001b[0;32m<ipython-input-110-b39833832b4a>\u001b[0m in \u001b[0;36m<module>\u001b[0;34m()\u001b[0m\n\u001b[1;32m      7\u001b[0m \u001b[0;34m\u001b[0m\u001b[0m\n\u001b[1;32m      8\u001b[0m \u001b[0;31m# Train a MLP classifier with two hidden layers of 10 neurons each\u001b[0m\u001b[0;34m\u001b[0m\u001b[0;34m\u001b[0m\u001b[0m\n\u001b[0;32m----> 9\u001b[0;31m \u001b[0mmlp\u001b[0m \u001b[0;34m=\u001b[0m \u001b[0mMLPClassifier\u001b[0m\u001b[0;34m(\u001b[0m\u001b[0mhidden_layer_sizes\u001b[0m\u001b[0;34m=\u001b[0m\u001b[0;34m(\u001b[0m\u001b[0;36m10\u001b[0m\u001b[0;34m,\u001b[0m \u001b[0;36m10\u001b[0m\u001b[0;34m)\u001b[0m\u001b[0;34m,\u001b[0m \u001b[0mclass_weight\u001b[0m\u001b[0;34m=\u001b[0m\u001b[0mclass_weights\u001b[0m\u001b[0;34m)\u001b[0m\u001b[0;34m\u001b[0m\u001b[0m\n\u001b[0m\u001b[1;32m     10\u001b[0m \u001b[0mmlp\u001b[0m\u001b[0;34m.\u001b[0m\u001b[0mfit\u001b[0m\u001b[0;34m(\u001b[0m\u001b[0mX_train\u001b[0m\u001b[0;34m,\u001b[0m \u001b[0my_train\u001b[0m\u001b[0;34m)\u001b[0m\u001b[0;34m\u001b[0m\u001b[0m\n",
      "\u001b[0;31mTypeError\u001b[0m: __init__() got an unexpected keyword argument 'class_weight'"
     ]
    }
   ],
   "source": [
    "import pandas as pd\n",
    "from sklearn.neural_network import MLPClassifier\n",
    "from sklearn.model_selection import train_test_split\n",
    "from sklearn.metrics import roc_curve, auc\n",
    "\n",
    "class_weights = {0: 1, 1: len(y_train[y_train==0])/len(y_train[y_train==1])}\n",
    "\n",
    "# Train a MLP classifier with two hidden layers of 10 neurons each\n",
    "mlp = MLPClassifier(hidden_layer_sizes=(10, 10), class_weight=class_weights)\n",
    "mlp.fit(X_train, y_train)"
   ]
  },
  {
   "cell_type": "code",
   "execution_count": 109,
   "metadata": {},
   "outputs": [
    {
     "data": {
      "image/png": "[encoded data removed]",
      "text/plain": [
       "<Figure size 432x288 with 1 Axes>"
      ]
     },
     "metadata": {
      "needs_background": "light"
     },
     "output_type": "display_data"
    }
   ],
   "source": [
    "# Predict the probabilities of the positive class on the test set\n",
    "y_pred_prob = mlp.predict_proba(X_test)[:, 1]\n",
    "\n",
    "# Compute the false positive rate, true positive rate and thresholds for the ROC curve\n",
    "fpr, tpr, thresholds = roc_curve(y_test, y_pred_prob)\n",
    "\n",
    "# Calculate the area under the ROC curve\n",
    "roc_auc = auc(fpr, tpr)\n",
    "\n",
    "# Plot the ROC curve\n",
    "plt.plot(fpr, tpr, color='darkorange', lw=2, label='ROC curve (area = %0.2f)' % roc_auc)\n",
    "plt.plot([0, 1], [0, 1], color='navy', lw=2, linestyle='--')\n",
    "plt.xlim([0.0, 1.0])\n",
    "plt.ylim([0.0, 1.05])\n",
    "plt.xlabel('False Positive Rate')\n",
    "plt.ylabel('True Positive Rate')\n",
    "plt.title('Receiver operating characteristic')\n",
    "plt.legend(loc=\"lower right\")\n",
    "plt.show()\n"
   ]
  },
  {
   "cell_type": "code",
   "execution_count": 60,
   "metadata": {},
   "outputs": [
    {
     "ename": "IndexError",
     "evalue": "list index out of range",
     "output_type": "error",
     "traceback": [
      "\u001b[0;31m---------------------------------------------------------------------------\u001b[0m",
      "\u001b[0;31mIndexError\u001b[0m                                Traceback (most recent call last)",
      "\u001b[0;32m<ipython-input-60-6dcccbeb1ffb>\u001b[0m in \u001b[0;36m<module>\u001b[0;34m()\u001b[0m\n\u001b[1;32m      1\u001b[0m obs = [pd.read_table(glob.glob(os.path.join(root_path,i + \"/peaks/\",'*binary'))[0],header = None, \n\u001b[0;32m----> 2\u001b[0;31m                      names= ['chr','start','end',i]) for i in assays if i!= 'README' or i!='resources' or i != 'Histones_ChIP-seq']\n\u001b[0m",
      "\u001b[0;32m<ipython-input-60-6dcccbeb1ffb>\u001b[0m in \u001b[0;36m<listcomp>\u001b[0;34m(.0)\u001b[0m\n\u001b[1;32m      1\u001b[0m obs = [pd.read_table(glob.glob(os.path.join(root_path,i + \"/peaks/\",'*binary'))[0],header = None, \n\u001b[0;32m----> 2\u001b[0;31m                      names= ['chr','start','end',i]) for i in assays if i!= 'README' or i!='resources' or i != 'Histones_ChIP-seq']\n\u001b[0m",
      "\u001b[0;31mIndexError\u001b[0m: list index out of range"
     ]
    }
   ],
   "source": [
    "obs = [pd.read_table(glob.glob(os.path.join(root_path,i + \"/peaks/\",'*binary'))[0],header = None, \n",
    "                     names= ['chr','start','end',i]) for i in assays if i!= 'README' or i!='resources' or i != 'Histones_ChIP-seq']"
   ]
  },
  {
   "cell_type": "code",
   "execution_count": 57,
   "metadata": {},
   "outputs": [
    {
     "ename": "NameError",
     "evalue": "name 'obs' is not defined",
     "output_type": "error",
     "traceback": [
      "\u001b[0;31m---------------------------------------------------------------------------\u001b[0m",
      "\u001b[0;31mNameError\u001b[0m                                 Traceback (most recent call last)",
      "\u001b[0;32m<ipython-input-57-3c6bdfe70d69>\u001b[0m in \u001b[0;36m<module>\u001b[0;34m()\u001b[0m\n\u001b[0;32m----> 1\u001b[0;31m \u001b[0mobs\u001b[0m\u001b[0;34m\u001b[0m\u001b[0m\n\u001b[0m",
      "\u001b[0;31mNameError\u001b[0m: name 'obs' is not defined"
     ]
    }
   ],
   "source": [
    "obs = [pd.read_table(glob.glob(os.path.join(root_path,i + \"/peaks/\",'*binary'))[0],header = None, \n",
    "                     names= ['chr','start','end',i]) for i in assays if i!= 'README' or i!='resources']"
   ]
  },
  {
   "cell_type": "code",
   "execution_count": 51,
   "metadata": {},
   "outputs": [
    {
     "name": "stdout",
     "output_type": "stream",
     "text": [
      "['RNAPolymerase_ChIP-seq', 'Histones_ChIP-seq', 'HiC_AB', 'resources', 'ATAC-seq']\n"
     ]
    }
   ],
   "source": []
  },
  {
   "cell_type": "code",
   "execution_count": 111,
   "metadata": {},
   "outputs": [],
   "source": [
    "import torch\n",
    "import torch.nn as nn\n",
    "import torch.optim as optim\n",
    "from torch.utils.data import DataLoader, TensorDataset\n",
    "import pandas as pd\n",
    "from sklearn.model_selection import train_test_split"
   ]
  },
  {
   "cell_type": "code",
   "execution_count": 112,
   "metadata": {},
   "outputs": [],
   "source": [
    "# Define the MLP class\n",
    "class MLP(nn.Module):\n",
    "    def __init__(self, input_size, hidden_size, output_size):\n",
    "        super().__init__()\n",
    "        self.fc1 = nn.Linear(input_size, hidden_size)\n",
    "        self.fc2 = nn.Linear(hidden_size, output_size)\n",
    "        \n",
    "    def forward(self, x):\n",
    "        x = torch.relu(self.fc1(x))\n",
    "        x = self.fc2(x)\n",
    "        return x"
   ]
  },
  {
   "cell_type": "code",
   "execution_count": 141,
   "metadata": {},
   "outputs": [
    {
     "name": "stdout",
     "output_type": "stream",
     "text": [
      "tensor([1.0000e+00, 2.5218e+03])\n"
     ]
    }
   ],
   "source": [
    "# Compute the weights for the two classes based on their frequencies in the training set\n",
    "\n",
    "class_weights = torch.tensor([1, 10 * len(y_train[y_train==0])/len(y_train[y_train==1])], dtype=torch.float)\n",
    "print(class_weights)"
   ]
  },
  {
   "cell_type": "code",
   "execution_count": 128,
   "metadata": {},
   "outputs": [],
   "source": [
    "X_train = X_train.astype('float')\n",
    "X_test = X_test.astype('float')\n",
    "\n",
    "y_train = y_train.astype('bool')\n",
    "y_test = y_test.astype('bool')"
   ]
  },
  {
   "cell_type": "code",
   "execution_count": 133,
   "metadata": {},
   "outputs": [],
   "source": [
    "X_train_tensor = torch.tensor(X_train.values, dtype=torch.float)\n",
    "y_train_tensor = torch.tensor(y_train.values, dtype=torch.long)\n",
    "train_dataset = TensorDataset(X_train_tensor, y_train_tensor)\n",
    "\n",
    "X_test_tensor = torch.tensor(X_test.values, dtype=torch.float)\n",
    "y_test_tensor = torch.tensor(y_test.values, dtype=torch.long)\n",
    "test_dataset = TensorDataset(X_test_tensor, y_test_tensor)"
   ]
  },
  {
   "cell_type": "code",
   "execution_count": 134,
   "metadata": {},
   "outputs": [],
   "source": [
    "# Define the DataLoader objects to batch and shuffle the data during training and testing\n",
    "train_loader = DataLoader(train_dataset, batch_size=32, shuffle=True)\n",
    "test_loader = DataLoader(test_dataset, batch_size=32, shuffle=True)"
   ]
  },
  {
   "cell_type": "code",
   "execution_count": 142,
   "metadata": {},
   "outputs": [
    {
     "name": "stdout",
     "output_type": "stream",
     "text": [
      "Epoch 1, loss: 13.300\n"
     ]
    }
   ],
   "source": [
    "# Instantiate the MLP model, criterion and optimizer\n",
    "model = MLP(input_size=10, hidden_size=10, output_size=2)\n",
    "criterion = nn.CrossEntropyLoss(weight=class_weights)\n",
    "optimizer = optim.Adam(model.parameters())\n",
    "\n",
    "STOP = 31250\n",
    "# Train the model\n",
    "for epoch in range(1):\n",
    "    running_loss = 0.0\n",
    "    for i, data in enumerate(train_loader, 0):\n",
    "        inputs, labels = data\n",
    "        \n",
    "        optimizer.zero_grad()\n",
    "        \n",
    "        outputs = model(inputs)\n",
    "        loss = criterion(outputs, labels)\n",
    "        loss.backward()\n",
    "        optimizer.step()\n",
    "        \n",
    "        running_loss += loss.item()\n",
    "        \n",
    "    print('Epoch %d, loss: %.3f' % (epoch+1, running_loss/len(train_loader)))"
   ]
  },
  {
   "cell_type": "code",
   "execution_count": 143,
   "metadata": {},
   "outputs": [
    {
     "data": {
      "image/png": "[encoded data removed]",
      "text/plain": [
       "<Figure size 432x288 with 1 Axes>"
      ]
     },
     "metadata": {
      "needs_background": "light"
     },
     "output_type": "display_data"
    }
   ],
   "source": [
    "from sklearn.metrics import roc_curve, auc\n",
    "import matplotlib.pyplot as plt\n",
    "\n",
    "# Define a function to plot the ROC curve\n",
    "def plot_roc_curve(y_true, y_pred):\n",
    "    fpr, tpr, _ = roc_curve(y_true, y_pred)\n",
    "    roc_auc = auc(fpr, tpr)\n",
    "    \n",
    "    plt.figure()\n",
    "    plt.plot(fpr, tpr, color='darkorange', lw=2, label='ROC curve (AUC = %0.2f)' % roc_auc)\n",
    "    plt.plot([0, 1], [0, 1], color='navy', lw=2, linestyle='--')\n",
    "    plt.xlim([0.0, 1.0])\n",
    "    plt.ylim([0.0, 1.05])\n",
    "    plt.xlabel('False Positive Rate')\n",
    "    plt.ylabel('True Positive Rate')\n",
    "    plt.title('Receiver operating characteristic')\n",
    "    plt.legend(loc=\"lower right\")\n",
    "    plt.show()\n",
    "\n",
    "# Evaluate the model on the test set and generate predictions\n",
    "y_true = y_test_tensor.numpy()\n",
    "y_scores = model(X_test_tensor).detach().numpy()[:, 1]\n",
    "\n",
    "# Plot the ROC curve\n",
    "plot_roc_curve(y_true, y_scores)"
   ]
  },
  {
   "cell_type": "code",
   "execution_count": 140,
   "metadata": {},
   "outputs": [
    {
     "name": "stdout",
     "output_type": "stream",
     "text": [
      "Accuracy on test set: 99.596951\n"
     ]
    }
   ],
   "source": [
    "\n",
    "\n",
    "\n",
    "\n",
    "\n",
    "\n",
    "\n",
    "\n",
    "\n",
    "\n",
    "\n",
    "    \n",
    "# Evaluate the model on the test set\n",
    "correct = 0\n",
    "total = 0\n",
    "with torch.no_grad():\n",
    "    for data in test_loader:\n",
    "        inputs, labels = data\n",
    "        \n",
    "        outputs = model(inputs)\n",
    "        _, predicted = torch.max(outputs.data, 1)\n",
    "        \n",
    "        total += labels.size(0)\n",
    "        correct += (predicted == labels).sum().item()\n",
    "        \n",
    "print('Accuracy on test set: %f' % (100 * correct / total))"
   ]
  },
  {
   "cell_type": "code",
   "execution_count": 33,
   "metadata": {},
   "outputs": [],
   "source": [
    "\n",
    "X_train_r, X_test_r, y_train_r, y_tes_rt = train_test_split(\n",
    "    normalized_data[['Start', 'End', 'H3K9Ac', 'H3K4me3', 'H3K4me2', 'H3K27me3', 'H3K4me1', 'H3K27Ac', 'ATAC Seq', 'HiC']],\n",
    "    normalized_data['RNA Seq'], test_size=0.2)\n",
    "\n",
    "train_df = pd.concat([X_train_r, y_train_r], axis=1)\n",
    "true_rows = train_df[train_df['RNA Seq'] == True]\n",
    "false_rows = train_df[train_df['RNA Seq'] == False]\n",
    "\n",
    "# Shuffle the data to avoid any possible bias\n",
    "true_rows = true_rows.sample(frac=1).reset_index(drop=True)\n",
    "false_rows = false_rows.sample(frac=1).reset_index(drop=True)\n",
    "\n",
    "# Determine the number of rows to include for each output\n",
    "num_true_rows = min(len(false_rows), len(true_rows))\n",
    "num_false_rows = min(len(false_rows), len(true_rows))\n",
    "\n",
    "# Slice the first 'num_true_rows' true rows and the first 'num_false_rows' false rows\n",
    "reduced_df = pd.concat([true_rows[:num_true_rows], false_rows[:num_false_rows]])\n",
    "\n",
    "# Shuffle the reduced dataset again\n",
    "reduced_df = reduced_df.sample(frac=1).reset_index(drop=True)\n",
    "\n",
    "# Split the reduced dataset back into X_train and y_train\n",
    "X_train_r = reduced_df.drop('RNA Seq', axis=1)\n",
    "y_train_r = reduced_df['RNA Seq']"
   ]
  },
  {
   "cell_type": "code",
   "execution_count": 41,
   "metadata": {},
   "outputs": [],
   "source": [
    "# Train a MLP regressor with two hidden layers of 10 neurons each\n",
    "import pandas as pd\n",
    "from sklearn.neural_network import MLPClassifier\n",
    "from sklearn.model_selection import train_test_split\n",
    "from sklearn.metrics import roc_curve, auc\n",
    "\n",
    "\n",
    "# Train a MLP classifier with two hidden layers of 10 neurons each\n",
    "mlp = MLPClassifier(hidden_layer_sizes=(10, 10))\n",
    "mlp.fit(X_train_r, y_train_r)\n",
    "\n",
    "# Predict the target values on the test set and calculate the mean squared error\n",
    "y_pred = mlp.predict(X_test_r)"
   ]
  },
  {
   "cell_type": "code",
   "execution_count": 42,
   "metadata": {},
   "outputs": [
    {
     "data": {
      "image/png": "[encoded data removed]",
      "text/plain": [
       "<Figure size 432x288 with 1 Axes>"
      ]
     },
     "metadata": {
      "needs_background": "light"
     },
     "output_type": "display_data"
    }
   ],
   "source": [
    "import matplotlib.pyplot as plt\n",
    "\n",
    "\n",
    "plt.scatter(y_tes_rt, y_pred)\n",
    "plt.plot([y_tes_rt.min(), y_tes_rt.max()], [y_tes_rt.min(), y_tes_rt.max()], 'k--', lw=4)\n",
    "plt.xlabel('Actual')\n",
    "plt.ylabel('Predicted')\n",
    "plt.show()"
   ]
  },
  {
   "cell_type": "code",
   "execution_count": 44,
   "metadata": {},
   "outputs": [
    {
     "data": {
      "image/png": "[encoded data removed]",
      "text/plain": [
       "<Figure size 432x288 with 1 Axes>"
      ]
     },
     "metadata": {
      "needs_background": "light"
     },
     "output_type": "display_data"
    }
   ],
   "source": [
    "# Predict the probabilities of the positive class on the test set\n",
    "y_pred_prob = mlp.predict_proba(X_test_r)[:, 1]\n",
    "\n",
    "# Compute the false positive rate, true positive rate and thresholds for the ROC curve\n",
    "fpr, tpr, thresholds = roc_curve(y_tes_rt, y_pred_prob)\n",
    "\n",
    "# Calculate the area under the ROC curve\n",
    "roc_auc = auc(fpr, tpr)\n",
    "\n",
    "# Plot the ROC curve\n",
    "plt.plot(fpr, tpr, color='darkorange', lw=2, label='ROC curve (area = %f)' % roc_auc)\n",
    "plt.plot([0, 1], [0, 1], color='navy', lw=2, linestyle='--')\n",
    "plt.xlim([0.0, 1.0])\n",
    "plt.ylim([0.0, 1.05])\n",
    "plt.xlabel('False Positive Rate')\n",
    "plt.ylabel('True Positive Rate')\n",
    "plt.title('Receiver operating characteristic')\n",
    "plt.legend(loc=\"lower right\")\n",
    "plt.show()"
   ]
  },
  {
   "cell_type": "code",
   "execution_count": 13,
   "metadata": {},
   "outputs": [
    {
     "data": {
      "image/png": "[encoded data removed]",
      "text/plain": [
       "<Figure size 432x288 with 1 Axes>"
      ]
     },
     "metadata": {
      "needs_background": "light"
     },
     "output_type": "display_data"
    }
   ],
   "source": [
    "import matplotlib.pyplot as plt\n",
    "\n",
    "# Data for training performance\n",
    "training_models = ['HMM', 'ML']\n",
    "training_time = [11.8, 9.2]\n",
    "\n",
    "# Data for inference performance\n",
    "inference_models = ['HMM', 'ML']\n",
    "inference_time = [0.08, 0.05]\n",
    "\n",
    "# Creating a figure and axis object\n",
    "fig, ax = plt.subplots()\n",
    "\n",
    "# Plotting the training bars\n",
    "ax.bar(training_models, training_time, label='Training')\n",
    "\n",
    "# Plotting the inference bars\n",
    "ax.bar(inference_models, inference_time, label='Inference')\n",
    "\n",
    "# Adding axis labels and title\n",
    "ax.set_xlabel('Models')\n",
    "ax.set_ylabel('Time (seconds)')\n",
    "ax.set_yscale('log')\n",
    "\n",
    "ax.set_title('Model Performance')\n",
    "\n",
    "# Adding legend\n",
    "ax.legend()\n",
    "\n",
    "# Displaying the plot\n",
    "plt.show()"
   ]
  },
  {
   "cell_type": "code",
   "execution_count": null,
   "metadata": {},
   "outputs": [],
   "source": []
  }
 ],
 "metadata": {
  "kernelspec": {
   "display_name": "Python 3",
   "language": "python",
   "name": "python3"
  },
  "language_info": {
   "codemirror_mode": {
    "name": "ipython",
    "version": 3
   },
   "file_extension": ".py",
   "mimetype": "text/x-python",
   "name": "python",
   "nbconvert_exporter": "python",
   "pygments_lexer": "ipython3",
   "version": "3.7.0"
  }
 },
 "nbformat": 4,
 "nbformat_minor": 2
}
