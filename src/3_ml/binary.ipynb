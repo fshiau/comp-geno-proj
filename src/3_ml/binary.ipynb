{
 "cells": [
  {
   "cell_type": "code",
   "execution_count": 3,
   "metadata": {},
   "outputs": [
    {
     "name": "stdout",
     "output_type": "stream",
     "text": [
      "Defaulting to user installation because normal site-packages is not writeable\n",
      "Requirement already satisfied: torch in /nfs/sw/jupyter/jupyter3-4.1/lib/python3.7/site-packages (1.12.1)\n",
      "Requirement already satisfied: typing-extensions in /nfs/sw/jupyter/jupyter3-4.1/lib/python3.7/site-packages (from torch) (4.4.0)\n",
      "\n",
      "\u001b[1m[\u001b[0m\u001b[34;49mnotice\u001b[0m\u001b[1;39;49m]\u001b[0m\u001b[39;49m A new release of pip available: \u001b[0m\u001b[31;49m22.3\u001b[0m\u001b[39;49m -> \u001b[0m\u001b[32;49m23.0.1\u001b[0m\n",
      "\u001b[1m[\u001b[0m\u001b[34;49mnotice\u001b[0m\u001b[1;39;49m]\u001b[0m\u001b[39;49m To update, run: \u001b[0m\u001b[32;49mpip install --upgrade pip\u001b[0m\n"
     ]
    }
   ],
   "source": [
    "!pip3 install torch"
   ]
  },
  {
   "cell_type": "code",
   "execution_count": 1,
   "metadata": {},
   "outputs": [],
   "source": [
    "import os\n",
    "import glob\n",
    "import numpy as np\n",
    "import pandas as pd"
   ]
  },
  {
   "cell_type": "code",
   "execution_count": null,
   "metadata": {},
   "outputs": [],
   "source": []
  },
  {
   "cell_type": "code",
   "execution_count": 2,
   "metadata": {},
   "outputs": [],
   "source": [
    "col_dtype={\"Chr\":str, \"Start\":int, \"End\":int, \"ATAC Seq\":bool}\n",
    "col_names = [\"Chr\", \"Start\", \"End\", \"ATAC Seq\"]"
   ]
  },
  {
   "cell_type": "code",
   "execution_count": 3,
   "metadata": {},
   "outputs": [],
   "source": [
    "root_path = \"/gpfs/commons/home/cangel/g2lab/courses/ComputationalGenomics/project/data/\""
   ]
  },
  {
   "cell_type": "code",
   "execution_count": 4,
   "metadata": {},
   "outputs": [],
   "source": [
    "inputs = [\"ATAC-seq/\", \"/HiC_AB/\", \"/Histones_ChIP-seq/\", \"/RNAPolymerase_ChIP-seq/\"]\n",
    "\n"
   ]
  },
  {
   "cell_type": "code",
   "execution_count": 6,
   "metadata": {},
   "outputs": [],
   "source": [
    "atac_seq =[\"ENCFF117MSK.bed.ed.bin.binary\", \"ENCFF771HDN.bed.ed.bin.binary\", \"ENCFF976CEI.bed.ed.bin.binary\", \"ENCFF433EPT.bed.ed.bin.binary\", \"ENCFF925CYR.bed.ed.bin.binary\", \"ENCFF993BAP.bed.ed.bin.binary\"]"
   ]
  },
  {
   "cell_type": "code",
   "execution_count": 7,
   "metadata": {},
   "outputs": [],
   "source": [
    "hic = [\"ENCFF369SUV.bed.ed.bin.binary\", \"ENCFF456BBV.bed.ed.bin.binary\", \"ENCFF726JJU.bed.ed.bin.binary\", \"ENCFF749YOA.bed.ed.bin.binary\"]"
   ]
  },
  {
   "cell_type": "code",
   "execution_count": 8,
   "metadata": {},
   "outputs": [],
   "source": [
    "col_dtype={\"Chr\":str, \"Start\":int, \"End\":int, \"ATAC Seq\":bool}\n",
    "col_names = [\"Chr\", \"Start\", \"End\", \"ATAC Seq\"]\n",
    "\n",
    "atac_data = [pd.read_csv(root_path + inputs[0] + \"peaks/\" + p, sep='\\t',  names = col_names, dtype = col_dtype) for p in atac_seq]\n"
   ]
  },
  {
   "cell_type": "code",
   "execution_count": 34,
   "metadata": {},
   "outputs": [
    {
     "data": {
      "text/html": [
       "<div>\n",
       "<style scoped>\n",
       "    .dataframe tbody tr th:only-of-type {\n",
       "        vertical-align: middle;\n",
       "    }\n",
       "\n",
       "    .dataframe tbody tr th {\n",
       "        vertical-align: top;\n",
       "    }\n",
       "\n",
       "    .dataframe thead th {\n",
       "        text-align: right;\n",
       "    }\n",
       "</style>\n",
       "<table border=\"1\" class=\"dataframe\">\n",
       "  <thead>\n",
       "    <tr style=\"text-align: right;\">\n",
       "      <th></th>\n",
       "      <th>Chr</th>\n",
       "      <th>Start</th>\n",
       "      <th>End</th>\n",
       "      <th>ATAC Seq</th>\n",
       "    </tr>\n",
       "  </thead>\n",
       "  <tbody>\n",
       "    <tr>\n",
       "      <th>0</th>\n",
       "      <td>chr1</td>\n",
       "      <td>0</td>\n",
       "      <td>200</td>\n",
       "      <td>False</td>\n",
       "    </tr>\n",
       "    <tr>\n",
       "      <th>1</th>\n",
       "      <td>chr1</td>\n",
       "      <td>200</td>\n",
       "      <td>400</td>\n",
       "      <td>False</td>\n",
       "    </tr>\n",
       "    <tr>\n",
       "      <th>2</th>\n",
       "      <td>chr1</td>\n",
       "      <td>400</td>\n",
       "      <td>600</td>\n",
       "      <td>False</td>\n",
       "    </tr>\n",
       "    <tr>\n",
       "      <th>3</th>\n",
       "      <td>chr1</td>\n",
       "      <td>600</td>\n",
       "      <td>800</td>\n",
       "      <td>False</td>\n",
       "    </tr>\n",
       "    <tr>\n",
       "      <th>4</th>\n",
       "      <td>chr1</td>\n",
       "      <td>800</td>\n",
       "      <td>1000</td>\n",
       "      <td>False</td>\n",
       "    </tr>\n",
       "    <tr>\n",
       "      <th>...</th>\n",
       "      <td>...</td>\n",
       "      <td>...</td>\n",
       "      <td>...</td>\n",
       "      <td>...</td>\n",
       "    </tr>\n",
       "    <tr>\n",
       "      <th>14405173</th>\n",
       "      <td>chr22</td>\n",
       "      <td>51303600</td>\n",
       "      <td>51303800</td>\n",
       "      <td>False</td>\n",
       "    </tr>\n",
       "    <tr>\n",
       "      <th>14405174</th>\n",
       "      <td>chr22</td>\n",
       "      <td>51303800</td>\n",
       "      <td>51304000</td>\n",
       "      <td>False</td>\n",
       "    </tr>\n",
       "    <tr>\n",
       "      <th>14405175</th>\n",
       "      <td>chr22</td>\n",
       "      <td>51304000</td>\n",
       "      <td>51304200</td>\n",
       "      <td>False</td>\n",
       "    </tr>\n",
       "    <tr>\n",
       "      <th>14405176</th>\n",
       "      <td>chr22</td>\n",
       "      <td>51304200</td>\n",
       "      <td>51304400</td>\n",
       "      <td>False</td>\n",
       "    </tr>\n",
       "    <tr>\n",
       "      <th>14405177</th>\n",
       "      <td>chr22</td>\n",
       "      <td>51304400</td>\n",
       "      <td>51304566</td>\n",
       "      <td>False</td>\n",
       "    </tr>\n",
       "  </tbody>\n",
       "</table>\n",
       "<p>14405178 rows × 4 columns</p>\n",
       "</div>"
      ],
      "text/plain": [
       "            Chr     Start       End  ATAC Seq\n",
       "0          chr1         0       200     False\n",
       "1          chr1       200       400     False\n",
       "2          chr1       400       600     False\n",
       "3          chr1       600       800     False\n",
       "4          chr1       800      1000     False\n",
       "...         ...       ...       ...       ...\n",
       "14405173  chr22  51303600  51303800     False\n",
       "14405174  chr22  51303800  51304000     False\n",
       "14405175  chr22  51304000  51304200     False\n",
       "14405176  chr22  51304200  51304400     False\n",
       "14405177  chr22  51304400  51304566     False\n",
       "\n",
       "[14405178 rows x 4 columns]"
      ]
     },
     "execution_count": 34,
     "metadata": {},
     "output_type": "execute_result"
    }
   ],
   "source": []
  },
  {
   "cell_type": "code",
   "execution_count": 9,
   "metadata": {},
   "outputs": [],
   "source": [
    "rna_seq = [\"ENCFF298CPB.bed.ed.bin.binary\", \"ENCFF491MQT.bed.ed.bin.binary\", \"ENCFF686JBE.bed.ed.bin.binary\", \"ENCFF368TKC.bed.ed.bin.binary\", \"ENCFF585CYP.bed.ed.bin.binary\", \"ENCFF817HPW.bed.ed.bin.binary\", \"ENCFF467MKP.bed.ed.bin.binary\", \"ENCFF617PFZ.bed.ed.bin.binary\", \"ENCFF842JME.bed.ed.bin.binary\"]"
   ]
  },
  {
   "cell_type": "code",
   "execution_count": 10,
   "metadata": {},
   "outputs": [],
   "source": [
    "\n",
    "col_dtype={\"Chr\":str, \"Start\":int, \"End\":int, \"RNA Seq\":bool}\n",
    "col_names = [\"Chr\", \"Start\", \"End\", \"RNA Seq\"]\n",
    "\n",
    "rna_data = [pd.read_csv(root_path + inputs[3] + \"peaks/\" + p, sep='\\t', names = col_names ,dtype = col_dtype) for p in rna_seq]"
   ]
  },
  {
   "cell_type": "code",
   "execution_count": 11,
   "metadata": {},
   "outputs": [
    {
     "data": {
      "text/plain": [
       "False    14348048\n",
       "True        57130\n",
       "Name: RNA Seq, dtype: int64"
      ]
     },
     "execution_count": 11,
     "metadata": {},
     "output_type": "execute_result"
    }
   ],
   "source": [
    "rna_data[0][\"RNA Seq\"].value_counts()"
   ]
  },
  {
   "cell_type": "code",
   "execution_count": 12,
   "metadata": {},
   "outputs": [
    {
     "name": "stdout",
     "output_type": "stream",
     "text": [
      "Scanning paths ['/gpfs/commons/home/cangel/g2lab/courses/ComputationalGenomics/project/data/HiC_AB/ENCFF726JJU.bed.ed.bin.binary', '/gpfs/commons/home/cangel/g2lab/courses/ComputationalGenomics/project/data/HiC_AB/ENCFF456BBV.bed.ed.bin.binary', '/gpfs/commons/home/cangel/g2lab/courses/ComputationalGenomics/project/data/HiC_AB/ENCFF369SUV.bed.ed.bin.binary', '/gpfs/commons/home/cangel/g2lab/courses/ComputationalGenomics/project/data/HiC_AB/ENCFF749YOA.bed.ed.bin.binary']\n"
     ]
    }
   ],
   "source": [
    "col_dtype={\"Chr\":str, \"Start\":int, \"End\":int, \"HiC\":bool}\n",
    "col_names = [\"Chr\", \"Start\", \"End\", \"HiC\"]\n",
    "\n",
    "HiC_paths = glob.glob(os.path.join(root_path, \"HiC_AB\" + \"/\",'*binary'))\n",
    "print(\"Scanning paths\", HiC_paths)\n",
    "HiC_data = [pd.read_csv(p, sep='\\t', names = col_names ,dtype = col_dtype) for p in HiC_paths]"
   ]
  },
  {
   "cell_type": "code",
   "execution_count": 13,
   "metadata": {},
   "outputs": [
    {
     "name": "stdout",
     "output_type": "stream",
     "text": [
      "Scanning paths ['/gpfs/commons/home/cangel/g2lab/courses/ComputationalGenomics/project/data/Histones_ChIP-seq/peaks/H3K9Ac/ENCFF184IVL.bed.ed.bin.binary', '/gpfs/commons/home/cangel/g2lab/courses/ComputationalGenomics/project/data/Histones_ChIP-seq/peaks/H3K9Ac/ENCFF171GKK.bed.ed.bin.binary', '/gpfs/commons/home/cangel/g2lab/courses/ComputationalGenomics/project/data/Histones_ChIP-seq/peaks/H3K9Ac/ENCFF890RCT.bed.ed.bin.binary', '/gpfs/commons/home/cangel/g2lab/courses/ComputationalGenomics/project/data/Histones_ChIP-seq/peaks/H3K9Ac/ENCFF731INI.bed.ed.bin.binary', '/gpfs/commons/home/cangel/g2lab/courses/ComputationalGenomics/project/data/Histones_ChIP-seq/peaks/H3K9Ac/ENCFF418BIN.bed.ed.bin.binary']\n",
      "Scanning paths ['/gpfs/commons/home/cangel/g2lab/courses/ComputationalGenomics/project/data/Histones_ChIP-seq/peaks/H3K4me3/ENCFF084PQN.bed.ed.bin.binary', '/gpfs/commons/home/cangel/g2lab/courses/ComputationalGenomics/project/data/Histones_ChIP-seq/peaks/H3K4me3/ENCFF282LNM.bed.ed.bin.binary', '/gpfs/commons/home/cangel/g2lab/courses/ComputationalGenomics/project/data/Histones_ChIP-seq/peaks/H3K4me3/ENCFF779FUO.bed.ed.bin.binary', '/gpfs/commons/home/cangel/g2lab/courses/ComputationalGenomics/project/data/Histones_ChIP-seq/peaks/H3K4me3/ENCFF258PHY.bed.ed.bin.binary', '/gpfs/commons/home/cangel/g2lab/courses/ComputationalGenomics/project/data/Histones_ChIP-seq/peaks/H3K4me3/ENCFF698RHA.bed.ed.bin.binary', '/gpfs/commons/home/cangel/g2lab/courses/ComputationalGenomics/project/data/Histones_ChIP-seq/peaks/H3K4me3/ENCFF261REY.bed.ed.bin.binary', '/gpfs/commons/home/cangel/g2lab/courses/ComputationalGenomics/project/data/Histones_ChIP-seq/peaks/H3K4me3/ENCFF752ALB.bed.ed.bin.binary', '/gpfs/commons/home/cangel/g2lab/courses/ComputationalGenomics/project/data/Histones_ChIP-seq/peaks/H3K4me3/ENCFF757WPX.bed.ed.bin.binary', '/gpfs/commons/home/cangel/g2lab/courses/ComputationalGenomics/project/data/Histones_ChIP-seq/peaks/H3K4me3/ENCFF801WND.bed.ed.bin.binary']\n",
      "Scanning paths ['/gpfs/commons/home/cangel/g2lab/courses/ComputationalGenomics/project/data/Histones_ChIP-seq/peaks/H3K4me2/ENCFF626TOQ.bed.ed.bin.binary', '/gpfs/commons/home/cangel/g2lab/courses/ComputationalGenomics/project/data/Histones_ChIP-seq/peaks/H3K4me2/ENCFF627TIZ.bed.ed.bin.binary', '/gpfs/commons/home/cangel/g2lab/courses/ComputationalGenomics/project/data/Histones_ChIP-seq/peaks/H3K4me2/ENCFF672WGZ.bed.ed.bin.binary']\n",
      "Scanning paths ['/gpfs/commons/home/cangel/g2lab/courses/ComputationalGenomics/project/data/Histones_ChIP-seq/peaks/H3K27me3/ENCFF565WMG.bed.ed.bin.binary', '/gpfs/commons/home/cangel/g2lab/courses/ComputationalGenomics/project/data/Histones_ChIP-seq/peaks/H3K27me3/ENCFF936EYU.bed.ed.bin.binary', '/gpfs/commons/home/cangel/g2lab/courses/ComputationalGenomics/project/data/Histones_ChIP-seq/peaks/H3K27me3/ENCFF728DBX.bed.ed.bin.binary', '/gpfs/commons/home/cangel/g2lab/courses/ComputationalGenomics/project/data/Histones_ChIP-seq/peaks/H3K27me3/ENCFF908KJV.bed.ed.bin.binary', '/gpfs/commons/home/cangel/g2lab/courses/ComputationalGenomics/project/data/Histones_ChIP-seq/peaks/H3K27me3/ENCFF145UOC.bed.ed.bin.binary', '/gpfs/commons/home/cangel/g2lab/courses/ComputationalGenomics/project/data/Histones_ChIP-seq/peaks/H3K27me3/ENCFF047FUX.bed.ed.bin.binary']\n",
      "Scanning paths ['/gpfs/commons/home/cangel/g2lab/courses/ComputationalGenomics/project/data/Histones_ChIP-seq/peaks/H3K4me1/ENCFF078UPL.bed.ed.bin.binary', '/gpfs/commons/home/cangel/g2lab/courses/ComputationalGenomics/project/data/Histones_ChIP-seq/peaks/H3K4me1/ENCFF564QIG.bed.ed.bin.binary', '/gpfs/commons/home/cangel/g2lab/courses/ComputationalGenomics/project/data/Histones_ChIP-seq/peaks/H3K4me1/ENCFF586SUS.bed.ed.bin.binary', '/gpfs/commons/home/cangel/g2lab/courses/ComputationalGenomics/project/data/Histones_ChIP-seq/peaks/H3K4me1/ENCFF914PQZ.bed.ed.bin.binary', '/gpfs/commons/home/cangel/g2lab/courses/ComputationalGenomics/project/data/Histones_ChIP-seq/peaks/H3K4me1/ENCFF254UHS.bed.ed.bin.binary', '/gpfs/commons/home/cangel/g2lab/courses/ComputationalGenomics/project/data/Histones_ChIP-seq/peaks/H3K4me1/ENCFF721YQO.bed.ed.bin.binary']\n",
      "Scanning paths ['/gpfs/commons/home/cangel/g2lab/courses/ComputationalGenomics/project/data/Histones_ChIP-seq/peaks/H3K27Ac/ENCFF578UBP.bed.ed.bin.binary', '/gpfs/commons/home/cangel/g2lab/courses/ComputationalGenomics/project/data/Histones_ChIP-seq/peaks/H3K27Ac/ENCFF641AGA.bed.ed.bin.binary', '/gpfs/commons/home/cangel/g2lab/courses/ComputationalGenomics/project/data/Histones_ChIP-seq/peaks/H3K27Ac/ENCFF931VAQ.bed.ed.bin.binary', '/gpfs/commons/home/cangel/g2lab/courses/ComputationalGenomics/project/data/Histones_ChIP-seq/peaks/H3K27Ac/ENCFF702CFZ.bed.ed.bin.binary']\n"
     ]
    }
   ],
   "source": [
    "histone_path = \"/gpfs/commons/home/cangel/g2lab/courses/ComputationalGenomics/project/data/Histones_ChIP-seq/peaks\"\n",
    "histones = os.listdir(histone_path)\n",
    "\n",
    "histone_data = []\n",
    "for i in histones:\n",
    "    if i == 'README' or i==\"tmp\":\n",
    "        continue\n",
    "    \n",
    "    col_dtype={\"Chr\":str, \"Start\":int, \"End\":int, i:int}\n",
    "    col_names = [\"Chr\", \"Start\", \"End\", i]\n",
    "\n",
    "    histone_paths = glob.glob(os.path.join(histone_path,i,'*binary'))\n",
    "    print(\"Scanning paths\", histone_paths)\n",
    "    for i,p in enumerate(histone_paths):\n",
    "        if i != 0:\n",
    "            continue\n",
    "        histone_data.append(pd.read_csv(p, sep='\\t', names = col_names ,dtype = col_dtype))"
   ]
  },
  {
   "cell_type": "code",
   "execution_count": 14,
   "metadata": {},
   "outputs": [
    {
     "name": "stdout",
     "output_type": "stream",
     "text": [
      "6\n",
      "6\n",
      "9\n",
      "4\n"
     ]
    }
   ],
   "source": [
    "print(len(histone_data))\n",
    "print(len(atac_seq))\n",
    "print(len(rna_data))\n",
    "print(len(HiC_data))\n",
    "\n"
   ]
  },
  {
   "cell_type": "code",
   "execution_count": 15,
   "metadata": {},
   "outputs": [],
   "source": [
    "#Only consider first cell line\n",
    "atac_data = atac_data[0]\n",
    "rna_data = rna_data[0]\n",
    "HiC_data = HiC_data[0]"
   ]
  },
  {
   "cell_type": "code",
   "execution_count": 22,
   "metadata": {},
   "outputs": [
    {
     "data": {
      "text/plain": [
       "[            Chr     Start       End  H3K9Ac\n",
       " 0          chr1         0       200       0\n",
       " 1          chr1       200       400       0\n",
       " 2          chr1       400       600       0\n",
       " 3          chr1       600       800       0\n",
       " 4          chr1       800      1000       0\n",
       " ...         ...       ...       ...     ...\n",
       " 14405173  chr22  51303600  51303800       0\n",
       " 14405174  chr22  51303800  51304000       0\n",
       " 14405175  chr22  51304000  51304200       0\n",
       " 14405176  chr22  51304200  51304400       0\n",
       " 14405177  chr22  51304400  51304566       0\n",
       " \n",
       " [14405178 rows x 4 columns],             Chr     Start       End  H3K4me3\n",
       " 0          chr1         0       200        0\n",
       " 1          chr1       200       400        0\n",
       " 2          chr1       400       600        0\n",
       " 3          chr1       600       800        0\n",
       " 4          chr1       800      1000        0\n",
       " ...         ...       ...       ...      ...\n",
       " 14405173  chr22  51303600  51303800        0\n",
       " 14405174  chr22  51303800  51304000        0\n",
       " 14405175  chr22  51304000  51304200        0\n",
       " 14405176  chr22  51304200  51304400        0\n",
       " 14405177  chr22  51304400  51304566        0\n",
       " \n",
       " [14405178 rows x 4 columns],             Chr     Start       End  H3K4me2\n",
       " 0          chr1         0       200        0\n",
       " 1          chr1       200       400        0\n",
       " 2          chr1       400       600        0\n",
       " 3          chr1       600       800        0\n",
       " 4          chr1       800      1000        0\n",
       " ...         ...       ...       ...      ...\n",
       " 14405173  chr22  51303600  51303800        0\n",
       " 14405174  chr22  51303800  51304000        0\n",
       " 14405175  chr22  51304000  51304200        0\n",
       " 14405176  chr22  51304200  51304400        0\n",
       " 14405177  chr22  51304400  51304566        0\n",
       " \n",
       " [14405178 rows x 4 columns],             Chr     Start       End  H3K27me3\n",
       " 0          chr1         0       200         0\n",
       " 1          chr1       200       400         0\n",
       " 2          chr1       400       600         0\n",
       " 3          chr1       600       800         0\n",
       " 4          chr1       800      1000         0\n",
       " ...         ...       ...       ...       ...\n",
       " 14405173  chr22  51303600  51303800         0\n",
       " 14405174  chr22  51303800  51304000         0\n",
       " 14405175  chr22  51304000  51304200         0\n",
       " 14405176  chr22  51304200  51304400         0\n",
       " 14405177  chr22  51304400  51304566         0\n",
       " \n",
       " [14405178 rows x 4 columns],             Chr     Start       End  H3K4me1\n",
       " 0          chr1         0       200        0\n",
       " 1          chr1       200       400        0\n",
       " 2          chr1       400       600        0\n",
       " 3          chr1       600       800        0\n",
       " 4          chr1       800      1000        0\n",
       " ...         ...       ...       ...      ...\n",
       " 14405173  chr22  51303600  51303800        0\n",
       " 14405174  chr22  51303800  51304000        0\n",
       " 14405175  chr22  51304000  51304200        0\n",
       " 14405176  chr22  51304200  51304400        0\n",
       " 14405177  chr22  51304400  51304566        0\n",
       " \n",
       " [14405178 rows x 4 columns],             Chr     Start       End  H3K27Ac\n",
       " 0          chr1         0       200        0\n",
       " 1          chr1       200       400        0\n",
       " 2          chr1       400       600        0\n",
       " 3          chr1       600       800        0\n",
       " 4          chr1       800      1000        0\n",
       " ...         ...       ...       ...      ...\n",
       " 14405173  chr22  51303600  51303800        0\n",
       " 14405174  chr22  51303800  51304000        0\n",
       " 14405175  chr22  51304000  51304200        0\n",
       " 14405176  chr22  51304200  51304400        0\n",
       " 14405177  chr22  51304400  51304566        0\n",
       " \n",
       " [14405178 rows x 4 columns]]"
      ]
     },
     "execution_count": 22,
     "metadata": {},
     "output_type": "execute_result"
    }
   ],
   "source": [
    "atac_data = atac_data[0]"
   ]
  },
  {
   "cell_type": "code",
   "execution_count": 23,
   "metadata": {},
   "outputs": [],
   "source": [
    "histone_data = pd.concat(histone_data, axis = 1)"
   ]
  },
  {
   "cell_type": "code",
   "execution_count": 24,
   "metadata": {},
   "outputs": [
    {
     "data": {
      "text/html": [
       "<div>\n",
       "<style scoped>\n",
       "    .dataframe tbody tr th:only-of-type {\n",
       "        vertical-align: middle;\n",
       "    }\n",
       "\n",
       "    .dataframe tbody tr th {\n",
       "        vertical-align: top;\n",
       "    }\n",
       "\n",
       "    .dataframe thead th {\n",
       "        text-align: right;\n",
       "    }\n",
       "</style>\n",
       "<table border=\"1\" class=\"dataframe\">\n",
       "  <thead>\n",
       "    <tr style=\"text-align: right;\">\n",
       "      <th></th>\n",
       "      <th>Chr</th>\n",
       "      <th>Start</th>\n",
       "      <th>End</th>\n",
       "      <th>H3K9Ac</th>\n",
       "      <th>Chr</th>\n",
       "      <th>Start</th>\n",
       "      <th>End</th>\n",
       "      <th>H3K4me3</th>\n",
       "      <th>Chr</th>\n",
       "      <th>Start</th>\n",
       "      <th>...</th>\n",
       "      <th>End</th>\n",
       "      <th>H3K27me3</th>\n",
       "      <th>Chr</th>\n",
       "      <th>Start</th>\n",
       "      <th>End</th>\n",
       "      <th>H3K4me1</th>\n",
       "      <th>Chr</th>\n",
       "      <th>Start</th>\n",
       "      <th>End</th>\n",
       "      <th>H3K27Ac</th>\n",
       "    </tr>\n",
       "  </thead>\n",
       "  <tbody>\n",
       "    <tr>\n",
       "      <th>0</th>\n",
       "      <td>chr1</td>\n",
       "      <td>0</td>\n",
       "      <td>200</td>\n",
       "      <td>0</td>\n",
       "      <td>chr1</td>\n",
       "      <td>0</td>\n",
       "      <td>200</td>\n",
       "      <td>0</td>\n",
       "      <td>chr1</td>\n",
       "      <td>0</td>\n",
       "      <td>...</td>\n",
       "      <td>200</td>\n",
       "      <td>0</td>\n",
       "      <td>chr1</td>\n",
       "      <td>0</td>\n",
       "      <td>200</td>\n",
       "      <td>0</td>\n",
       "      <td>chr1</td>\n",
       "      <td>0</td>\n",
       "      <td>200</td>\n",
       "      <td>0</td>\n",
       "    </tr>\n",
       "    <tr>\n",
       "      <th>1</th>\n",
       "      <td>chr1</td>\n",
       "      <td>200</td>\n",
       "      <td>400</td>\n",
       "      <td>0</td>\n",
       "      <td>chr1</td>\n",
       "      <td>200</td>\n",
       "      <td>400</td>\n",
       "      <td>0</td>\n",
       "      <td>chr1</td>\n",
       "      <td>200</td>\n",
       "      <td>...</td>\n",
       "      <td>400</td>\n",
       "      <td>0</td>\n",
       "      <td>chr1</td>\n",
       "      <td>200</td>\n",
       "      <td>400</td>\n",
       "      <td>0</td>\n",
       "      <td>chr1</td>\n",
       "      <td>200</td>\n",
       "      <td>400</td>\n",
       "      <td>0</td>\n",
       "    </tr>\n",
       "    <tr>\n",
       "      <th>2</th>\n",
       "      <td>chr1</td>\n",
       "      <td>400</td>\n",
       "      <td>600</td>\n",
       "      <td>0</td>\n",
       "      <td>chr1</td>\n",
       "      <td>400</td>\n",
       "      <td>600</td>\n",
       "      <td>0</td>\n",
       "      <td>chr1</td>\n",
       "      <td>400</td>\n",
       "      <td>...</td>\n",
       "      <td>600</td>\n",
       "      <td>0</td>\n",
       "      <td>chr1</td>\n",
       "      <td>400</td>\n",
       "      <td>600</td>\n",
       "      <td>0</td>\n",
       "      <td>chr1</td>\n",
       "      <td>400</td>\n",
       "      <td>600</td>\n",
       "      <td>0</td>\n",
       "    </tr>\n",
       "    <tr>\n",
       "      <th>3</th>\n",
       "      <td>chr1</td>\n",
       "      <td>600</td>\n",
       "      <td>800</td>\n",
       "      <td>0</td>\n",
       "      <td>chr1</td>\n",
       "      <td>600</td>\n",
       "      <td>800</td>\n",
       "      <td>0</td>\n",
       "      <td>chr1</td>\n",
       "      <td>600</td>\n",
       "      <td>...</td>\n",
       "      <td>800</td>\n",
       "      <td>0</td>\n",
       "      <td>chr1</td>\n",
       "      <td>600</td>\n",
       "      <td>800</td>\n",
       "      <td>0</td>\n",
       "      <td>chr1</td>\n",
       "      <td>600</td>\n",
       "      <td>800</td>\n",
       "      <td>0</td>\n",
       "    </tr>\n",
       "    <tr>\n",
       "      <th>4</th>\n",
       "      <td>chr1</td>\n",
       "      <td>800</td>\n",
       "      <td>1000</td>\n",
       "      <td>0</td>\n",
       "      <td>chr1</td>\n",
       "      <td>800</td>\n",
       "      <td>1000</td>\n",
       "      <td>0</td>\n",
       "      <td>chr1</td>\n",
       "      <td>800</td>\n",
       "      <td>...</td>\n",
       "      <td>1000</td>\n",
       "      <td>0</td>\n",
       "      <td>chr1</td>\n",
       "      <td>800</td>\n",
       "      <td>1000</td>\n",
       "      <td>0</td>\n",
       "      <td>chr1</td>\n",
       "      <td>800</td>\n",
       "      <td>1000</td>\n",
       "      <td>0</td>\n",
       "    </tr>\n",
       "    <tr>\n",
       "      <th>...</th>\n",
       "      <td>...</td>\n",
       "      <td>...</td>\n",
       "      <td>...</td>\n",
       "      <td>...</td>\n",
       "      <td>...</td>\n",
       "      <td>...</td>\n",
       "      <td>...</td>\n",
       "      <td>...</td>\n",
       "      <td>...</td>\n",
       "      <td>...</td>\n",
       "      <td>...</td>\n",
       "      <td>...</td>\n",
       "      <td>...</td>\n",
       "      <td>...</td>\n",
       "      <td>...</td>\n",
       "      <td>...</td>\n",
       "      <td>...</td>\n",
       "      <td>...</td>\n",
       "      <td>...</td>\n",
       "      <td>...</td>\n",
       "      <td>...</td>\n",
       "    </tr>\n",
       "    <tr>\n",
       "      <th>14405173</th>\n",
       "      <td>chr22</td>\n",
       "      <td>51303600</td>\n",
       "      <td>51303800</td>\n",
       "      <td>0</td>\n",
       "      <td>chr22</td>\n",
       "      <td>51303600</td>\n",
       "      <td>51303800</td>\n",
       "      <td>0</td>\n",
       "      <td>chr22</td>\n",
       "      <td>51303600</td>\n",
       "      <td>...</td>\n",
       "      <td>51303800</td>\n",
       "      <td>0</td>\n",
       "      <td>chr22</td>\n",
       "      <td>51303600</td>\n",
       "      <td>51303800</td>\n",
       "      <td>0</td>\n",
       "      <td>chr22</td>\n",
       "      <td>51303600</td>\n",
       "      <td>51303800</td>\n",
       "      <td>0</td>\n",
       "    </tr>\n",
       "    <tr>\n",
       "      <th>14405174</th>\n",
       "      <td>chr22</td>\n",
       "      <td>51303800</td>\n",
       "      <td>51304000</td>\n",
       "      <td>0</td>\n",
       "      <td>chr22</td>\n",
       "      <td>51303800</td>\n",
       "      <td>51304000</td>\n",
       "      <td>0</td>\n",
       "      <td>chr22</td>\n",
       "      <td>51303800</td>\n",
       "      <td>...</td>\n",
       "      <td>51304000</td>\n",
       "      <td>0</td>\n",
       "      <td>chr22</td>\n",
       "      <td>51303800</td>\n",
       "      <td>51304000</td>\n",
       "      <td>0</td>\n",
       "      <td>chr22</td>\n",
       "      <td>51303800</td>\n",
       "      <td>51304000</td>\n",
       "      <td>0</td>\n",
       "    </tr>\n",
       "    <tr>\n",
       "      <th>14405175</th>\n",
       "      <td>chr22</td>\n",
       "      <td>51304000</td>\n",
       "      <td>51304200</td>\n",
       "      <td>0</td>\n",
       "      <td>chr22</td>\n",
       "      <td>51304000</td>\n",
       "      <td>51304200</td>\n",
       "      <td>0</td>\n",
       "      <td>chr22</td>\n",
       "      <td>51304000</td>\n",
       "      <td>...</td>\n",
       "      <td>51304200</td>\n",
       "      <td>0</td>\n",
       "      <td>chr22</td>\n",
       "      <td>51304000</td>\n",
       "      <td>51304200</td>\n",
       "      <td>0</td>\n",
       "      <td>chr22</td>\n",
       "      <td>51304000</td>\n",
       "      <td>51304200</td>\n",
       "      <td>0</td>\n",
       "    </tr>\n",
       "    <tr>\n",
       "      <th>14405176</th>\n",
       "      <td>chr22</td>\n",
       "      <td>51304200</td>\n",
       "      <td>51304400</td>\n",
       "      <td>0</td>\n",
       "      <td>chr22</td>\n",
       "      <td>51304200</td>\n",
       "      <td>51304400</td>\n",
       "      <td>0</td>\n",
       "      <td>chr22</td>\n",
       "      <td>51304200</td>\n",
       "      <td>...</td>\n",
       "      <td>51304400</td>\n",
       "      <td>0</td>\n",
       "      <td>chr22</td>\n",
       "      <td>51304200</td>\n",
       "      <td>51304400</td>\n",
       "      <td>0</td>\n",
       "      <td>chr22</td>\n",
       "      <td>51304200</td>\n",
       "      <td>51304400</td>\n",
       "      <td>0</td>\n",
       "    </tr>\n",
       "    <tr>\n",
       "      <th>14405177</th>\n",
       "      <td>chr22</td>\n",
       "      <td>51304400</td>\n",
       "      <td>51304566</td>\n",
       "      <td>0</td>\n",
       "      <td>chr22</td>\n",
       "      <td>51304400</td>\n",
       "      <td>51304566</td>\n",
       "      <td>0</td>\n",
       "      <td>chr22</td>\n",
       "      <td>51304400</td>\n",
       "      <td>...</td>\n",
       "      <td>51304566</td>\n",
       "      <td>0</td>\n",
       "      <td>chr22</td>\n",
       "      <td>51304400</td>\n",
       "      <td>51304566</td>\n",
       "      <td>0</td>\n",
       "      <td>chr22</td>\n",
       "      <td>51304400</td>\n",
       "      <td>51304566</td>\n",
       "      <td>0</td>\n",
       "    </tr>\n",
       "  </tbody>\n",
       "</table>\n",
       "<p>14405178 rows × 24 columns</p>\n",
       "</div>"
      ],
      "text/plain": [
       "            Chr     Start       End  H3K9Ac    Chr     Start       End  \\\n",
       "0          chr1         0       200       0   chr1         0       200   \n",
       "1          chr1       200       400       0   chr1       200       400   \n",
       "2          chr1       400       600       0   chr1       400       600   \n",
       "3          chr1       600       800       0   chr1       600       800   \n",
       "4          chr1       800      1000       0   chr1       800      1000   \n",
       "...         ...       ...       ...     ...    ...       ...       ...   \n",
       "14405173  chr22  51303600  51303800       0  chr22  51303600  51303800   \n",
       "14405174  chr22  51303800  51304000       0  chr22  51303800  51304000   \n",
       "14405175  chr22  51304000  51304200       0  chr22  51304000  51304200   \n",
       "14405176  chr22  51304200  51304400       0  chr22  51304200  51304400   \n",
       "14405177  chr22  51304400  51304566       0  chr22  51304400  51304566   \n",
       "\n",
       "          H3K4me3    Chr     Start  ...       End  H3K27me3    Chr     Start  \\\n",
       "0               0   chr1         0  ...       200         0   chr1         0   \n",
       "1               0   chr1       200  ...       400         0   chr1       200   \n",
       "2               0   chr1       400  ...       600         0   chr1       400   \n",
       "3               0   chr1       600  ...       800         0   chr1       600   \n",
       "4               0   chr1       800  ...      1000         0   chr1       800   \n",
       "...           ...    ...       ...  ...       ...       ...    ...       ...   \n",
       "14405173        0  chr22  51303600  ...  51303800         0  chr22  51303600   \n",
       "14405174        0  chr22  51303800  ...  51304000         0  chr22  51303800   \n",
       "14405175        0  chr22  51304000  ...  51304200         0  chr22  51304000   \n",
       "14405176        0  chr22  51304200  ...  51304400         0  chr22  51304200   \n",
       "14405177        0  chr22  51304400  ...  51304566         0  chr22  51304400   \n",
       "\n",
       "               End  H3K4me1    Chr     Start       End  H3K27Ac  \n",
       "0              200        0   chr1         0       200        0  \n",
       "1              400        0   chr1       200       400        0  \n",
       "2              600        0   chr1       400       600        0  \n",
       "3              800        0   chr1       600       800        0  \n",
       "4             1000        0   chr1       800      1000        0  \n",
       "...            ...      ...    ...       ...       ...      ...  \n",
       "14405173  51303800        0  chr22  51303600  51303800        0  \n",
       "14405174  51304000        0  chr22  51303800  51304000        0  \n",
       "14405175  51304200        0  chr22  51304000  51304200        0  \n",
       "14405176  51304400        0  chr22  51304200  51304400        0  \n",
       "14405177  51304566        0  chr22  51304400  51304566        0  \n",
       "\n",
       "[14405178 rows x 24 columns]"
      ]
     },
     "execution_count": 24,
     "metadata": {},
     "output_type": "execute_result"
    }
   ],
   "source": []
  },
  {
   "cell_type": "code",
   "execution_count": 25,
   "metadata": {},
   "outputs": [],
   "source": [
    "full_data = pd.concat([histone_data, atac_data, HiC_data, rna_data], axis=1)"
   ]
  },
  {
   "cell_type": "code",
   "execution_count": 26,
   "metadata": {},
   "outputs": [],
   "source": [
    "full_data_trimmed = full_data.loc[:,~full_data.columns.duplicated()].copy()\n"
   ]
  },
  {
   "cell_type": "code",
   "execution_count": 27,
   "metadata": {},
   "outputs": [
    {
     "data": {
      "text/html": [
       "<div>\n",
       "<style scoped>\n",
       "    .dataframe tbody tr th:only-of-type {\n",
       "        vertical-align: middle;\n",
       "    }\n",
       "\n",
       "    .dataframe tbody tr th {\n",
       "        vertical-align: top;\n",
       "    }\n",
       "\n",
       "    .dataframe thead th {\n",
       "        text-align: right;\n",
       "    }\n",
       "</style>\n",
       "<table border=\"1\" class=\"dataframe\">\n",
       "  <thead>\n",
       "    <tr style=\"text-align: right;\">\n",
       "      <th></th>\n",
       "      <th>Chr</th>\n",
       "      <th>Start</th>\n",
       "      <th>End</th>\n",
       "      <th>H3K9Ac</th>\n",
       "      <th>H3K4me3</th>\n",
       "      <th>H3K4me2</th>\n",
       "      <th>H3K27me3</th>\n",
       "      <th>H3K4me1</th>\n",
       "      <th>H3K27Ac</th>\n",
       "      <th>ATAC Seq</th>\n",
       "      <th>HiC</th>\n",
       "      <th>RNA Seq</th>\n",
       "    </tr>\n",
       "  </thead>\n",
       "  <tbody>\n",
       "    <tr>\n",
       "      <th>0</th>\n",
       "      <td>chr1</td>\n",
       "      <td>0</td>\n",
       "      <td>200</td>\n",
       "      <td>0</td>\n",
       "      <td>0</td>\n",
       "      <td>0</td>\n",
       "      <td>0</td>\n",
       "      <td>0</td>\n",
       "      <td>0</td>\n",
       "      <td>False</td>\n",
       "      <td>False</td>\n",
       "      <td>False</td>\n",
       "    </tr>\n",
       "    <tr>\n",
       "      <th>1</th>\n",
       "      <td>chr1</td>\n",
       "      <td>200</td>\n",
       "      <td>400</td>\n",
       "      <td>0</td>\n",
       "      <td>0</td>\n",
       "      <td>0</td>\n",
       "      <td>0</td>\n",
       "      <td>0</td>\n",
       "      <td>0</td>\n",
       "      <td>False</td>\n",
       "      <td>False</td>\n",
       "      <td>False</td>\n",
       "    </tr>\n",
       "    <tr>\n",
       "      <th>2</th>\n",
       "      <td>chr1</td>\n",
       "      <td>400</td>\n",
       "      <td>600</td>\n",
       "      <td>0</td>\n",
       "      <td>0</td>\n",
       "      <td>0</td>\n",
       "      <td>0</td>\n",
       "      <td>0</td>\n",
       "      <td>0</td>\n",
       "      <td>False</td>\n",
       "      <td>False</td>\n",
       "      <td>False</td>\n",
       "    </tr>\n",
       "    <tr>\n",
       "      <th>3</th>\n",
       "      <td>chr1</td>\n",
       "      <td>600</td>\n",
       "      <td>800</td>\n",
       "      <td>0</td>\n",
       "      <td>0</td>\n",
       "      <td>0</td>\n",
       "      <td>0</td>\n",
       "      <td>0</td>\n",
       "      <td>0</td>\n",
       "      <td>False</td>\n",
       "      <td>False</td>\n",
       "      <td>False</td>\n",
       "    </tr>\n",
       "    <tr>\n",
       "      <th>4</th>\n",
       "      <td>chr1</td>\n",
       "      <td>800</td>\n",
       "      <td>1000</td>\n",
       "      <td>0</td>\n",
       "      <td>0</td>\n",
       "      <td>0</td>\n",
       "      <td>0</td>\n",
       "      <td>0</td>\n",
       "      <td>0</td>\n",
       "      <td>False</td>\n",
       "      <td>False</td>\n",
       "      <td>False</td>\n",
       "    </tr>\n",
       "    <tr>\n",
       "      <th>...</th>\n",
       "      <td>...</td>\n",
       "      <td>...</td>\n",
       "      <td>...</td>\n",
       "      <td>...</td>\n",
       "      <td>...</td>\n",
       "      <td>...</td>\n",
       "      <td>...</td>\n",
       "      <td>...</td>\n",
       "      <td>...</td>\n",
       "      <td>...</td>\n",
       "      <td>...</td>\n",
       "      <td>...</td>\n",
       "    </tr>\n",
       "    <tr>\n",
       "      <th>14405173</th>\n",
       "      <td>chr22</td>\n",
       "      <td>51303600</td>\n",
       "      <td>51303800</td>\n",
       "      <td>0</td>\n",
       "      <td>0</td>\n",
       "      <td>0</td>\n",
       "      <td>0</td>\n",
       "      <td>0</td>\n",
       "      <td>0</td>\n",
       "      <td>False</td>\n",
       "      <td>False</td>\n",
       "      <td>False</td>\n",
       "    </tr>\n",
       "    <tr>\n",
       "      <th>14405174</th>\n",
       "      <td>chr22</td>\n",
       "      <td>51303800</td>\n",
       "      <td>51304000</td>\n",
       "      <td>0</td>\n",
       "      <td>0</td>\n",
       "      <td>0</td>\n",
       "      <td>0</td>\n",
       "      <td>0</td>\n",
       "      <td>0</td>\n",
       "      <td>False</td>\n",
       "      <td>False</td>\n",
       "      <td>False</td>\n",
       "    </tr>\n",
       "    <tr>\n",
       "      <th>14405175</th>\n",
       "      <td>chr22</td>\n",
       "      <td>51304000</td>\n",
       "      <td>51304200</td>\n",
       "      <td>0</td>\n",
       "      <td>0</td>\n",
       "      <td>0</td>\n",
       "      <td>0</td>\n",
       "      <td>0</td>\n",
       "      <td>0</td>\n",
       "      <td>False</td>\n",
       "      <td>False</td>\n",
       "      <td>False</td>\n",
       "    </tr>\n",
       "    <tr>\n",
       "      <th>14405176</th>\n",
       "      <td>chr22</td>\n",
       "      <td>51304200</td>\n",
       "      <td>51304400</td>\n",
       "      <td>0</td>\n",
       "      <td>0</td>\n",
       "      <td>0</td>\n",
       "      <td>0</td>\n",
       "      <td>0</td>\n",
       "      <td>0</td>\n",
       "      <td>False</td>\n",
       "      <td>False</td>\n",
       "      <td>False</td>\n",
       "    </tr>\n",
       "    <tr>\n",
       "      <th>14405177</th>\n",
       "      <td>chr22</td>\n",
       "      <td>51304400</td>\n",
       "      <td>51304566</td>\n",
       "      <td>0</td>\n",
       "      <td>0</td>\n",
       "      <td>0</td>\n",
       "      <td>0</td>\n",
       "      <td>0</td>\n",
       "      <td>0</td>\n",
       "      <td>False</td>\n",
       "      <td>False</td>\n",
       "      <td>False</td>\n",
       "    </tr>\n",
       "  </tbody>\n",
       "</table>\n",
       "<p>14405178 rows × 12 columns</p>\n",
       "</div>"
      ],
      "text/plain": [
       "            Chr     Start       End  H3K9Ac  H3K4me3  H3K4me2  H3K27me3  \\\n",
       "0          chr1         0       200       0        0        0         0   \n",
       "1          chr1       200       400       0        0        0         0   \n",
       "2          chr1       400       600       0        0        0         0   \n",
       "3          chr1       600       800       0        0        0         0   \n",
       "4          chr1       800      1000       0        0        0         0   \n",
       "...         ...       ...       ...     ...      ...      ...       ...   \n",
       "14405173  chr22  51303600  51303800       0        0        0         0   \n",
       "14405174  chr22  51303800  51304000       0        0        0         0   \n",
       "14405175  chr22  51304000  51304200       0        0        0         0   \n",
       "14405176  chr22  51304200  51304400       0        0        0         0   \n",
       "14405177  chr22  51304400  51304566       0        0        0         0   \n",
       "\n",
       "          H3K4me1  H3K27Ac  ATAC Seq    HiC  RNA Seq  \n",
       "0               0        0     False  False    False  \n",
       "1               0        0     False  False    False  \n",
       "2               0        0     False  False    False  \n",
       "3               0        0     False  False    False  \n",
       "4               0        0     False  False    False  \n",
       "...           ...      ...       ...    ...      ...  \n",
       "14405173        0        0     False  False    False  \n",
       "14405174        0        0     False  False    False  \n",
       "14405175        0        0     False  False    False  \n",
       "14405176        0        0     False  False    False  \n",
       "14405177        0        0     False  False    False  \n",
       "\n",
       "[14405178 rows x 12 columns]"
      ]
     },
     "execution_count": 27,
     "metadata": {},
     "output_type": "execute_result"
    }
   ],
   "source": [
    "full_data_trimmed"
   ]
  },
  {
   "cell_type": "code",
   "execution_count": 28,
   "metadata": {},
   "outputs": [],
   "source": [
    "normalized_data = full_data_trimmed.copy()\n",
    "normalized_data[\"Start\"] = normalized_data[\"Start\"].div(200)\n",
    "normalized_data[\"End\"] = normalized_data[\"End\"].div(200)\n",
    "\n"
   ]
  },
  {
   "cell_type": "code",
   "execution_count": 29,
   "metadata": {},
   "outputs": [
    {
     "name": "stdout",
     "output_type": "stream",
     "text": [
      "<class 'pandas.core.frame.DataFrame'>\n",
      "RangeIndex: 14405178 entries, 0 to 14405177\n",
      "Data columns (total 12 columns):\n",
      " #   Column    Dtype  \n",
      "---  ------    -----  \n",
      " 0   Chr       object \n",
      " 1   Start     float64\n",
      " 2   End       float64\n",
      " 3   H3K9Ac    int64  \n",
      " 4   H3K4me3   int64  \n",
      " 5   H3K4me2   int64  \n",
      " 6   H3K27me3  int64  \n",
      " 7   H3K4me1   int64  \n",
      " 8   H3K27Ac   int64  \n",
      " 9   ATAC Seq  bool   \n",
      " 10  HiC       bool   \n",
      " 11  RNA Seq   bool   \n",
      "dtypes: bool(3), float64(2), int64(6), object(1)\n",
      "memory usage: 1.0+ GB\n"
     ]
    }
   ],
   "source": [
    "normalized_data.info(verbose = 2)"
   ]
  },
  {
   "cell_type": "code",
   "execution_count": 31,
   "metadata": {},
   "outputs": [],
   "source": [
    "normalized_data.to_csv(\"./normalized_data.csv\")"
   ]
  },
  {
   "cell_type": "code",
   "execution_count": 32,
   "metadata": {},
   "outputs": [],
   "source": [
    "from sklearn.neural_network import MLPRegressor\n",
    "from sklearn.model_selection import train_test_split\n",
    "from sklearn.metrics import mean_squared_error"
   ]
  },
  {
   "cell_type": "code",
   "execution_count": 102,
   "metadata": {},
   "outputs": [
    {
     "name": "stdout",
     "output_type": "stream",
     "text": [
      "Mean squared error: 0.00\n"
     ]
    }
   ],
   "source": [
    "# Split the data into training and test sets\n",
    "X_train, X_test, y_train, y_test = train_test_split(\n",
    "    normalized_data[['Start', 'End', 'H3K9Ac', 'H3K4me3', 'H3K4me2', 'H3K27me3', 'H3K4me1', 'H3K27Ac', 'ATAC Seq', 'HiC']],\n",
    "    normalized_data['RNA Seq'], test_size=0.2)\n",
    "\n",
    "# Train a MLP regressor with two hidden layers of 10 neurons each\n",
    "mlp = MLPRegressor(hidden_layer_sizes=(10, 10))\n",
    "mlp.fit(X_train, y_train)\n",
    "\n",
    "# Predict the target values on the test set and calculate the mean squared error\n",
    "y_pred = mlp.predict(X_test)\n"
   ]
  },
  {
   "cell_type": "code",
   "execution_count": 103,
   "metadata": {},
   "outputs": [
    {
     "name": "stdout",
     "output_type": "stream",
     "text": [
      "Mean squared error: 0.004014526198534288\n"
     ]
    }
   ],
   "source": [
    "mse = mean_squared_error(y_test, y_pred)\n",
    "\n",
    "print(f\"Mean squared error: {mse:}\")"
   ]
  },
  {
   "cell_type": "code",
   "execution_count": 105,
   "metadata": {},
   "outputs": [
    {
     "data": {
      "image/png": "[encoded data removed]",
      "text/plain": [
       "<Figure size 432x288 with 1 Axes>"
      ]
     },
     "metadata": {
      "needs_background": "light"
     },
     "output_type": "display_data"
    }
   ],
   "source": [
    "import matplotlib.pyplot as plt\n",
    "\n",
    "\n",
    "plt.scatter(y_test, y_pred)\n",
    "plt.plot([y_test.min(), y_test.max()], [y_test.min(), y_test.max()], 'k--', lw=4)\n",
    "plt.xlabel('Actual')\n",
    "plt.ylabel('Predicted')\n",
    "plt.show()"
   ]
  },
  {
   "cell_type": "code",
   "execution_count": 110,
   "metadata": {},
   "outputs": [
    {
     "ename": "TypeError",
     "evalue": "__init__() got an unexpected keyword argument 'class_weight'",
     "output_type": "error",
     "traceback": [
      "\u001b[0;31m---------------------------------------------------------------------------\u001b[0m",
      "\u001b[0;31mTypeError\u001b[0m                                 Traceback (most recent call last)",
      "\u001b[0;32m<ipython-input-110-b39833832b4a>\u001b[0m in \u001b[0;36m<module>\u001b[0;34m()\u001b[0m\n\u001b[1;32m      7\u001b[0m \u001b[0;34m\u001b[0m\u001b[0m\n\u001b[1;32m      8\u001b[0m \u001b[0;31m# Train a MLP classifier with two hidden layers of 10 neurons each\u001b[0m\u001b[0;34m\u001b[0m\u001b[0;34m\u001b[0m\u001b[0m\n\u001b[0;32m----> 9\u001b[0;31m \u001b[0mmlp\u001b[0m \u001b[0;34m=\u001b[0m \u001b[0mMLPClassifier\u001b[0m\u001b[0;34m(\u001b[0m\u001b[0mhidden_layer_sizes\u001b[0m\u001b[0;34m=\u001b[0m\u001b[0;34m(\u001b[0m\u001b[0;36m10\u001b[0m\u001b[0;34m,\u001b[0m \u001b[0;36m10\u001b[0m\u001b[0;34m)\u001b[0m\u001b[0;34m,\u001b[0m \u001b[0mclass_weight\u001b[0m\u001b[0;34m=\u001b[0m\u001b[0mclass_weights\u001b[0m\u001b[0;34m)\u001b[0m\u001b[0;34m\u001b[0m\u001b[0m\n\u001b[0m\u001b[1;32m     10\u001b[0m \u001b[0mmlp\u001b[0m\u001b[0;34m.\u001b[0m\u001b[0mfit\u001b[0m\u001b[0;34m(\u001b[0m\u001b[0mX_train\u001b[0m\u001b[0;34m,\u001b[0m \u001b[0my_train\u001b[0m\u001b[0;34m)\u001b[0m\u001b[0;34m\u001b[0m\u001b[0m\n",
      "\u001b[0;31mTypeError\u001b[0m: __init__() got an unexpected keyword argument 'class_weight'"
     ]
    }
   ],
   "source": [
    "import pandas as pd\n",
    "from sklearn.neural_network import MLPClassifier\n",
    "from sklearn.model_selection import train_test_split\n",
    "from sklearn.metrics import roc_curve, auc\n",
    "\n",
    "class_weights = {0: 1, 1: len(y_train[y_train==0])/len(y_train[y_train==1])}\n",
    "\n",
    "# Train a MLP classifier with two hidden layers of 10 neurons each\n",
    "mlp = MLPClassifier(hidden_layer_sizes=(10, 10), class_weight=class_weights)\n",
    "mlp.fit(X_train, y_train)"
   ]
  },
  {
   "cell_type": "code",
   "execution_count": 109,
   "metadata": {},
   "outputs": [
    {
     "data": {
      "image/png": "[encoded data removed]",
      "text/plain": [
       "<Figure size 432x288 with 1 Axes>"
      ]
     },
     "metadata": {
      "needs_background": "light"
     },
     "output_type": "display_data"
    }
   ],
   "source": [
    "# Predict the probabilities of the positive class on the test set\n",
    "y_pred_prob = mlp.predict_proba(X_test)[:, 1]\n",
    "\n",
    "# Compute the false positive rate, true positive rate and thresholds for the ROC curve\n",
    "fpr, tpr, thresholds = roc_curve(y_test, y_pred_prob)\n",
    "\n",
    "# Calculate the area under the ROC curve\n",
    "roc_auc = auc(fpr, tpr)\n",
    "\n",
    "# Plot the ROC curve\n",
    "plt.plot(fpr, tpr, color='darkorange', lw=2, label='ROC curve (area = %0.2f)' % roc_auc)\n",
    "plt.plot([0, 1], [0, 1], color='navy', lw=2, linestyle='--')\n",
    "plt.xlim([0.0, 1.0])\n",
    "plt.ylim([0.0, 1.05])\n",
    "plt.xlabel('False Positive Rate')\n",
    "plt.ylabel('True Positive Rate')\n",
    "plt.title('Receiver operating characteristic')\n",
    "plt.legend(loc=\"lower right\")\n",
    "plt.show()\n"
   ]
  },
  {
   "cell_type": "code",
   "execution_count": 60,
   "metadata": {},
   "outputs": [
    {
     "ename": "IndexError",
     "evalue": "list index out of range",
     "output_type": "error",
     "traceback": [
      "\u001b[0;31m---------------------------------------------------------------------------\u001b[0m",
      "\u001b[0;31mIndexError\u001b[0m                                Traceback (most recent call last)",
      "\u001b[0;32m<ipython-input-60-6dcccbeb1ffb>\u001b[0m in \u001b[0;36m<module>\u001b[0;34m()\u001b[0m\n\u001b[1;32m      1\u001b[0m obs = [pd.read_table(glob.glob(os.path.join(root_path,i + \"/peaks/\",'*binary'))[0],header = None, \n\u001b[0;32m----> 2\u001b[0;31m                      names= ['chr','start','end',i]) for i in assays if i!= 'README' or i!='resources' or i != 'Histones_ChIP-seq']\n\u001b[0m",
      "\u001b[0;32m<ipython-input-60-6dcccbeb1ffb>\u001b[0m in \u001b[0;36m<listcomp>\u001b[0;34m(.0)\u001b[0m\n\u001b[1;32m      1\u001b[0m obs = [pd.read_table(glob.glob(os.path.join(root_path,i + \"/peaks/\",'*binary'))[0],header = None, \n\u001b[0;32m----> 2\u001b[0;31m                      names= ['chr','start','end',i]) for i in assays if i!= 'README' or i!='resources' or i != 'Histones_ChIP-seq']\n\u001b[0m",
      "\u001b[0;31mIndexError\u001b[0m: list index out of range"
     ]
    }
   ],
   "source": [
    "obs = [pd.read_table(glob.glob(os.path.join(root_path,i + \"/peaks/\",'*binary'))[0],header = None, \n",
    "                     names= ['chr','start','end',i]) for i in assays if i!= 'README' or i!='resources' or i != 'Histones_ChIP-seq']"
   ]
  },
  {
   "cell_type": "code",
   "execution_count": 57,
   "metadata": {},
   "outputs": [
    {
     "ename": "NameError",
     "evalue": "name 'obs' is not defined",
     "output_type": "error",
     "traceback": [
      "\u001b[0;31m---------------------------------------------------------------------------\u001b[0m",
      "\u001b[0;31mNameError\u001b[0m                                 Traceback (most recent call last)",
      "\u001b[0;32m<ipython-input-57-3c6bdfe70d69>\u001b[0m in \u001b[0;36m<module>\u001b[0;34m()\u001b[0m\n\u001b[0;32m----> 1\u001b[0;31m \u001b[0mobs\u001b[0m\u001b[0;34m\u001b[0m\u001b[0m\n\u001b[0m",
      "\u001b[0;31mNameError\u001b[0m: name 'obs' is not defined"
     ]
    }
   ],
   "source": [
    "obs = [pd.read_table(glob.glob(os.path.join(root_path,i + \"/peaks/\",'*binary'))[0],header = None, \n",
    "                     names= ['chr','start','end',i]) for i in assays if i!= 'README' or i!='resources']"
   ]
  },
  {
   "cell_type": "code",
   "execution_count": 51,
   "metadata": {},
   "outputs": [
    {
     "name": "stdout",
     "output_type": "stream",
     "text": [
      "['RNAPolymerase_ChIP-seq', 'Histones_ChIP-seq', 'HiC_AB', 'resources', 'ATAC-seq']\n"
     ]
    }
   ],
   "source": []
  },
  {
   "cell_type": "code",
   "execution_count": 111,
   "metadata": {},
   "outputs": [],
   "source": [
    "import torch\n",
    "import torch.nn as nn\n",
    "import torch.optim as optim\n",
    "from torch.utils.data import DataLoader, TensorDataset\n",
    "import pandas as pd\n",
    "from sklearn.model_selection import train_test_split"
   ]
  },
  {
   "cell_type": "code",
   "execution_count": 112,
   "metadata": {},
   "outputs": [],
   "source": [
    "# Define the MLP class\n",
    "class MLP(nn.Module):\n",
    "    def __init__(self, input_size, hidden_size, output_size):\n",
    "        super().__init__()\n",
    "        self.fc1 = nn.Linear(input_size, hidden_size)\n",
    "        self.fc2 = nn.Linear(hidden_size, output_size)\n",
    "        \n",
    "    def forward(self, x):\n",
    "        x = torch.relu(self.fc1(x))\n",
    "        x = self.fc2(x)\n",
    "        return x"
   ]
  },
  {
   "cell_type": "code",
   "execution_count": 141,
   "metadata": {},
   "outputs": [
    {
     "name": "stdout",
     "output_type": "stream",
     "text": [
      "tensor([1.0000e+00, 2.5218e+03])\n"
     ]
    }
   ],
   "source": [
    "# Compute the weights for the two classes based on their frequencies in the training set\n",
    "\n",
    "class_weights = torch.tensor([1, 10 * len(y_train[y_train==0])/len(y_train[y_train==1])], dtype=torch.float)\n",
    "print(class_weights)"
   ]
  },
  {
   "cell_type": "code",
   "execution_count": 128,
   "metadata": {},
   "outputs": [],
   "source": [
    "X_train = X_train.astype('float')\n",
    "X_test = X_test.astype('float')\n",
    "\n",
    "y_train = y_train.astype('bool')\n",
    "y_test = y_test.astype('bool')"
   ]
  },
  {
   "cell_type": "code",
   "execution_count": 133,
   "metadata": {},
   "outputs": [],
   "source": [
    "X_train_tensor = torch.tensor(X_train.values, dtype=torch.float)\n",
    "y_train_tensor = torch.tensor(y_train.values, dtype=torch.long)\n",
    "train_dataset = TensorDataset(X_train_tensor, y_train_tensor)\n",
    "\n",
    "X_test_tensor = torch.tensor(X_test.values, dtype=torch.float)\n",
    "y_test_tensor = torch.tensor(y_test.values, dtype=torch.long)\n",
    "test_dataset = TensorDataset(X_test_tensor, y_test_tensor)"
   ]
  },
  {
   "cell_type": "code",
   "execution_count": 134,
   "metadata": {},
   "outputs": [],
   "source": [
    "# Define the DataLoader objects to batch and shuffle the data during training and testing\n",
    "train_loader = DataLoader(train_dataset, batch_size=32, shuffle=True)\n",
    "test_loader = DataLoader(test_dataset, batch_size=32, shuffle=True)"
   ]
  },
  {
   "cell_type": "code",
   "execution_count": 142,
   "metadata": {},
   "outputs": [
    {
     "name": "stdout",
     "output_type": "stream",
     "text": [
      "Epoch 1, loss: 13.300\n"
     ]
    }
   ],
   "source": [
    "# Instantiate the MLP model, criterion and optimizer\n",
    "model = MLP(input_size=10, hidden_size=10, output_size=2)\n",
    "criterion = nn.CrossEntropyLoss(weight=class_weights)\n",
    "optimizer = optim.Adam(model.parameters())\n",
    "\n",
    "STOP = 31250\n",
    "# Train the model\n",
    "for epoch in range(1):\n",
    "    running_loss = 0.0\n",
    "    for i, data in enumerate(train_loader, 0):\n",
    "        inputs, labels = data\n",
    "        \n",
    "        optimizer.zero_grad()\n",
    "        \n",
    "        outputs = model(inputs)\n",
    "        loss = criterion(outputs, labels)\n",
    "        loss.backward()\n",
    "        optimizer.step()\n",
    "        \n",
    "        running_loss += loss.item()\n",
    "        \n",
    "    print('Epoch %d, loss: %.3f' % (epoch+1, running_loss/len(train_loader)))"
   ]
  },
  {
   "cell_type": "code",
   "execution_count": 143,
   "metadata": {},
   "outputs": [
    {
     "data": {
      "image/png": "[encoded data removed]",
      "text/plain": [
       "<Figure size 432x288 with 1 Axes>"
      ]
     },
     "metadata": {
      "needs_background": "light"
     },
     "output_type": "display_data"
    }
   ],
   "source": [
    "from sklearn.metrics import roc_curve, auc\n",
    "import matplotlib.pyplot as plt\n",
    "\n",
    "# Define a function to plot the ROC curve\n",
    "def plot_roc_curve(y_true, y_pred):\n",
    "    fpr, tpr, _ = roc_curve(y_true, y_pred)\n",
    "    roc_auc = auc(fpr, tpr)\n",
    "    \n",
    "    plt.figure()\n",
    "    plt.plot(fpr, tpr, color='darkorange', lw=2, label='ROC curve (AUC = %0.2f)' % roc_auc)\n",
    "    plt.plot([0, 1], [0, 1], color='navy', lw=2, linestyle='--')\n",
    "    plt.xlim([0.0, 1.0])\n",
    "    plt.ylim([0.0, 1.05])\n",
    "    plt.xlabel('False Positive Rate')\n",
    "    plt.ylabel('True Positive Rate')\n",
    "    plt.title('Receiver operating characteristic')\n",
    "    plt.legend(loc=\"lower right\")\n",
    "    plt.show()\n",
    "\n",
    "# Evaluate the model on the test set and generate predictions\n",
    "y_true = y_test_tensor.numpy()\n",
    "y_scores = model(X_test_tensor).detach().numpy()[:, 1]\n",
    "\n",
    "# Plot the ROC curve\n",
    "plot_roc_curve(y_true, y_scores)"
   ]
  },
  {
   "cell_type": "code",
   "execution_count": 140,
   "metadata": {},
   "outputs": [
    {
     "name": "stdout",
     "output_type": "stream",
     "text": [
      "Accuracy on test set: 99.596951\n"
     ]
    }
   ],
   "source": [
    "\n",
    "\n",
    "\n",
    "\n",
    "\n",
    "\n",
    "\n",
    "\n",
    "\n",
    "\n",
    "\n",
    "    \n",
    "# Evaluate the model on the test set\n",
    "correct = 0\n",
    "total = 0\n",
    "with torch.no_grad():\n",
    "    for data in test_loader:\n",
    "        inputs, labels = data\n",
    "        \n",
    "        outputs = model(inputs)\n",
    "        _, predicted = torch.max(outputs.data, 1)\n",
    "        \n",
    "        total += labels.size(0)\n",
    "        correct += (predicted == labels).sum().item()\n",
    "        \n",
    "print('Accuracy on test set: %f' % (100 * correct / total))"
   ]
  },
  {
   "cell_type": "code",
   "execution_count": 33,
   "metadata": {},
   "outputs": [],
   "source": [
    "\n",
    "X_train_r, X_test_r, y_train_r, y_tes_rt = train_test_split(\n",
    "    normalized_data[['Start', 'End', 'H3K9Ac', 'H3K4me3', 'H3K4me2', 'H3K27me3', 'H3K4me1', 'H3K27Ac', 'ATAC Seq', 'HiC']],\n",
    "    normalized_data['RNA Seq'], test_size=0.2)\n",
    "\n",
    "train_df = pd.concat([X_train_r, y_train_r], axis=1)\n",
    "true_rows = train_df[train_df['RNA Seq'] == True]\n",
    "false_rows = train_df[train_df['RNA Seq'] == False]\n",
    "\n",
    "# Shuffle the data to avoid any possible bias\n",
    "true_rows = true_rows.sample(frac=1).reset_index(drop=True)\n",
    "false_rows = false_rows.sample(frac=1).reset_index(drop=True)\n",
    "\n",
    "# Determine the number of rows to include for each output\n",
    "num_true_rows = min(len(false_rows), len(true_rows))\n",
    "num_false_rows = min(len(false_rows), len(true_rows))\n",
    "\n",
    "# Slice the first 'num_true_rows' true rows and the first 'num_false_rows' false rows\n",
    "reduced_df = pd.concat([true_rows[:num_true_rows], false_rows[:num_false_rows]])\n",
    "\n",
    "# Shuffle the reduced dataset again\n",
    "reduced_df = reduced_df.sample(frac=1).reset_index(drop=True)\n",
    "\n",
    "# Split the reduced dataset back into X_train and y_train\n",
    "X_train_r = reduced_df.drop('RNA Seq', axis=1)\n",
    "y_train_r = reduced_df['RNA Seq']"
   ]
  },
  {
   "cell_type": "code",
   "execution_count": 41,
   "metadata": {},
   "outputs": [],
   "source": [
    "# Train a MLP regressor with two hidden layers of 10 neurons each\n",
    "import pandas as pd\n",
    "from sklearn.neural_network import MLPClassifier\n",
    "from sklearn.model_selection import train_test_split\n",
    "from sklearn.metrics import roc_curve, auc\n",
    "\n",
    "\n",
    "# Train a MLP classifier with two hidden layers of 10 neurons each\n",
    "mlp = MLPClassifier(hidden_layer_sizes=(10, 10))\n",
    "mlp.fit(X_train_r, y_train_r)\n",
    "\n",
    "# Predict the target values on the test set and calculate the mean squared error\n",
    "y_pred = mlp.predict(X_test_r)"
   ]
  },
  {
   "cell_type": "code",
   "execution_count": 42,
   "metadata": {},
   "outputs": [
    {
     "data": {
      "image/png": "[encoded data removed]",
      "text/plain": [
       "<Figure size 432x288 with 1 Axes>"
      ]
     },
     "metadata": {
      "needs_background": "light"
     },
     "output_type": "display_data"
    }
   ],
   "source": [
    "import matplotlib.pyplot as plt\n",
    "\n",
    "\n",
    "plt.scatter(y_tes_rt, y_pred)\n",
    "plt.plot([y_tes_rt.min(), y_tes_rt.max()], [y_tes_rt.min(), y_tes_rt.max()], 'k--', lw=4)\n",
    "plt.xlabel('Actual')\n",
    "plt.ylabel('Predicted')\n",
    "plt.show()"
   ]
  },
  {
   "cell_type": "code",
   "execution_count": 44,
   "metadata": {},
   "outputs": [
    {
     "data": {
      "image/png": "[encoded data removed]",
      "text/plain": [
       "<Figure size 432x288 with 1 Axes>"
      ]
     },
     "metadata": {
      "needs_background": "light"
     },
     "output_type": "display_data"
    }
   ],
   "source": [
    "# Predict the probabilities of the positive class on the test set\n",
    "y_pred_prob = mlp.predict_proba(X_test_r)[:, 1]\n",
    "\n",
    "# Compute the false positive rate, true positive rate and thresholds for the ROC curve\n",
    "fpr, tpr, thresholds = roc_curve(y_tes_rt, y_pred_prob)\n",
    "\n",
    "# Calculate the area under the ROC curve\n",
    "roc_auc = auc(fpr, tpr)\n",
    "\n",
    "# Plot the ROC curve\n",
    "plt.plot(fpr, tpr, color='darkorange', lw=2, label='ROC curve (area = %f)' % roc_auc)\n",
    "plt.plot([0, 1], [0, 1], color='navy', lw=2, linestyle='--')\n",
    "plt.xlim([0.0, 1.0])\n",
    "plt.ylim([0.0, 1.05])\n",
    "plt.xlabel('False Positive Rate')\n",
    "plt.ylabel('True Positive Rate')\n",
    "plt.title('Receiver operating characteristic')\n",
    "plt.legend(loc=\"lower right\")\n",
    "plt.show()"
   ]
  },
  {
   "cell_type": "code",
   "execution_count": null,
   "metadata": {},
   "outputs": [],
   "source": []
  }
 ],
 "metadata": {
  "kernelspec": {
   "display_name": "Python 3",
   "language": "python",
   "name": "python3"
  },
  "language_info": {
   "codemirror_mode": {
    "name": "ipython",
    "version": 3
   },
   "file_extension": ".py",
   "mimetype": "text/x-python",
   "name": "python",
   "nbconvert_exporter": "python",
   "pygments_lexer": "ipython3",
   "version": "3.7.0"
  }
 },
 "nbformat": 4,
 "nbformat_minor": 2
}
