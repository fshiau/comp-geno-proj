{
  "cells": [
    {
      "cell_type": "markdown",
      "metadata": {},
      "source": [
        "**2.2_gmm-select**\n",
        "\n",
        "This notebook finds the optimal number of GMM/HMM states using BIC"
      ]
    },
    {
      "cell_type": "code",
      "execution_count": 25,
      "metadata": {},
      "outputs": [],
      "source": [
        "import sklearn as sk\n",
        "from sklearn.model_selection import GridSearchCV\n",
        "from sklearn.mixture import GaussianMixture\n",
        "import numpy as np\n",
        "import pandas as pd\n",
        "import matplotlib.pyplot as pl\n",
        "import os"
      ]
    },
    {
      "cell_type": "code",
      "execution_count": 26,
      "metadata": {},
      "outputs": [],
      "source": [
        "dir = '/Users/fionshiau/Documents/2023Spring/Computational_Genomics/Final_Project/comp-geno-proj/'"
      ]
    },
    {
      "cell_type": "code",
      "execution_count": 27,
      "metadata": {},
      "outputs": [],
      "source": [
        "dat = pd.read_csv(os.path.join(dir,'data','merged','1.4.0_train.csv'))"
      ]
    },
    {
      "cell_type": "code",
      "execution_count": 28,
      "metadata": {},
      "outputs": [
        {
          "data": {
            "text/html": [
              "<div>\n",
              "<style scoped>\n",
              "    .dataframe tbody tr th:only-of-type {\n",
              "        vertical-align: middle;\n",
              "    }\n",
              "\n",
              "    .dataframe tbody tr th {\n",
              "        vertical-align: top;\n",
              "    }\n",
              "\n",
              "    .dataframe thead th {\n",
              "        text-align: right;\n",
              "    }\n",
              "</style>\n",
              "<table border=\"1\" class=\"dataframe\">\n",
              "  <thead>\n",
              "    <tr style=\"text-align: right;\">\n",
              "      <th></th>\n",
              "      <th>Unnamed: 0</th>\n",
              "      <th>chr</th>\n",
              "      <th>start</th>\n",
              "      <th>end</th>\n",
              "      <th>HiC_AB</th>\n",
              "      <th>H3K4me2</th>\n",
              "      <th>H3K9Ac</th>\n",
              "      <th>H3K4me3</th>\n",
              "      <th>ATAC-seq</th>\n",
              "      <th>H3K4me1</th>\n",
              "      <th>H3K27Ac</th>\n",
              "      <th>H3K27me3</th>\n",
              "      <th>RNAPol</th>\n",
              "    </tr>\n",
              "  </thead>\n",
              "  <tbody>\n",
              "    <tr>\n",
              "      <th>0</th>\n",
              "      <td>chr1_0-5000</td>\n",
              "      <td>chr1</td>\n",
              "      <td>0</td>\n",
              "      <td>5000</td>\n",
              "      <td>-1.000000</td>\n",
              "      <td>0.000000</td>\n",
              "      <td>0.000000</td>\n",
              "      <td>0.000000</td>\n",
              "      <td>0.000000</td>\n",
              "      <td>0.0</td>\n",
              "      <td>0.000000</td>\n",
              "      <td>0.000000</td>\n",
              "      <td>0.000000</td>\n",
              "    </tr>\n",
              "    <tr>\n",
              "      <th>1</th>\n",
              "      <td>chr1_5000-10000</td>\n",
              "      <td>chr1</td>\n",
              "      <td>5000</td>\n",
              "      <td>10000</td>\n",
              "      <td>-0.014358</td>\n",
              "      <td>0.000000</td>\n",
              "      <td>0.000000</td>\n",
              "      <td>0.000000</td>\n",
              "      <td>0.474979</td>\n",
              "      <td>0.0</td>\n",
              "      <td>0.873456</td>\n",
              "      <td>0.000000</td>\n",
              "      <td>0.106125</td>\n",
              "    </tr>\n",
              "    <tr>\n",
              "      <th>2</th>\n",
              "      <td>chr1_10000-15000</td>\n",
              "      <td>chr1</td>\n",
              "      <td>10000</td>\n",
              "      <td>15000</td>\n",
              "      <td>-0.004929</td>\n",
              "      <td>0.204483</td>\n",
              "      <td>0.000000</td>\n",
              "      <td>0.043258</td>\n",
              "      <td>0.336872</td>\n",
              "      <td>0.0</td>\n",
              "      <td>0.219781</td>\n",
              "      <td>0.659145</td>\n",
              "      <td>0.600027</td>\n",
              "    </tr>\n",
              "    <tr>\n",
              "      <th>3</th>\n",
              "      <td>chr1_15000-20000</td>\n",
              "      <td>chr1</td>\n",
              "      <td>15000</td>\n",
              "      <td>20000</td>\n",
              "      <td>-0.004310</td>\n",
              "      <td>0.232708</td>\n",
              "      <td>0.314744</td>\n",
              "      <td>0.045658</td>\n",
              "      <td>0.023892</td>\n",
              "      <td>0.0</td>\n",
              "      <td>0.000000</td>\n",
              "      <td>0.000000</td>\n",
              "      <td>0.918754</td>\n",
              "    </tr>\n",
              "    <tr>\n",
              "      <th>4</th>\n",
              "      <td>chr1_20000-25000</td>\n",
              "      <td>chr1</td>\n",
              "      <td>20000</td>\n",
              "      <td>25000</td>\n",
              "      <td>-0.194548</td>\n",
              "      <td>0.000000</td>\n",
              "      <td>0.000000</td>\n",
              "      <td>0.000000</td>\n",
              "      <td>0.980893</td>\n",
              "      <td>0.0</td>\n",
              "      <td>0.000000</td>\n",
              "      <td>0.000000</td>\n",
              "      <td>0.000000</td>\n",
              "    </tr>\n",
              "  </tbody>\n",
              "</table>\n",
              "</div>"
            ],
            "text/plain": [
              "         Unnamed: 0   chr  start    end    HiC_AB   H3K4me2    H3K9Ac   \n",
              "0       chr1_0-5000  chr1      0   5000 -1.000000  0.000000  0.000000  \\\n",
              "1   chr1_5000-10000  chr1   5000  10000 -0.014358  0.000000  0.000000   \n",
              "2  chr1_10000-15000  chr1  10000  15000 -0.004929  0.204483  0.000000   \n",
              "3  chr1_15000-20000  chr1  15000  20000 -0.004310  0.232708  0.314744   \n",
              "4  chr1_20000-25000  chr1  20000  25000 -0.194548  0.000000  0.000000   \n",
              "\n",
              "    H3K4me3  ATAC-seq  H3K4me1   H3K27Ac  H3K27me3    RNAPol  \n",
              "0  0.000000  0.000000      0.0  0.000000  0.000000  0.000000  \n",
              "1  0.000000  0.474979      0.0  0.873456  0.000000  0.106125  \n",
              "2  0.043258  0.336872      0.0  0.219781  0.659145  0.600027  \n",
              "3  0.045658  0.023892      0.0  0.000000  0.000000  0.918754  \n",
              "4  0.000000  0.980893      0.0  0.000000  0.000000  0.000000  "
            ]
          },
          "execution_count": 28,
          "metadata": {},
          "output_type": "execute_result"
        }
      ],
      "source": [
        "dat.iloc[0:5,:]"
      ]
    },
    {
      "cell_type": "code",
      "execution_count": 29,
      "metadata": {},
      "outputs": [],
      "source": [
        "mat = dat.iloc[:,4:].to_numpy()"
      ]
    },
    {
      "cell_type": "code",
      "execution_count": 18,
      "metadata": {},
      "outputs": [],
      "source": [
        "# normalize non-HiC column to range from 0 to 1 by min-max scaler\n",
        "#mat[:,1:] = (mat[:,1:]/mat[:,1:].sum(axis=0))*1e6\n",
        "#from sklearn.preprocessing import Normalizer\n",
        "#mat = np.hstack((mat[:,0].reshape(-1,1),Normalizer().fit_transform(X=mat[:,1:])))\n",
        "#mat = Normalizer().fit_transform(mat)"
      ]
    },
    {
      "cell_type": "code",
      "execution_count": 30,
      "metadata": {},
      "outputs": [],
      "source": [
        "# find optimal n_components for GMM\n",
        "from joblib import Parallel, delayed, parallel_backend\n",
        "def gmm_bic(X, n):\n",
        "    gm = GaussianMixture(n_components = n, random_state=0).fit(X)\n",
        "    return gm.bic(X)\n",
        "\n",
        "output = Parallel(n_jobs=6)(delayed(gmm_bic)(mat, n=i) for i in range(1,15))"
      ]
    },
    {
      "cell_type": "code",
      "execution_count": 31,
      "metadata": {},
      "outputs": [
        {
          "data": {
            "text/plain": [
              "[-4684175.914622771,\n",
              " -8893740.629365124,\n",
              " -13574174.60522929,\n",
              " -14810568.53277108,\n",
              " -15575576.159721365,\n",
              " -15860092.224688051,\n",
              " -16247136.426382963,\n",
              " -16415445.337255983,\n",
              " -16607298.746397309,\n",
              " -16992401.587225493,\n",
              " -17094602.997126043,\n",
              " -17282628.75266843,\n",
              " -17470692.462285317,\n",
              " -17672318.935245275]"
            ]
          },
          "execution_count": 31,
          "metadata": {},
          "output_type": "execute_result"
        }
      ],
      "source": [
        "output"
      ]
    },
    {
      "cell_type": "code",
      "execution_count": 32,
      "metadata": {},
      "outputs": [],
      "source": [
        "grad = np.gradient(output)"
      ]
    },
    {
      "cell_type": "code",
      "execution_count": 33,
      "metadata": {},
      "outputs": [
        {
          "data": {
            "text/plain": [
              "array([-4209564.71474235, -4444999.34530326, -2958413.95170298,\n",
              "       -1000700.77724604,  -524761.84595849,  -335780.1333308 ,\n",
              "        -277676.55628397,  -180081.16000717,  -288478.12498476,\n",
              "        -243652.12536437,  -145113.58272147,  -188044.73257964,\n",
              "        -194845.09128842,  -201626.47295996])"
            ]
          },
          "execution_count": 33,
          "metadata": {},
          "output_type": "execute_result"
        }
      ],
      "source": [
        "grad"
      ]
    },
    {
      "cell_type": "code",
      "execution_count": 38,
      "metadata": {},
      "outputs": [
        {
          "data": {
            "text/plain": [
              "[Text(0.5, 0, '# of components')]"
            ]
          },
          "execution_count": 38,
          "metadata": {},
          "output_type": "execute_result"
        },
        {
          "data": {
            "image/png": "[encoded data removed]",
            "text/plain": [
              "<Figure size 640x480 with 1 Axes>"
            ]
          },
          "metadata": {},
          "output_type": "display_data"
        }
      ],
      "source": [
        "import seaborn as sns\n",
        "sns.lineplot(x = range(1,len(grad)+1),y=output, label = 'BIC')\n",
        "sns.lineplot(x = range(1,len(grad)+1),y=grad, label = 'gradient').set(xlabel='# of components')"
      ]
    }
  ],
  "metadata": {
    "accelerator": "GPU",
    "colab": {
      "include_colab_link": true,
      "provenance": []
    },
    "kernelspec": {
      "display_name": "Python 3",
      "name": "python3"
    },
    "language_info": {
      "codemirror_mode": {
        "name": "ipython",
        "version": 3
      },
      "file_extension": ".py",
      "mimetype": "text/x-python",
      "name": "python",
      "nbconvert_exporter": "python",
      "pygments_lexer": "ipython3",
      "version": "3.10.10"
    }
  },
  "nbformat": 4,
  "nbformat_minor": 0
}
