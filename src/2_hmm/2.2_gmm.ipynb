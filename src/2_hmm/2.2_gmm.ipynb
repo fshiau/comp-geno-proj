{
  "cells": [
    {
      "cell_type": "code",
      "execution_count": 1,
      "metadata": {},
      "outputs": [],
      "source": [
        "import sklearn as sk\n",
        "from sklearn.model_selection import GridSearchCV\n",
        "from sklearn.mixture import GaussianMixture\n",
        "import numpy as np\n",
        "import pandas as pd\n",
        "import matplotlib.pyplot as pl\n",
        "import os"
      ]
    },
    {
      "cell_type": "code",
      "execution_count": 2,
      "metadata": {},
      "outputs": [],
      "source": [
        "dir = '/Users/fionshiau/Documents/2023Spring/Computational_Genomics/Final_Project/comp-geno-proj/'"
      ]
    },
    {
      "cell_type": "code",
      "execution_count": 3,
      "metadata": {},
      "outputs": [],
      "source": [
        "dat = pd.read_csv(os.path.join(dir,'data','merged','1.3.1_raw.csv'))"
      ]
    },
    {
      "cell_type": "code",
      "execution_count": 4,
      "metadata": {},
      "outputs": [
        {
          "data": {
            "text/html": [
              "<div>\n",
              "<style scoped>\n",
              "    .dataframe tbody tr th:only-of-type {\n",
              "        vertical-align: middle;\n",
              "    }\n",
              "\n",
              "    .dataframe tbody tr th {\n",
              "        vertical-align: top;\n",
              "    }\n",
              "\n",
              "    .dataframe thead th {\n",
              "        text-align: right;\n",
              "    }\n",
              "</style>\n",
              "<table border=\"1\" class=\"dataframe\">\n",
              "  <thead>\n",
              "    <tr style=\"text-align: right;\">\n",
              "      <th></th>\n",
              "      <th>Unnamed: 0</th>\n",
              "      <th>chr</th>\n",
              "      <th>start</th>\n",
              "      <th>end</th>\n",
              "      <th>HiC_AB</th>\n",
              "      <th>H3K4me2</th>\n",
              "      <th>H3K9Ac</th>\n",
              "      <th>H3K4me3</th>\n",
              "      <th>ATAC-seq</th>\n",
              "      <th>H3K4me1</th>\n",
              "      <th>H3K27Ac</th>\n",
              "      <th>H3K27me3</th>\n",
              "      <th>RNAPol</th>\n",
              "    </tr>\n",
              "  </thead>\n",
              "  <tbody>\n",
              "    <tr>\n",
              "      <th>0</th>\n",
              "      <td>chr1_0-5000</td>\n",
              "      <td>chr1</td>\n",
              "      <td>0</td>\n",
              "      <td>5000</td>\n",
              "      <td>-0.017687</td>\n",
              "      <td>0.000000</td>\n",
              "      <td>0.000000</td>\n",
              "      <td>0.00000</td>\n",
              "      <td>0.000000</td>\n",
              "      <td>0.0</td>\n",
              "      <td>0.000000</td>\n",
              "      <td>0.00000</td>\n",
              "      <td>0.000000</td>\n",
              "    </tr>\n",
              "    <tr>\n",
              "      <th>1</th>\n",
              "      <td>chr1_5000-10000</td>\n",
              "      <td>chr1</td>\n",
              "      <td>5000</td>\n",
              "      <td>10000</td>\n",
              "      <td>-0.018022</td>\n",
              "      <td>0.000000</td>\n",
              "      <td>0.000000</td>\n",
              "      <td>0.00000</td>\n",
              "      <td>0.596187</td>\n",
              "      <td>0.0</td>\n",
              "      <td>1.096350</td>\n",
              "      <td>0.00000</td>\n",
              "      <td>0.133207</td>\n",
              "    </tr>\n",
              "    <tr>\n",
              "      <th>2</th>\n",
              "      <td>chr1_10000-15000</td>\n",
              "      <td>chr1</td>\n",
              "      <td>10000</td>\n",
              "      <td>15000</td>\n",
              "      <td>-0.018439</td>\n",
              "      <td>0.765027</td>\n",
              "      <td>0.000000</td>\n",
              "      <td>0.16184</td>\n",
              "      <td>1.260333</td>\n",
              "      <td>0.0</td>\n",
              "      <td>0.822263</td>\n",
              "      <td>2.46605</td>\n",
              "      <td>2.244871</td>\n",
              "    </tr>\n",
              "    <tr>\n",
              "      <th>3</th>\n",
              "      <td>chr1_15000-20000</td>\n",
              "      <td>chr1</td>\n",
              "      <td>15000</td>\n",
              "      <td>20000</td>\n",
              "      <td>-0.015277</td>\n",
              "      <td>0.824867</td>\n",
              "      <td>1.115655</td>\n",
              "      <td>0.16184</td>\n",
              "      <td>0.084689</td>\n",
              "      <td>0.0</td>\n",
              "      <td>0.000000</td>\n",
              "      <td>0.00000</td>\n",
              "      <td>3.256657</td>\n",
              "    </tr>\n",
              "    <tr>\n",
              "      <th>4</th>\n",
              "      <td>chr1_20000-25000</td>\n",
              "      <td>chr1</td>\n",
              "      <td>20000</td>\n",
              "      <td>25000</td>\n",
              "      <td>-0.006933</td>\n",
              "      <td>0.000000</td>\n",
              "      <td>0.000000</td>\n",
              "      <td>0.00000</td>\n",
              "      <td>0.034956</td>\n",
              "      <td>0.0</td>\n",
              "      <td>0.000000</td>\n",
              "      <td>0.00000</td>\n",
              "      <td>0.000000</td>\n",
              "    </tr>\n",
              "  </tbody>\n",
              "</table>\n",
              "</div>"
            ],
            "text/plain": [
              "         Unnamed: 0   chr  start    end    HiC_AB   H3K4me2    H3K9Ac   \n",
              "0       chr1_0-5000  chr1      0   5000 -0.017687  0.000000  0.000000  \\\n",
              "1   chr1_5000-10000  chr1   5000  10000 -0.018022  0.000000  0.000000   \n",
              "2  chr1_10000-15000  chr1  10000  15000 -0.018439  0.765027  0.000000   \n",
              "3  chr1_15000-20000  chr1  15000  20000 -0.015277  0.824867  1.115655   \n",
              "4  chr1_20000-25000  chr1  20000  25000 -0.006933  0.000000  0.000000   \n",
              "\n",
              "   H3K4me3  ATAC-seq  H3K4me1   H3K27Ac  H3K27me3    RNAPol  \n",
              "0  0.00000  0.000000      0.0  0.000000   0.00000  0.000000  \n",
              "1  0.00000  0.596187      0.0  1.096350   0.00000  0.133207  \n",
              "2  0.16184  1.260333      0.0  0.822263   2.46605  2.244871  \n",
              "3  0.16184  0.084689      0.0  0.000000   0.00000  3.256657  \n",
              "4  0.00000  0.034956      0.0  0.000000   0.00000  0.000000  "
            ]
          },
          "execution_count": 4,
          "metadata": {},
          "output_type": "execute_result"
        }
      ],
      "source": [
        "dat.iloc[0:5,:]"
      ]
    },
    {
      "cell_type": "code",
      "execution_count": 23,
      "metadata": {},
      "outputs": [],
      "source": [
        "mat = dat.iloc[:,4:].to_numpy()"
      ]
    },
    {
      "cell_type": "code",
      "execution_count": 24,
      "metadata": {},
      "outputs": [],
      "source": [
        "# normalize non-HiC column to range from 0 to 1 by min-max scaler\n",
        "#mat[:,1:] = (mat[:,1:]/mat[:,1:].sum(axis=0))*1e6\n",
        "from sklearn.preprocessing import Normalizer\n",
        "mat = np.hstack((mat[:,0].reshape(-1,1),Normalizer().fit_transform(X=mat[:,1:])))"
      ]
    },
    {
      "cell_type": "code",
      "execution_count": 25,
      "metadata": {},
      "outputs": [],
      "source": [
        "# find optimal n_components for GMM\n",
        "from joblib import Parallel, delayed, parallel_backend\n",
        "def gmm_bic(X, n):\n",
        "    gm = GaussianMixture(n_components = n, random_state=0).fit(X)\n",
        "    return gm.bic(X)\n",
        "\n",
        "output = Parallel(n_jobs=6)(delayed(gmm_bic)(mat, n=i) for i in range(1,15))"
      ]
    },
    {
      "cell_type": "code",
      "execution_count": 26,
      "metadata": {},
      "outputs": [
        {
          "data": {
            "text/plain": [
              "[-9124592.889881782,\n",
              " -11988025.742712302,\n",
              " -12751380.231873333,\n",
              " -14835230.709549671,\n",
              " -15538626.502479378,\n",
              " -16108872.670381162,\n",
              " -16534998.574328607,\n",
              " -16652670.32736222,\n",
              " -17102653.542000823,\n",
              " -17227447.55045845,\n",
              " -17474331.15534524,\n",
              " -17585588.19748967,\n",
              " -17760459.836460557,\n",
              " -17864549.36707506]"
            ]
          },
          "execution_count": 26,
          "metadata": {},
          "output_type": "execute_result"
        }
      ],
      "source": [
        "output"
      ]
    },
    {
      "cell_type": "code",
      "execution_count": 27,
      "metadata": {},
      "outputs": [],
      "source": [
        "grad = np.gradient(output)"
      ]
    },
    {
      "cell_type": "code",
      "execution_count": 28,
      "metadata": {},
      "outputs": [
        {
          "data": {
            "text/plain": [
              "array([-2863432.85283052, -1813393.67099578, -1423602.48341868,\n",
              "       -1393623.13530302,  -636820.98041575,  -498186.03592461,\n",
              "        -271898.82849053,  -283827.48383611,  -287388.61154811,\n",
              "        -185838.80667221,  -179070.32351561,  -143064.34055766,\n",
              "        -139480.58479269,  -104089.5306145 ])"
            ]
          },
          "execution_count": 28,
          "metadata": {},
          "output_type": "execute_result"
        }
      ],
      "source": [
        "grad"
      ]
    },
    {
      "cell_type": "code",
      "execution_count": 32,
      "metadata": {},
      "outputs": [
        {
          "data": {
            "text/plain": [
              "<Axes: >"
            ]
          },
          "execution_count": 32,
          "metadata": {},
          "output_type": "execute_result"
        },
        {
          "data": {
            "image/png": "[encoded data removed]",
            "text/plain": [
              "<Figure size 640x480 with 1 Axes>"
            ]
          },
          "metadata": {},
          "output_type": "display_data"
        }
      ],
      "source": [
        "import seaborn as sns\n",
        "sns.lineplot(x = range(1,len(grad)+1),y=output, label = 'BIC')"
      ]
    },
    {
      "cell_type": "code",
      "execution_count": 33,
      "metadata": {},
      "outputs": [
        {
          "data": {
            "text/plain": [
              "<Axes: >"
            ]
          },
          "execution_count": 33,
          "metadata": {},
          "output_type": "execute_result"
        },
        {
          "data": {
            "image/png": "[encoded data removed]",
            "text/plain": [
              "<Figure size 640x480 with 1 Axes>"
            ]
          },
          "metadata": {},
          "output_type": "display_data"
        }
      ],
      "source": [
        "sns.lineplot(x = range(1,len(grad)+1),y=grad, label = 'grad')"
      ]
    },
    {
      "cell_type": "code",
      "execution_count": null,
      "metadata": {},
      "outputs": [],
      "source": []
    }
  ],
  "metadata": {
    "accelerator": "GPU",
    "colab": {
      "include_colab_link": true,
      "provenance": []
    },
    "kernelspec": {
      "display_name": "Python 3",
      "name": "python3"
    },
    "language_info": {
      "codemirror_mode": {
        "name": "ipython",
        "version": 3
      },
      "file_extension": ".py",
      "mimetype": "text/x-python",
      "name": "python",
      "nbconvert_exporter": "python",
      "pygments_lexer": "ipython3",
      "version": "3.10.10"
    }
  },
  "nbformat": 4,
  "nbformat_minor": 0
}
