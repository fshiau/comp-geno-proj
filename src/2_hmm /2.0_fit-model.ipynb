{
  "nbformat": 4,
  "nbformat_minor": 0,
  "metadata": {
    "colab": {
      "provenance": [],
      "include_colab_link": true
    },
    "kernelspec": {
      "name": "python3",
      "display_name": "Python 3"
    },
    "language_info": {
      "name": "python"
    }
  },
  "cells": [
    {
      "cell_type": "markdown",
      "metadata": {
        "id": "view-in-github",
        "colab_type": "text"
      },
      "source": [
        "<a href=\"https://colab.research.google.com/github/fshiau/comp-geno-proj/blob/main/src/2_hmm%20/2.0_fit-model.ipynb\" target=\"_parent\"><img src=\"https://colab.research.google.com/assets/colab-badge.svg\" alt=\"Open In Colab\"/></a>"
      ]
    },
    {
      "cell_type": "code",
      "source": [
        "try:\n",
        "  from google.colab import drive\n",
        "  drive.mount('/content/drive')\n",
        "  data = \"/content/drive/MyDrive/ComputationalGenomics/\"\n",
        "except:\n",
        "  data = \"/Users/fionshiau/Library/CloudStorage/GoogleDrive-fioncshiau@gmail.com/My Drive/ComputationalGenomics\"\n"
      ],
      "metadata": {
        "id": "MYWEVoFZa69B",
        "outputId": "cf161140-e413-4d33-b0ae-50513e40555a",
        "colab": {
          "base_uri": "https://localhost:8080/"
        }
      },
      "execution_count": null,
      "outputs": [
        {
          "output_type": "stream",
          "name": "stdout",
          "text": [
            "Drive already mounted at /content/drive; to attempt to forcibly remount, call drive.mount(\"/content/drive\", force_remount=True).\n"
          ]
        }
      ]
    },
    {
      "cell_type": "code",
      "source": [],
      "metadata": {
        "id": "-YZza14pLGwG"
      },
      "execution_count": null,
      "outputs": []
    },
    {
      "cell_type": "code",
      "execution_count": null,
      "metadata": {
        "id": "sgLxuWMJBP3F"
      },
      "outputs": [],
      "source": [
        "%%capture\n",
        "!pip install pomegranate;\n",
        "!pip install watermark;"
      ]
    },
    {
      "cell_type": "code",
      "source": [
        "%matplotlib inline\n",
        "import matplotlib.pyplot as plt\n",
        "import seaborn as sns; sns.set_style('whitegrid')\n",
        "import numpy as np\n",
        "import pandas as pd\n",
        "import os\n",
        "import glob\n",
        "\n",
        "from pomegranate import *\n",
        "\n",
        "np.random.seed(0)\n",
        "np.set_printoptions(suppress=True)\n",
        "\n",
        "%load_ext watermark\n",
        "%watermark -m -n -p numpy,scipy,pomegranate"
      ],
      "metadata": {
        "id": "Fi9ZJxAYCK10",
        "colab": {
          "base_uri": "https://localhost:8080/",
          "height": 383
        },
        "outputId": "3e7631c3-0bb0-4a47-d98e-fbf8f415d64a"
      },
      "execution_count": null,
      "outputs": [
        {
          "output_type": "error",
          "ename": "ModuleNotFoundError",
          "evalue": "ignored",
          "traceback": [
            "\u001b[0;31m---------------------------------------------------------------------------\u001b[0m",
            "\u001b[0;31mModuleNotFoundError\u001b[0m                       Traceback (most recent call last)",
            "\u001b[0;32m<ipython-input-5-90186bbf9ffd>\u001b[0m in \u001b[0;36m<cell line: 9>\u001b[0;34m()\u001b[0m\n\u001b[1;32m      7\u001b[0m \u001b[0;32mimport\u001b[0m \u001b[0mglob\u001b[0m\u001b[0;34m\u001b[0m\u001b[0;34m\u001b[0m\u001b[0m\n\u001b[1;32m      8\u001b[0m \u001b[0;34m\u001b[0m\u001b[0m\n\u001b[0;32m----> 9\u001b[0;31m \u001b[0;32mfrom\u001b[0m \u001b[0mpomegranate\u001b[0m \u001b[0;32mimport\u001b[0m \u001b[0;34m*\u001b[0m\u001b[0;34m\u001b[0m\u001b[0;34m\u001b[0m\u001b[0m\n\u001b[0m\u001b[1;32m     10\u001b[0m \u001b[0;34m\u001b[0m\u001b[0m\n\u001b[1;32m     11\u001b[0m \u001b[0mnp\u001b[0m\u001b[0;34m.\u001b[0m\u001b[0mrandom\u001b[0m\u001b[0;34m.\u001b[0m\u001b[0mseed\u001b[0m\u001b[0;34m(\u001b[0m\u001b[0;36m0\u001b[0m\u001b[0;34m)\u001b[0m\u001b[0;34m\u001b[0m\u001b[0;34m\u001b[0m\u001b[0m\n",
            "\u001b[0;31mModuleNotFoundError\u001b[0m: No module named 'pomegranate'",
            "",
            "\u001b[0;31m---------------------------------------------------------------------------\u001b[0;32m\nNOTE: If your import is failing due to a missing package, you can\nmanually install dependencies using either !pip or !apt.\n\nTo view examples of installing some common dependencies, click the\n\"Open Examples\" button below.\n\u001b[0;31m---------------------------------------------------------------------------\u001b[0m\n"
          ],
          "errorDetails": {
            "actions": [
              {
                "action": "open_url",
                "actionText": "Open Examples",
                "url": "/notebooks/snippets/importing_libraries.ipynb"
              }
            ]
          }
        }
      ]
    },
    {
      "cell_type": "code",
      "source": [
        "assays = os.listdir(data)"
      ],
      "metadata": {
        "id": "ArTXVGCndKiQ"
      },
      "execution_count": null,
      "outputs": []
    },
    {
      "cell_type": "code",
      "source": [
        "obs = [pd.read_table(glob.glob(os.path.join(data,i,'*binary'))[0],header = None, \n",
        "                     names= ['chr','start','end',i]) for i in assays if i!= 'README']"
      ],
      "metadata": {
        "id": "qAvmGdUiD542"
      },
      "execution_count": null,
      "outputs": []
    },
    {
      "cell_type": "code",
      "source": [
        "for i in range(len(obs)):\n",
        "  obs[i].index = obs[i].loc[:,'chr'].values + '_' + obs[i].loc[:,'start'].values.astype(str) + '-' + obs[i].loc[:,'end'].values.astype(str)\n",
        "  "
      ],
      "metadata": {
        "id": "FaNPVmo1bKP3"
      },
      "execution_count": null,
      "outputs": []
    },
    {
      "cell_type": "code",
      "source": [
        "obs = pd.concat(obs,axis=1)"
      ],
      "metadata": {
        "id": "vQSRkvAPXwyD"
      },
      "execution_count": null,
      "outputs": []
    },
    {
      "cell_type": "code",
      "source": [
        "obs.columns"
      ],
      "metadata": {
        "colab": {
          "base_uri": "https://localhost:8080/"
        },
        "id": "6WXLdeBXlKs4",
        "outputId": "5ab98f0f-a2cb-4d0b-ba6c-a85ba0928716"
      },
      "execution_count": null,
      "outputs": [
        {
          "output_type": "execute_result",
          "data": {
            "text/plain": [
              "Index(['chr', 'start', 'end', 'H3K4me2', 'chr', 'start', 'end', 'H3K9Ac',\n",
              "       'chr', 'start', 'end', 'H3K4me3', 'chr', 'start', 'end', 'ATAC-seq',\n",
              "       'chr', 'start', 'end', 'H3K4me1', 'chr', 'start', 'end', 'H3K27Ac',\n",
              "       'chr', 'start', 'end', 'HiC', 'chr', 'start', 'end', 'H3K27me3', 'chr',\n",
              "       'start', 'end', 'RNA-Pol_ChIPseq'],\n",
              "      dtype='object')"
            ]
          },
          "metadata": {},
          "execution_count": 11
        }
      ]
    },
    {
      "cell_type": "code",
      "source": [
        "obs = obs.loc[:,~obs.columns.duplicated()].copy()\n"
      ],
      "metadata": {
        "id": "RA1FoaakcgFO"
      },
      "execution_count": null,
      "outputs": []
    },
    {
      "cell_type": "code",
      "source": [
        "obs"
      ],
      "metadata": {
        "colab": {
          "base_uri": "https://localhost:8080/",
          "height": 424
        },
        "id": "u3drzg3Vdq0o",
        "outputId": "2e053868-77fe-483a-a495-22bb1b8e2857"
      },
      "execution_count": null,
      "outputs": [
        {
          "output_type": "execute_result",
          "data": {
            "text/plain": [
              "                           chr     start       end  H3K4me2  H3K9Ac  H3K4me3   \n",
              "chr1_0-200                chr1         0       200        0       0        0  \\\n",
              "chr1_200-400              chr1       200       400        0       0        0   \n",
              "chr1_400-600              chr1       400       600        0       0        0   \n",
              "chr1_600-800              chr1       600       800        0       0        0   \n",
              "chr1_800-1000             chr1       800      1000        0       0        0   \n",
              "...                        ...       ...       ...      ...     ...      ...   \n",
              "chr22_51303600-51303800  chr22  51303600  51303800        0       0        0   \n",
              "chr22_51303800-51304000  chr22  51303800  51304000        0       0        0   \n",
              "chr22_51304000-51304200  chr22  51304000  51304200        0       0        0   \n",
              "chr22_51304200-51304400  chr22  51304200  51304400        0       0        0   \n",
              "chr22_51304400-51304566  chr22  51304400  51304566        0       0        0   \n",
              "\n",
              "                         ATAC-seq  H3K4me1  H3K27Ac  HiC  H3K27me3   \n",
              "chr1_0-200                      0        0        0    0         0  \\\n",
              "chr1_200-400                    0        0        0    0         0   \n",
              "chr1_400-600                    0        0        0    0         0   \n",
              "chr1_600-800                    0        0        0    0         0   \n",
              "chr1_800-1000                   0        0        0    0         0   \n",
              "...                           ...      ...      ...  ...       ...   \n",
              "chr22_51303600-51303800         0        0        0    0         0   \n",
              "chr22_51303800-51304000         0        0        0    0         0   \n",
              "chr22_51304000-51304200         0        0        0    0         0   \n",
              "chr22_51304200-51304400         0        0        0    0         0   \n",
              "chr22_51304400-51304566         0        0        0    0         0   \n",
              "\n",
              "                         RNA-Pol_ChIPseq  \n",
              "chr1_0-200                             0  \n",
              "chr1_200-400                           0  \n",
              "chr1_400-600                           0  \n",
              "chr1_600-800                           0  \n",
              "chr1_800-1000                          0  \n",
              "...                                  ...  \n",
              "chr22_51303600-51303800                0  \n",
              "chr22_51303800-51304000                0  \n",
              "chr22_51304000-51304200                0  \n",
              "chr22_51304200-51304400                0  \n",
              "chr22_51304400-51304566                0  \n",
              "\n",
              "[14405178 rows x 12 columns]"
            ],
            "text/html": [
              "<div>\n",
              "<style scoped>\n",
              "    .dataframe tbody tr th:only-of-type {\n",
              "        vertical-align: middle;\n",
              "    }\n",
              "\n",
              "    .dataframe tbody tr th {\n",
              "        vertical-align: top;\n",
              "    }\n",
              "\n",
              "    .dataframe thead th {\n",
              "        text-align: right;\n",
              "    }\n",
              "</style>\n",
              "<table border=\"1\" class=\"dataframe\">\n",
              "  <thead>\n",
              "    <tr style=\"text-align: right;\">\n",
              "      <th></th>\n",
              "      <th>chr</th>\n",
              "      <th>start</th>\n",
              "      <th>end</th>\n",
              "      <th>H3K4me2</th>\n",
              "      <th>H3K9Ac</th>\n",
              "      <th>H3K4me3</th>\n",
              "      <th>ATAC-seq</th>\n",
              "      <th>H3K4me1</th>\n",
              "      <th>H3K27Ac</th>\n",
              "      <th>HiC</th>\n",
              "      <th>H3K27me3</th>\n",
              "      <th>RNA-Pol_ChIPseq</th>\n",
              "    </tr>\n",
              "  </thead>\n",
              "  <tbody>\n",
              "    <tr>\n",
              "      <th>chr1_0-200</th>\n",
              "      <td>chr1</td>\n",
              "      <td>0</td>\n",
              "      <td>200</td>\n",
              "      <td>0</td>\n",
              "      <td>0</td>\n",
              "      <td>0</td>\n",
              "      <td>0</td>\n",
              "      <td>0</td>\n",
              "      <td>0</td>\n",
              "      <td>0</td>\n",
              "      <td>0</td>\n",
              "      <td>0</td>\n",
              "    </tr>\n",
              "    <tr>\n",
              "      <th>chr1_200-400</th>\n",
              "      <td>chr1</td>\n",
              "      <td>200</td>\n",
              "      <td>400</td>\n",
              "      <td>0</td>\n",
              "      <td>0</td>\n",
              "      <td>0</td>\n",
              "      <td>0</td>\n",
              "      <td>0</td>\n",
              "      <td>0</td>\n",
              "      <td>0</td>\n",
              "      <td>0</td>\n",
              "      <td>0</td>\n",
              "    </tr>\n",
              "    <tr>\n",
              "      <th>chr1_400-600</th>\n",
              "      <td>chr1</td>\n",
              "      <td>400</td>\n",
              "      <td>600</td>\n",
              "      <td>0</td>\n",
              "      <td>0</td>\n",
              "      <td>0</td>\n",
              "      <td>0</td>\n",
              "      <td>0</td>\n",
              "      <td>0</td>\n",
              "      <td>0</td>\n",
              "      <td>0</td>\n",
              "      <td>0</td>\n",
              "    </tr>\n",
              "    <tr>\n",
              "      <th>chr1_600-800</th>\n",
              "      <td>chr1</td>\n",
              "      <td>600</td>\n",
              "      <td>800</td>\n",
              "      <td>0</td>\n",
              "      <td>0</td>\n",
              "      <td>0</td>\n",
              "      <td>0</td>\n",
              "      <td>0</td>\n",
              "      <td>0</td>\n",
              "      <td>0</td>\n",
              "      <td>0</td>\n",
              "      <td>0</td>\n",
              "    </tr>\n",
              "    <tr>\n",
              "      <th>chr1_800-1000</th>\n",
              "      <td>chr1</td>\n",
              "      <td>800</td>\n",
              "      <td>1000</td>\n",
              "      <td>0</td>\n",
              "      <td>0</td>\n",
              "      <td>0</td>\n",
              "      <td>0</td>\n",
              "      <td>0</td>\n",
              "      <td>0</td>\n",
              "      <td>0</td>\n",
              "      <td>0</td>\n",
              "      <td>0</td>\n",
              "    </tr>\n",
              "    <tr>\n",
              "      <th>...</th>\n",
              "      <td>...</td>\n",
              "      <td>...</td>\n",
              "      <td>...</td>\n",
              "      <td>...</td>\n",
              "      <td>...</td>\n",
              "      <td>...</td>\n",
              "      <td>...</td>\n",
              "      <td>...</td>\n",
              "      <td>...</td>\n",
              "      <td>...</td>\n",
              "      <td>...</td>\n",
              "      <td>...</td>\n",
              "    </tr>\n",
              "    <tr>\n",
              "      <th>chr22_51303600-51303800</th>\n",
              "      <td>chr22</td>\n",
              "      <td>51303600</td>\n",
              "      <td>51303800</td>\n",
              "      <td>0</td>\n",
              "      <td>0</td>\n",
              "      <td>0</td>\n",
              "      <td>0</td>\n",
              "      <td>0</td>\n",
              "      <td>0</td>\n",
              "      <td>0</td>\n",
              "      <td>0</td>\n",
              "      <td>0</td>\n",
              "    </tr>\n",
              "    <tr>\n",
              "      <th>chr22_51303800-51304000</th>\n",
              "      <td>chr22</td>\n",
              "      <td>51303800</td>\n",
              "      <td>51304000</td>\n",
              "      <td>0</td>\n",
              "      <td>0</td>\n",
              "      <td>0</td>\n",
              "      <td>0</td>\n",
              "      <td>0</td>\n",
              "      <td>0</td>\n",
              "      <td>0</td>\n",
              "      <td>0</td>\n",
              "      <td>0</td>\n",
              "    </tr>\n",
              "    <tr>\n",
              "      <th>chr22_51304000-51304200</th>\n",
              "      <td>chr22</td>\n",
              "      <td>51304000</td>\n",
              "      <td>51304200</td>\n",
              "      <td>0</td>\n",
              "      <td>0</td>\n",
              "      <td>0</td>\n",
              "      <td>0</td>\n",
              "      <td>0</td>\n",
              "      <td>0</td>\n",
              "      <td>0</td>\n",
              "      <td>0</td>\n",
              "      <td>0</td>\n",
              "    </tr>\n",
              "    <tr>\n",
              "      <th>chr22_51304200-51304400</th>\n",
              "      <td>chr22</td>\n",
              "      <td>51304200</td>\n",
              "      <td>51304400</td>\n",
              "      <td>0</td>\n",
              "      <td>0</td>\n",
              "      <td>0</td>\n",
              "      <td>0</td>\n",
              "      <td>0</td>\n",
              "      <td>0</td>\n",
              "      <td>0</td>\n",
              "      <td>0</td>\n",
              "      <td>0</td>\n",
              "    </tr>\n",
              "    <tr>\n",
              "      <th>chr22_51304400-51304566</th>\n",
              "      <td>chr22</td>\n",
              "      <td>51304400</td>\n",
              "      <td>51304566</td>\n",
              "      <td>0</td>\n",
              "      <td>0</td>\n",
              "      <td>0</td>\n",
              "      <td>0</td>\n",
              "      <td>0</td>\n",
              "      <td>0</td>\n",
              "      <td>0</td>\n",
              "      <td>0</td>\n",
              "      <td>0</td>\n",
              "    </tr>\n",
              "  </tbody>\n",
              "</table>\n",
              "<p>14405178 rows × 12 columns</p>\n",
              "</div>"
            ]
          },
          "metadata": {},
          "execution_count": 13
        }
      ]
    },
    {
      "cell_type": "code",
      "source": [
        "os.path"
      ],
      "metadata": {
        "id": "dJO0LO9Ithvx",
        "colab": {
          "base_uri": "https://localhost:8080/"
        },
        "outputId": "00f3bd31-6dba-4ac4-bd2c-d0e49ac46716"
      },
      "execution_count": null,
      "outputs": [
        {
          "output_type": "execute_result",
          "data": {
            "text/plain": [
              "<module 'posixpath' from '/Users/fionshiau/opt/miniconda3/envs/hmm/lib/python3.10/posixpath.py'>"
            ]
          },
          "metadata": {},
          "execution_count": 14
        }
      ]
    },
    {
      "cell_type": "code",
      "source": [
        "obs.iloc[0:5,:]"
      ],
      "metadata": {
        "colab": {
          "base_uri": "https://localhost:8080/",
          "height": 206
        },
        "id": "fXFM830ftxPv",
        "outputId": "a7f47b57-a33a-4dbd-87f4-d0f7b2479321"
      },
      "execution_count": null,
      "outputs": [
        {
          "output_type": "execute_result",
          "data": {
            "text/plain": [
              "                chr  start   end  H3K4me2  H3K9Ac  H3K4me3  ATAC-seq  H3K4me1   \n",
              "chr1_0-200     chr1      0   200        0       0        0         0        0  \\\n",
              "chr1_200-400   chr1    200   400        0       0        0         0        0   \n",
              "chr1_400-600   chr1    400   600        0       0        0         0        0   \n",
              "chr1_600-800   chr1    600   800        0       0        0         0        0   \n",
              "chr1_800-1000  chr1    800  1000        0       0        0         0        0   \n",
              "\n",
              "               H3K27Ac  HiC  H3K27me3  RNA-Pol_ChIPseq  \n",
              "chr1_0-200           0    0         0                0  \n",
              "chr1_200-400         0    0         0                0  \n",
              "chr1_400-600         0    0         0                0  \n",
              "chr1_600-800         0    0         0                0  \n",
              "chr1_800-1000        0    0         0                0  "
            ],
            "text/html": [
              "<div>\n",
              "<style scoped>\n",
              "    .dataframe tbody tr th:only-of-type {\n",
              "        vertical-align: middle;\n",
              "    }\n",
              "\n",
              "    .dataframe tbody tr th {\n",
              "        vertical-align: top;\n",
              "    }\n",
              "\n",
              "    .dataframe thead th {\n",
              "        text-align: right;\n",
              "    }\n",
              "</style>\n",
              "<table border=\"1\" class=\"dataframe\">\n",
              "  <thead>\n",
              "    <tr style=\"text-align: right;\">\n",
              "      <th></th>\n",
              "      <th>chr</th>\n",
              "      <th>start</th>\n",
              "      <th>end</th>\n",
              "      <th>H3K4me2</th>\n",
              "      <th>H3K9Ac</th>\n",
              "      <th>H3K4me3</th>\n",
              "      <th>ATAC-seq</th>\n",
              "      <th>H3K4me1</th>\n",
              "      <th>H3K27Ac</th>\n",
              "      <th>HiC</th>\n",
              "      <th>H3K27me3</th>\n",
              "      <th>RNA-Pol_ChIPseq</th>\n",
              "    </tr>\n",
              "  </thead>\n",
              "  <tbody>\n",
              "    <tr>\n",
              "      <th>chr1_0-200</th>\n",
              "      <td>chr1</td>\n",
              "      <td>0</td>\n",
              "      <td>200</td>\n",
              "      <td>0</td>\n",
              "      <td>0</td>\n",
              "      <td>0</td>\n",
              "      <td>0</td>\n",
              "      <td>0</td>\n",
              "      <td>0</td>\n",
              "      <td>0</td>\n",
              "      <td>0</td>\n",
              "      <td>0</td>\n",
              "    </tr>\n",
              "    <tr>\n",
              "      <th>chr1_200-400</th>\n",
              "      <td>chr1</td>\n",
              "      <td>200</td>\n",
              "      <td>400</td>\n",
              "      <td>0</td>\n",
              "      <td>0</td>\n",
              "      <td>0</td>\n",
              "      <td>0</td>\n",
              "      <td>0</td>\n",
              "      <td>0</td>\n",
              "      <td>0</td>\n",
              "      <td>0</td>\n",
              "      <td>0</td>\n",
              "    </tr>\n",
              "    <tr>\n",
              "      <th>chr1_400-600</th>\n",
              "      <td>chr1</td>\n",
              "      <td>400</td>\n",
              "      <td>600</td>\n",
              "      <td>0</td>\n",
              "      <td>0</td>\n",
              "      <td>0</td>\n",
              "      <td>0</td>\n",
              "      <td>0</td>\n",
              "      <td>0</td>\n",
              "      <td>0</td>\n",
              "      <td>0</td>\n",
              "      <td>0</td>\n",
              "    </tr>\n",
              "    <tr>\n",
              "      <th>chr1_600-800</th>\n",
              "      <td>chr1</td>\n",
              "      <td>600</td>\n",
              "      <td>800</td>\n",
              "      <td>0</td>\n",
              "      <td>0</td>\n",
              "      <td>0</td>\n",
              "      <td>0</td>\n",
              "      <td>0</td>\n",
              "      <td>0</td>\n",
              "      <td>0</td>\n",
              "      <td>0</td>\n",
              "      <td>0</td>\n",
              "    </tr>\n",
              "    <tr>\n",
              "      <th>chr1_800-1000</th>\n",
              "      <td>chr1</td>\n",
              "      <td>800</td>\n",
              "      <td>1000</td>\n",
              "      <td>0</td>\n",
              "      <td>0</td>\n",
              "      <td>0</td>\n",
              "      <td>0</td>\n",
              "      <td>0</td>\n",
              "      <td>0</td>\n",
              "      <td>0</td>\n",
              "      <td>0</td>\n",
              "      <td>0</td>\n",
              "    </tr>\n",
              "  </tbody>\n",
              "</table>\n",
              "</div>"
            ]
          },
          "metadata": {},
          "execution_count": 16
        }
      ]
    },
    {
      "cell_type": "code",
      "source": [
        "os.makedirs(os.path.join(\"/Users/fionshiau/comp_geno\",'merged'),exist_ok=True)"
      ],
      "metadata": {
        "id": "5MPtjopZuhBY"
      },
      "execution_count": null,
      "outputs": []
    },
    {
      "cell_type": "code",
      "source": [
        "local_path = \"/Users/fionshiau/comp_geno\"\n",
        "obs.to_csv(os.path.join(local_path,'merged','merged_1.csv'))"
      ],
      "metadata": {
        "id": "ZUq1xjhDqVgC"
      },
      "execution_count": null,
      "outputs": []
    },
    {
      "cell_type": "code",
      "source": [
        "chr1 = obs.loc[obs.chr=='chr1',:]"
      ],
      "metadata": {
        "id": "9CYzVGa_u6hq"
      },
      "execution_count": null,
      "outputs": []
    },
    {
      "cell_type": "code",
      "source": [
        "model = HiddenMarkovModel.from_samples(IndependentComponentsDistribution, n_components=20, X=chr1.iloc[:, 3:].to_numpy())"
      ],
      "metadata": {
        "colab": {
          "base_uri": "https://localhost:8080/",
          "height": 419
        },
        "id": "tTsi-XMnKErh",
        "outputId": "fd7831e2-f86d-43bc-91ca-1ed9d24a02ee"
      },
      "execution_count": null,
      "outputs": [
        {
          "output_type": "stream",
          "name": "stderr",
          "text": [
            "/var/folders/zb/k8zh8whx36g93snxwz8xsqq00000gn/T/ipykernel_60390/3465380637.py:1: RuntimeWarning: invalid value encountered in divide\n",
            "  model = HiddenMarkovModel.from_samples(IndependentComponentsDistribution, n_components=20, X=chr1.iloc[:, 3:].to_numpy())\n"
          ]
        },
        {
          "output_type": "error",
          "ename": "ValueError",
          "evalue": "ignored",
          "traceback": [
            "\u001b[0;31m---------------------------------------------------------------------------\u001b[0m",
            "\u001b[0;31mValueError\u001b[0m                                Traceback (most recent call last)",
            "Cell \u001b[0;32mIn[25], line 1\u001b[0m\n\u001b[0;32m----> 1\u001b[0m model \u001b[38;5;241m=\u001b[39m \u001b[43mHiddenMarkovModel\u001b[49m\u001b[38;5;241;43m.\u001b[39;49m\u001b[43mfrom_samples\u001b[49m\u001b[43m(\u001b[49m\u001b[43mIndependentComponentsDistribution\u001b[49m\u001b[43m,\u001b[49m\u001b[43m \u001b[49m\u001b[43mn_components\u001b[49m\u001b[38;5;241;43m=\u001b[39;49m\u001b[38;5;241;43m20\u001b[39;49m\u001b[43m,\u001b[49m\u001b[43m \u001b[49m\u001b[43mX\u001b[49m\u001b[38;5;241;43m=\u001b[39;49m\u001b[43mchr1\u001b[49m\u001b[38;5;241;43m.\u001b[39;49m\u001b[43miloc\u001b[49m\u001b[43m[\u001b[49m\u001b[43m:\u001b[49m\u001b[43m,\u001b[49m\u001b[43m \u001b[49m\u001b[38;5;241;43m3\u001b[39;49m\u001b[43m:\u001b[49m\u001b[43m]\u001b[49m\u001b[38;5;241;43m.\u001b[39;49m\u001b[43mto_numpy\u001b[49m\u001b[43m(\u001b[49m\u001b[43m)\u001b[49m\u001b[43m)\u001b[49m\n",
            "File \u001b[0;32m~/opt/miniconda3/envs/hmm/lib/python3.10/site-packages/pomegranate/hmm.pyx:3711\u001b[0m, in \u001b[0;36mpomegranate.hmm.HiddenMarkovModel.from_samples\u001b[0;34m()\u001b[0m\n",
            "File \u001b[0;32m~/opt/miniconda3/envs/hmm/lib/python3.10/site-packages/pomegranate/kmeans.pyx:447\u001b[0m, in \u001b[0;36mpomegranate.kmeans.Kmeans.fit\u001b[0;34m()\u001b[0m\n",
            "File \u001b[0;32m~/opt/miniconda3/envs/hmm/lib/python3.10/site-packages/pomegranate/kmeans.pyx:458\u001b[0m, in \u001b[0;36mpomegranate.kmeans.Kmeans.fit\u001b[0;34m()\u001b[0m\n",
            "File \u001b[0;32m~/opt/miniconda3/envs/hmm/lib/python3.10/site-packages/pomegranate/kmeans.pyx:40\u001b[0m, in \u001b[0;36mpomegranate.kmeans._initialize_centroids\u001b[0;34m()\u001b[0m\n",
            "File \u001b[0;32m~/opt/miniconda3/envs/hmm/lib/python3.10/site-packages/pomegranate/kmeans.pyx:132\u001b[0m, in \u001b[0;36mpomegranate.kmeans._initialize_centroids\u001b[0;34m()\u001b[0m\n",
            "File \u001b[0;32mmtrand.pyx:954\u001b[0m, in \u001b[0;36mnumpy.random.mtrand.RandomState.choice\u001b[0;34m()\u001b[0m\n",
            "\u001b[0;31mValueError\u001b[0m: probabilities contain NaN"
          ]
        }
      ]
    },
    {
      "cell_type": "code",
      "source": [
        "dist = MultivariateGaussianDistribution.from_samples(obs.iloc[:, 3:].to_numpy())\n"
      ],
      "metadata": {
        "id": "AgHV6xFYIht5"
      },
      "execution_count": null,
      "outputs": []
    },
    {
      "cell_type": "code",
      "source": [
        "dist"
      ],
      "metadata": {
        "colab": {
          "base_uri": "https://localhost:8080/"
        },
        "id": "c8K1TtJUtMnk",
        "outputId": "6a976b12-7bf9-491f-fe4d-2d4a3255a188"
      },
      "execution_count": null,
      "outputs": [
        {
          "output_type": "execute_result",
          "data": {
            "text/plain": [
              "{\n",
              "    \"class\" : \"Distribution\",\n",
              "    \"name\" : \"MultivariateGaussianDistribution\",\n",
              "    \"parameters\" : [\n",
              "        [\n",
              "            0.12134942032649648,\n",
              "            0.12134935090701413,\n",
              "            0.12137024617120316,\n",
              "            0.12140370636169855,\n",
              "            0.12137788231426228,\n",
              "            0.12140453939548682,\n",
              "            0.12139523718485117,\n",
              "            0.12139607021863943,\n",
              "            0.12137024617120316\n",
              "        ],\n",
              "        [\n",
              "            [\n",
              "                0.10662373851291976,\n",
              "                0.10128705481136609,\n",
              "                0.09666722115325244,\n",
              "                0.09392595058925125,\n",
              "                0.09231174922251781,\n",
              "                0.09116767462813201,\n",
              "                0.090252327439942,\n",
              "                0.08947084065838028,\n",
              "                0.08879137262156474\n",
              "            ],\n",
              "            [\n",
              "                0.10128705481136609,\n",
              "                0.10662368594146047,\n",
              "                0.10132902549681877,\n",
              "                0.09670398786193933,\n",
              "                0.0939068785140741,\n",
              "                0.09232441989046333,\n",
              "                0.0911994952843961,\n",
              "                0.09026910371323946,\n",
              "                0.08947106719876789\n",
              "            ],\n",
              "            [\n",
              "                0.09666722115325244,\n",
              "                0.10132902549681877,\n",
              "                0.1066395095155447,\n",
              "                0.10134915486260987,\n",
              "                0.09666800130321447,\n",
              "                0.09391526848904656,\n",
              "                0.09234293551356976,\n",
              "                0.09119574688161017,\n",
              "                0.09026977080075756\n",
              "            ],\n",
              "            [\n",
              "                0.09392595058925125,\n",
              "                0.09670398786193933,\n",
              "                0.10134915486260987,\n",
              "                0.10666484644334104,\n",
              "                0.10132087653049208,\n",
              "                0.09669180363578415,\n",
              "                0.09392330387109209,\n",
              "                0.09233911956983068,\n",
              "                0.09119315401347076\n",
              "            ],\n",
              "            [\n",
              "                0.09231174922251781,\n",
              "                0.0939068785140741,\n",
              "                0.09666800130321447,\n",
              "                0.10132087653049208,\n",
              "                0.10664529199916738,\n",
              "                0.1013391715814392,\n",
              "                0.09668995896054901,\n",
              "                0.09392314437939021,\n",
              "                0.09234046019264992\n",
              "            ],\n",
              "            [\n",
              "                0.09116767462813201,\n",
              "                0.09232441989046333,\n",
              "                0.09391526848904656,\n",
              "                0.09669180363578415,\n",
              "                0.1013391715814392,\n",
              "                0.10666547720965651,\n",
              "                0.10135691859332278,\n",
              "                0.09668460861877941,\n",
              "                0.09393776040132977\n",
              "            ],\n",
              "            [\n",
              "                0.090252327439942,\n",
              "                0.0911994952843961,\n",
              "                0.09234293551356976,\n",
              "                0.09392330387109209,\n",
              "                0.09668995896054901,\n",
              "                0.10135691859332278,\n",
              "                0.1066584335736849,\n",
              "                0.10131386533975914,\n",
              "                0.09667852928408754\n",
              "            ],\n",
              "            [\n",
              "                0.08947084065838028,\n",
              "                0.09026910371323946,\n",
              "                0.09119574688161017,\n",
              "                0.09233911956983068,\n",
              "                0.09392314437939021,\n",
              "                0.09668460861877941,\n",
              "                0.10131386533975914,\n",
              "                0.1066590643541106,\n",
              "                0.101364382076538\n",
              "            ],\n",
              "            [\n",
              "                0.08879137262156474,\n",
              "                0.08947106719876789,\n",
              "                0.09026977080075756,\n",
              "                0.09119315401347076,\n",
              "                0.09234046019264992,\n",
              "                0.09393776040132977,\n",
              "                0.09667852928408754,\n",
              "                0.101364382076538,\n",
              "                0.1066395095155447\n",
              "            ]\n",
              "        ]\n",
              "    ],\n",
              "    \"frozen\" : false\n",
              "}"
            ]
          },
          "metadata": {},
          "execution_count": 54
        }
      ]
    },
    {
      "cell_type": "code",
      "source": [
        "#https://github.com/keoughkath/LAD_atlas/blob/main/HMM_QC.ipynb as a reference to use bedgraph files in pomegranate \n",
        "\n",
        "states_dict = {\n",
        "        2:['nonLAD','LAD'],\n",
        "        3:['nonLAD','T2-LAD','T1-LAD'],\n",
        "        4:['nonLAD','T3-LAD','T2-LAD','T1-LAD'],\n",
        "        5:['nonLAD','T4-LAD','T3-LAD','T2-LAD','T1-LAD']\n",
        "    }"
      ],
      "metadata": {
        "id": "thhGRGVhPUYc",
        "colab": {
          "base_uri": "https://localhost:8080/"
        },
        "outputId": "a74f72cd-cf19-4f34-c5a3-4e5d6f686403"
      },
      "execution_count": null,
      "outputs": [
        {
          "output_type": "execute_result",
          "data": {
            "text/plain": [
              "['nonLAD', 'LAD']"
            ]
          },
          "metadata": {},
          "execution_count": 4
        }
      ]
    }
  ]
}