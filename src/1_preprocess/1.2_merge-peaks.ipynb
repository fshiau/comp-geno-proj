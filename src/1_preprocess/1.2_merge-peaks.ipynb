{
 "cells": [
  {
   "cell_type": "code",
   "execution_count": 307,
   "id": "2148d210-b946-4161-8e75-28570a0166f8",
   "metadata": {
    "colab": {
     "base_uri": "https://localhost:8080/"
    },
    "id": "MYWEVoFZa69B",
    "outputId": "cf161140-e413-4d33-b0ae-50513e40555a"
   },
   "outputs": [],
   "source": [
    "try:\n",
    "  from google.colab import drive\n",
    "  drive.mount('/content/drive')\n",
    "  data = \"/content/drive/MyDrive/ComputationalGenomics/\"\n",
    "except:\n",
    "  data = \"/Users/fionshiau/Library/CloudStorage/GoogleDrive-fioncshiau@gmail.com/My Drive/ComputationalGenomics\"\n"
   ]
  },
  {
   "cell_type": "code",
   "execution_count": 2,
   "id": "a0e9cec8-a9a6-4b23-a408-184d9b106171",
   "metadata": {
    "id": "sgLxuWMJBP3F"
   },
   "outputs": [],
   "source": [
    "%%capture\n",
    "!pip install pomegranate;\n",
    "!pip install watermark;"
   ]
  },
  {
   "cell_type": "code",
   "execution_count": 288,
   "id": "a6d55f4e-5fff-466e-8b30-9401424b16c8",
   "metadata": {
    "colab": {
     "base_uri": "https://localhost:8080/",
     "height": 383
    },
    "id": "Fi9ZJxAYCK10",
    "outputId": "3e7631c3-0bb0-4a47-d98e-fbf8f415d64a"
   },
   "outputs": [
    {
     "name": "stdout",
     "output_type": "stream",
     "text": [
      "The watermark extension is already loaded. To reload it, use:\n",
      "  %reload_ext watermark\n",
      "numpy      : 1.24.2\n",
      "scipy      : 1.10.1\n",
      "pomegranate: 0.14.8\n",
      "\n",
      "Compiler    : Clang 14.0.6 \n",
      "OS          : Darwin\n",
      "Release     : 21.6.0\n",
      "Machine     : x86_64\n",
      "Processor   : i386\n",
      "CPU cores   : 8\n",
      "Architecture: 64bit\n",
      "\n"
     ]
    }
   ],
   "source": [
    "%matplotlib inline\n",
    "import matplotlib.pyplot as plt\n",
    "import seaborn as sns; sns.set_style('whitegrid')\n",
    "import numpy as np\n",
    "import pandas as pd\n",
    "import os\n",
    "import glob\n",
    "from hmmlearn.hmm import MultinomialHMM\n",
    "\n",
    "from pomegranate import *\n",
    "\n",
    "np.random.seed(0)\n",
    "np.set_printoptions(suppress=True)\n",
    "\n",
    "%load_ext watermark\n",
    "%watermark -m -n -p numpy,scipy,pomegranate"
   ]
  },
  {
   "cell_type": "code",
   "execution_count": null,
   "id": "72a398e3-ea9b-4538-90c0-fe6290900d8c",
   "metadata": {
    "id": "ArTXVGCndKiQ"
   },
   "outputs": [],
   "source": [
    "assays = os.listdir(data)"
   ]
  },
  {
   "cell_type": "code",
   "execution_count": null,
   "id": "18f5e674-80b7-4ef3-b711-e950861ed097",
   "metadata": {
    "id": "qAvmGdUiD542"
   },
   "outputs": [],
   "source": [
    "obs = [pd.read_table(glob.glob(os.path.join(data,i,'*binary'))[0],header = None, \n",
    "                     names= ['chr','start','end',i]) for i in assays if i!= 'README']"
   ]
  },
  {
   "cell_type": "code",
   "execution_count": null,
   "id": "b8fbda8e-ab7b-4d91-9ec1-d56e2faeff35",
   "metadata": {
    "id": "FaNPVmo1bKP3"
   },
   "outputs": [],
   "source": [
    "for i in range(len(obs)):\n",
    "  obs[i].index = obs[i].loc[:,'chr'].values + '_' + obs[i].loc[:,'start'].values.astype(str) + '-' + obs[i].loc[:,'end'].values.astype(str)\n",
    "  "
   ]
  },
  {
   "cell_type": "code",
   "execution_count": null,
   "id": "51ad0506-272e-4eeb-b973-9053dce003eb",
   "metadata": {
    "id": "vQSRkvAPXwyD"
   },
   "outputs": [],
   "source": [
    "obs = pd.concat(obs,axis=1)"
   ]
  },
  {
   "cell_type": "code",
   "execution_count": null,
   "id": "60b46356-9ba5-40f7-9f63-c98381f34836",
   "metadata": {
    "colab": {
     "base_uri": "https://localhost:8080/"
    },
    "id": "6WXLdeBXlKs4",
    "outputId": "5ab98f0f-a2cb-4d0b-ba6c-a85ba0928716"
   },
   "outputs": [
    {
     "data": {
      "text/plain": [
       "Index(['chr', 'start', 'end', 'H3K4me2', 'chr', 'start', 'end', 'H3K9Ac',\n",
       "       'chr', 'start', 'end', 'H3K4me3', 'chr', 'start', 'end', 'ATAC-seq',\n",
       "       'chr', 'start', 'end', 'H3K4me1', 'chr', 'start', 'end', 'H3K27Ac',\n",
       "       'chr', 'start', 'end', 'HiC', 'chr', 'start', 'end', 'H3K27me3', 'chr',\n",
       "       'start', 'end', 'RNA-Pol_ChIPseq'],\n",
       "      dtype='object')"
      ]
     },
     "execution_count": 11,
     "metadata": {},
     "output_type": "execute_result"
    }
   ],
   "source": [
    "obs.columns"
   ]
  },
  {
   "cell_type": "code",
   "execution_count": null,
   "id": "b75456fd-10aa-4c88-b7b3-fa45f5eb5b3b",
   "metadata": {
    "id": "RA1FoaakcgFO"
   },
   "outputs": [],
   "source": [
    "obs = obs.loc[:,~obs.columns.duplicated()].copy()\n"
   ]
  },
  {
   "cell_type": "code",
   "execution_count": null,
   "id": "d15e1aa3-ad1b-4f6b-ae25-ba4195c13afd",
   "metadata": {
    "colab": {
     "base_uri": "https://localhost:8080/",
     "height": 424
    },
    "id": "u3drzg3Vdq0o",
    "outputId": "2e053868-77fe-483a-a495-22bb1b8e2857"
   },
   "outputs": [
    {
     "data": {
      "text/html": [
       "<div>\n",
       "<style scoped>\n",
       "    .dataframe tbody tr th:only-of-type {\n",
       "        vertical-align: middle;\n",
       "    }\n",
       "\n",
       "    .dataframe tbody tr th {\n",
       "        vertical-align: top;\n",
       "    }\n",
       "\n",
       "    .dataframe thead th {\n",
       "        text-align: right;\n",
       "    }\n",
       "</style>\n",
       "<table border=\"1\" class=\"dataframe\">\n",
       "  <thead>\n",
       "    <tr style=\"text-align: right;\">\n",
       "      <th></th>\n",
       "      <th>chr</th>\n",
       "      <th>start</th>\n",
       "      <th>end</th>\n",
       "      <th>H3K4me2</th>\n",
       "      <th>H3K9Ac</th>\n",
       "      <th>H3K4me3</th>\n",
       "      <th>ATAC-seq</th>\n",
       "      <th>H3K4me1</th>\n",
       "      <th>H3K27Ac</th>\n",
       "      <th>HiC</th>\n",
       "      <th>H3K27me3</th>\n",
       "      <th>RNA-Pol_ChIPseq</th>\n",
       "    </tr>\n",
       "  </thead>\n",
       "  <tbody>\n",
       "    <tr>\n",
       "      <th>chr1_0-200</th>\n",
       "      <td>chr1</td>\n",
       "      <td>0</td>\n",
       "      <td>200</td>\n",
       "      <td>0</td>\n",
       "      <td>0</td>\n",
       "      <td>0</td>\n",
       "      <td>0</td>\n",
       "      <td>0</td>\n",
       "      <td>0</td>\n",
       "      <td>0</td>\n",
       "      <td>0</td>\n",
       "      <td>0</td>\n",
       "    </tr>\n",
       "    <tr>\n",
       "      <th>chr1_200-400</th>\n",
       "      <td>chr1</td>\n",
       "      <td>200</td>\n",
       "      <td>400</td>\n",
       "      <td>0</td>\n",
       "      <td>0</td>\n",
       "      <td>0</td>\n",
       "      <td>0</td>\n",
       "      <td>0</td>\n",
       "      <td>0</td>\n",
       "      <td>0</td>\n",
       "      <td>0</td>\n",
       "      <td>0</td>\n",
       "    </tr>\n",
       "    <tr>\n",
       "      <th>chr1_400-600</th>\n",
       "      <td>chr1</td>\n",
       "      <td>400</td>\n",
       "      <td>600</td>\n",
       "      <td>0</td>\n",
       "      <td>0</td>\n",
       "      <td>0</td>\n",
       "      <td>0</td>\n",
       "      <td>0</td>\n",
       "      <td>0</td>\n",
       "      <td>0</td>\n",
       "      <td>0</td>\n",
       "      <td>0</td>\n",
       "    </tr>\n",
       "    <tr>\n",
       "      <th>chr1_600-800</th>\n",
       "      <td>chr1</td>\n",
       "      <td>600</td>\n",
       "      <td>800</td>\n",
       "      <td>0</td>\n",
       "      <td>0</td>\n",
       "      <td>0</td>\n",
       "      <td>0</td>\n",
       "      <td>0</td>\n",
       "      <td>0</td>\n",
       "      <td>0</td>\n",
       "      <td>0</td>\n",
       "      <td>0</td>\n",
       "    </tr>\n",
       "    <tr>\n",
       "      <th>chr1_800-1000</th>\n",
       "      <td>chr1</td>\n",
       "      <td>800</td>\n",
       "      <td>1000</td>\n",
       "      <td>0</td>\n",
       "      <td>0</td>\n",
       "      <td>0</td>\n",
       "      <td>0</td>\n",
       "      <td>0</td>\n",
       "      <td>0</td>\n",
       "      <td>0</td>\n",
       "      <td>0</td>\n",
       "      <td>0</td>\n",
       "    </tr>\n",
       "    <tr>\n",
       "      <th>...</th>\n",
       "      <td>...</td>\n",
       "      <td>...</td>\n",
       "      <td>...</td>\n",
       "      <td>...</td>\n",
       "      <td>...</td>\n",
       "      <td>...</td>\n",
       "      <td>...</td>\n",
       "      <td>...</td>\n",
       "      <td>...</td>\n",
       "      <td>...</td>\n",
       "      <td>...</td>\n",
       "      <td>...</td>\n",
       "    </tr>\n",
       "    <tr>\n",
       "      <th>chr22_51303600-51303800</th>\n",
       "      <td>chr22</td>\n",
       "      <td>51303600</td>\n",
       "      <td>51303800</td>\n",
       "      <td>0</td>\n",
       "      <td>0</td>\n",
       "      <td>0</td>\n",
       "      <td>0</td>\n",
       "      <td>0</td>\n",
       "      <td>0</td>\n",
       "      <td>0</td>\n",
       "      <td>0</td>\n",
       "      <td>0</td>\n",
       "    </tr>\n",
       "    <tr>\n",
       "      <th>chr22_51303800-51304000</th>\n",
       "      <td>chr22</td>\n",
       "      <td>51303800</td>\n",
       "      <td>51304000</td>\n",
       "      <td>0</td>\n",
       "      <td>0</td>\n",
       "      <td>0</td>\n",
       "      <td>0</td>\n",
       "      <td>0</td>\n",
       "      <td>0</td>\n",
       "      <td>0</td>\n",
       "      <td>0</td>\n",
       "      <td>0</td>\n",
       "    </tr>\n",
       "    <tr>\n",
       "      <th>chr22_51304000-51304200</th>\n",
       "      <td>chr22</td>\n",
       "      <td>51304000</td>\n",
       "      <td>51304200</td>\n",
       "      <td>0</td>\n",
       "      <td>0</td>\n",
       "      <td>0</td>\n",
       "      <td>0</td>\n",
       "      <td>0</td>\n",
       "      <td>0</td>\n",
       "      <td>0</td>\n",
       "      <td>0</td>\n",
       "      <td>0</td>\n",
       "    </tr>\n",
       "    <tr>\n",
       "      <th>chr22_51304200-51304400</th>\n",
       "      <td>chr22</td>\n",
       "      <td>51304200</td>\n",
       "      <td>51304400</td>\n",
       "      <td>0</td>\n",
       "      <td>0</td>\n",
       "      <td>0</td>\n",
       "      <td>0</td>\n",
       "      <td>0</td>\n",
       "      <td>0</td>\n",
       "      <td>0</td>\n",
       "      <td>0</td>\n",
       "      <td>0</td>\n",
       "    </tr>\n",
       "    <tr>\n",
       "      <th>chr22_51304400-51304566</th>\n",
       "      <td>chr22</td>\n",
       "      <td>51304400</td>\n",
       "      <td>51304566</td>\n",
       "      <td>0</td>\n",
       "      <td>0</td>\n",
       "      <td>0</td>\n",
       "      <td>0</td>\n",
       "      <td>0</td>\n",
       "      <td>0</td>\n",
       "      <td>0</td>\n",
       "      <td>0</td>\n",
       "      <td>0</td>\n",
       "    </tr>\n",
       "  </tbody>\n",
       "</table>\n",
       "<p>14405178 rows × 12 columns</p>\n",
       "</div>"
      ],
      "text/plain": [
       "                           chr     start       end  H3K4me2  H3K9Ac  H3K4me3   \n",
       "chr1_0-200                chr1         0       200        0       0        0  \\\n",
       "chr1_200-400              chr1       200       400        0       0        0   \n",
       "chr1_400-600              chr1       400       600        0       0        0   \n",
       "chr1_600-800              chr1       600       800        0       0        0   \n",
       "chr1_800-1000             chr1       800      1000        0       0        0   \n",
       "...                        ...       ...       ...      ...     ...      ...   \n",
       "chr22_51303600-51303800  chr22  51303600  51303800        0       0        0   \n",
       "chr22_51303800-51304000  chr22  51303800  51304000        0       0        0   \n",
       "chr22_51304000-51304200  chr22  51304000  51304200        0       0        0   \n",
       "chr22_51304200-51304400  chr22  51304200  51304400        0       0        0   \n",
       "chr22_51304400-51304566  chr22  51304400  51304566        0       0        0   \n",
       "\n",
       "                         ATAC-seq  H3K4me1  H3K27Ac  HiC  H3K27me3   \n",
       "chr1_0-200                      0        0        0    0         0  \\\n",
       "chr1_200-400                    0        0        0    0         0   \n",
       "chr1_400-600                    0        0        0    0         0   \n",
       "chr1_600-800                    0        0        0    0         0   \n",
       "chr1_800-1000                   0        0        0    0         0   \n",
       "...                           ...      ...      ...  ...       ...   \n",
       "chr22_51303600-51303800         0        0        0    0         0   \n",
       "chr22_51303800-51304000         0        0        0    0         0   \n",
       "chr22_51304000-51304200         0        0        0    0         0   \n",
       "chr22_51304200-51304400         0        0        0    0         0   \n",
       "chr22_51304400-51304566         0        0        0    0         0   \n",
       "\n",
       "                         RNA-Pol_ChIPseq  \n",
       "chr1_0-200                             0  \n",
       "chr1_200-400                           0  \n",
       "chr1_400-600                           0  \n",
       "chr1_600-800                           0  \n",
       "chr1_800-1000                          0  \n",
       "...                                  ...  \n",
       "chr22_51303600-51303800                0  \n",
       "chr22_51303800-51304000                0  \n",
       "chr22_51304000-51304200                0  \n",
       "chr22_51304200-51304400                0  \n",
       "chr22_51304400-51304566                0  \n",
       "\n",
       "[14405178 rows x 12 columns]"
      ]
     },
     "execution_count": 13,
     "metadata": {},
     "output_type": "execute_result"
    }
   ],
   "source": [
    "obs"
   ]
  },
  {
   "cell_type": "code",
   "execution_count": null,
   "id": "891b0de5-4fa0-449a-9fa2-bbad6dcb6006",
   "metadata": {
    "colab": {
     "base_uri": "https://localhost:8080/",
     "height": 206
    },
    "id": "fXFM830ftxPv",
    "outputId": "a7f47b57-a33a-4dbd-87f4-d0f7b2479321"
   },
   "outputs": [
    {
     "data": {
      "text/html": [
       "<div>\n",
       "<style scoped>\n",
       "    .dataframe tbody tr th:only-of-type {\n",
       "        vertical-align: middle;\n",
       "    }\n",
       "\n",
       "    .dataframe tbody tr th {\n",
       "        vertical-align: top;\n",
       "    }\n",
       "\n",
       "    .dataframe thead th {\n",
       "        text-align: right;\n",
       "    }\n",
       "</style>\n",
       "<table border=\"1\" class=\"dataframe\">\n",
       "  <thead>\n",
       "    <tr style=\"text-align: right;\">\n",
       "      <th></th>\n",
       "      <th>chr</th>\n",
       "      <th>start</th>\n",
       "      <th>end</th>\n",
       "      <th>H3K4me2</th>\n",
       "      <th>H3K9Ac</th>\n",
       "      <th>H3K4me3</th>\n",
       "      <th>ATAC-seq</th>\n",
       "      <th>H3K4me1</th>\n",
       "      <th>H3K27Ac</th>\n",
       "      <th>HiC</th>\n",
       "      <th>H3K27me3</th>\n",
       "      <th>RNA-Pol_ChIPseq</th>\n",
       "    </tr>\n",
       "  </thead>\n",
       "  <tbody>\n",
       "    <tr>\n",
       "      <th>chr1_0-200</th>\n",
       "      <td>chr1</td>\n",
       "      <td>0</td>\n",
       "      <td>200</td>\n",
       "      <td>0</td>\n",
       "      <td>0</td>\n",
       "      <td>0</td>\n",
       "      <td>0</td>\n",
       "      <td>0</td>\n",
       "      <td>0</td>\n",
       "      <td>0</td>\n",
       "      <td>0</td>\n",
       "      <td>0</td>\n",
       "    </tr>\n",
       "    <tr>\n",
       "      <th>chr1_200-400</th>\n",
       "      <td>chr1</td>\n",
       "      <td>200</td>\n",
       "      <td>400</td>\n",
       "      <td>0</td>\n",
       "      <td>0</td>\n",
       "      <td>0</td>\n",
       "      <td>0</td>\n",
       "      <td>0</td>\n",
       "      <td>0</td>\n",
       "      <td>0</td>\n",
       "      <td>0</td>\n",
       "      <td>0</td>\n",
       "    </tr>\n",
       "    <tr>\n",
       "      <th>chr1_400-600</th>\n",
       "      <td>chr1</td>\n",
       "      <td>400</td>\n",
       "      <td>600</td>\n",
       "      <td>0</td>\n",
       "      <td>0</td>\n",
       "      <td>0</td>\n",
       "      <td>0</td>\n",
       "      <td>0</td>\n",
       "      <td>0</td>\n",
       "      <td>0</td>\n",
       "      <td>0</td>\n",
       "      <td>0</td>\n",
       "    </tr>\n",
       "    <tr>\n",
       "      <th>chr1_600-800</th>\n",
       "      <td>chr1</td>\n",
       "      <td>600</td>\n",
       "      <td>800</td>\n",
       "      <td>0</td>\n",
       "      <td>0</td>\n",
       "      <td>0</td>\n",
       "      <td>0</td>\n",
       "      <td>0</td>\n",
       "      <td>0</td>\n",
       "      <td>0</td>\n",
       "      <td>0</td>\n",
       "      <td>0</td>\n",
       "    </tr>\n",
       "    <tr>\n",
       "      <th>chr1_800-1000</th>\n",
       "      <td>chr1</td>\n",
       "      <td>800</td>\n",
       "      <td>1000</td>\n",
       "      <td>0</td>\n",
       "      <td>0</td>\n",
       "      <td>0</td>\n",
       "      <td>0</td>\n",
       "      <td>0</td>\n",
       "      <td>0</td>\n",
       "      <td>0</td>\n",
       "      <td>0</td>\n",
       "      <td>0</td>\n",
       "    </tr>\n",
       "  </tbody>\n",
       "</table>\n",
       "</div>"
      ],
      "text/plain": [
       "                chr  start   end  H3K4me2  H3K9Ac  H3K4me3  ATAC-seq  H3K4me1   \n",
       "chr1_0-200     chr1      0   200        0       0        0         0        0  \\\n",
       "chr1_200-400   chr1    200   400        0       0        0         0        0   \n",
       "chr1_400-600   chr1    400   600        0       0        0         0        0   \n",
       "chr1_600-800   chr1    600   800        0       0        0         0        0   \n",
       "chr1_800-1000  chr1    800  1000        0       0        0         0        0   \n",
       "\n",
       "               H3K27Ac  HiC  H3K27me3  RNA-Pol_ChIPseq  \n",
       "chr1_0-200           0    0         0                0  \n",
       "chr1_200-400         0    0         0                0  \n",
       "chr1_400-600         0    0         0                0  \n",
       "chr1_600-800         0    0         0                0  \n",
       "chr1_800-1000        0    0         0                0  "
      ]
     },
     "execution_count": 16,
     "metadata": {},
     "output_type": "execute_result"
    }
   ],
   "source": [
    "obs.iloc[0:5,:]"
   ]
  },
  {
   "cell_type": "code",
   "execution_count": null,
   "id": "4d870cd7-07f5-40e5-80b7-28446fc09015",
   "metadata": {
    "id": "5MPtjopZuhBY"
   },
   "outputs": [],
   "source": [
    "os.makedirs(os.path.join(\"/Users/fionshiau/comp_geno\",'merged'),exist_ok=True)"
   ]
  },
  {
   "cell_type": "code",
   "execution_count": null,
   "id": "4def006c-2b33-4c7a-8c5a-35489b09f14e",
   "metadata": {
    "id": "ZUq1xjhDqVgC"
   },
   "outputs": [],
   "source": [
    "local_path = \"/Users/fionshiau/comp_geno\"\n",
    "obs.to_csv(os.path.join(local_path,'merged','merged_1.csv'))"
   ]
  }
 ],
 "metadata": {
  "kernelspec": {
   "display_name": "Python 3 (ipykernel)",
   "language": "python",
   "name": "python3"
  },
  "language_info": {
   "codemirror_mode": {
    "name": "ipython",
    "version": 3
   },
   "file_extension": ".py",
   "mimetype": "text/x-python",
   "name": "python",
   "nbconvert_exporter": "python",
   "pygments_lexer": "ipython3",
   "version": "3.10.10"
  }
 },
 "nbformat": 4,
 "nbformat_minor": 5
}
